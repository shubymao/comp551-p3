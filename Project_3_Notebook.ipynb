{
  "nbformat": 4,
  "nbformat_minor": 0,
  "metadata": {
    "accelerator": "GPU",
    "colab": {
      "name": "Project 3 Notebook.ipynb",
      "provenance": [],
      "collapsed_sections": [],
      "include_colab_link": true
    },
    "deepnote": {
      "is_reactive": false
    },
    "deepnote_execution_queue": [
      {
        "cellId": "00014-5023c705-89c0-4b0d-8475-31dbf86965f1",
        "msgId": "df859eb8-5087-492b-81a0-bf32da9d72c2",
        "sessionId": "ba7e9811-adf0-4ae0-bc6e-78a462d11bf3"
      }
    ],
    "deepnote_notebook_id": "6ceacadf-544f-46ff-b007-fbadf7aa1867",
    "kernelspec": {
      "display_name": "Python 3",
      "name": "python3"
    },
    "language_info": {
      "name": "python"
    }
  },
  "cells": [
    {
      "cell_type": "markdown",
      "metadata": {
        "id": "view-in-github",
        "colab_type": "text"
      },
      "source": [
        "<a href=\"https://colab.research.google.com/github/shubymao/comp551-p3/blob/shuby-dev/Project_3_Notebook.ipynb\" target=\"_parent\"><img src=\"https://colab.research.google.com/assets/colab-badge.svg\" alt=\"Open In Colab\"/></a>"
      ]
    },
    {
      "cell_type": "markdown",
      "metadata": {
        "id": "Msqh4iDyCudk"
      },
      "source": [
        "# Project 3 - Convolution Neural Network"
      ]
    },
    {
      "cell_type": "markdown",
      "metadata": {
        "id": "CpzLeM6RCudt"
      },
      "source": [
        "## Team Members"
      ]
    },
    {
      "cell_type": "markdown",
      "metadata": {
        "id": "LjQkokOPCudu"
      },
      "source": [
        "Le-Li Mao (260800098)"
      ]
    },
    {
      "cell_type": "markdown",
      "metadata": {
        "id": "diF0MA9uCudu"
      },
      "source": [
        "Victor Livernoche (260926276)"
      ]
    },
    {
      "cell_type": "markdown",
      "metadata": {
        "id": "XXsMnElHCudv"
      },
      "source": [
        "Enan Ashaduzzaman (260805923)"
      ]
    },
    {
      "cell_type": "markdown",
      "metadata": {
        "id": "GXOuUvc6Cudw"
      },
      "source": [
        "## Initializing Dependency"
      ]
    },
    {
      "cell_type": "code",
      "metadata": {
        "colab": {
          "base_uri": "https://localhost:8080/"
        },
        "id": "RNubcKypCudx",
        "outputId": "9edacb79-6e60-4748-d888-682817062305"
      },
      "source": [
        "from __future__ import print_function\n",
        "import pickle as pkl\n",
        "import numpy as np\n",
        "import argparse\n",
        "from tqdm import tqdm\n",
        "from sklearn.preprocessing import normalize\n",
        "import random\n",
        "import cv2\n",
        "\n",
        "import torch\n",
        "import torch.nn as nn\n",
        "import torch.nn.functional as F\n",
        "import torch.optim as optim\n",
        "from torch.utils.data import TensorDataset, DataLoader, random_split\n",
        "import torchvision.transforms.functional as TF\n",
        "import pandas as pd\n",
        "\n",
        "%matplotlib inline\n",
        "from mpl_toolkits.axes_grid1 import ImageGrid\n",
        "import matplotlib.pyplot as plt\n",
        "import string\n",
        "from google.colab import drive\n",
        "drive.mount('/content/drive')\n",
        "# print(torch.cuda.get_device_name(0))\n",
        "device = torch.device('cuda' if torch.cuda.is_available() else 'cpu')\n",
        "print(device)"
      ],
      "execution_count": 1,
      "outputs": [
        {
          "output_type": "stream",
          "name": "stdout",
          "text": [
            "Drive already mounted at /content/drive; to attempt to forcibly remount, call drive.mount(\"/content/drive\", force_remount=True).\n",
            "cuda\n"
          ]
        }
      ]
    },
    {
      "cell_type": "markdown",
      "metadata": {
        "id": "nhtudTKhCudz"
      },
      "source": [
        "## Loading Data"
      ]
    },
    {
      "cell_type": "code",
      "metadata": {
        "id": "nTc9y2J_Cud0"
      },
      "source": [
        "mapping = list(string.ascii_lowercase) \n",
        "training_data, training_labels, testing_data = None, None, None\n",
        "with open(\"/content/drive/My Drive/data/images_l.pkl\", 'rb') as f: \n",
        "    training_data = pkl.load(f)\n",
        "with open(\"/content/drive/My Drive/data/labels_l.pkl\", 'rb') as f: \n",
        "    training_labels = pkl.load(f)\n",
        "with open(\"/content/drive/My Drive/data/images_test.pkl\", 'rb') as f: \n",
        "    testing_data = pkl.load(f)"
      ],
      "execution_count": 2,
      "outputs": []
    },
    {
      "cell_type": "markdown",
      "metadata": {
        "id": "I6d_j7rMFpZg"
      },
      "source": [
        "## Preprocessing"
      ]
    },
    {
      "cell_type": "markdown",
      "metadata": {
        "id": "8O-Sz56Rptrd"
      },
      "source": [
        "### Preprocessing Helper Functions"
      ]
    },
    {
      "cell_type": "code",
      "metadata": {
        "id": "n5_VqihgmpXu"
      },
      "source": [
        "def convert_labels_to_readables(labels):\n",
        "  readables = []\n",
        "  for label in labels:\n",
        "    l1, l2 = int(label[0]), mapping[label[1].int()]\n",
        "    readables.append((l1,l2,))\n",
        "  return readables"
      ],
      "execution_count": 105,
      "outputs": []
    },
    {
      "cell_type": "code",
      "metadata": {
        "id": "67D6zKQtpG8h"
      },
      "source": [
        "# show images\n",
        "def img_grid(row,col,imgs):\n",
        "  if imgs is None: return\n",
        "  for r in range(row):\n",
        "    fig, axs = plt.subplots(nrows=1, ncols=col, figsize=(7.,10.))\n",
        "    for i, ax in enumerate(axs.flatten()):\n",
        "        if(len(imgs) <= r*col+i): \n",
        "          return\n",
        "        plt.sca(ax)\n",
        "        plt.imshow(imgs[r*col+i])    \n",
        "    # plt.colorbar()\n",
        "    plt.show()"
      ],
      "execution_count": 44,
      "outputs": []
    },
    {
      "cell_type": "code",
      "metadata": {
        "colab": {
          "base_uri": "https://localhost:8080/",
          "height": 228
        },
        "id": "Phh_bfmCrzPf",
        "outputId": "dcb8038e-2fd9-4f35-cc58-786136854640"
      },
      "source": [
        "def generate_rotation(image_tensor, rotate_angles=[-20,20]):\n",
        "    outputs = []\n",
        "    for angle in rotate_angles:\n",
        "      outputs.append(TF.rotate(image_tensor, angle))\n",
        "    return outputs\n",
        "\n",
        "sample_tensor = torch.from_numpy(training_data[0,None]).float()\n",
        "rotated_tensor = generate_random_rotation(sample_tensor)[0]\n",
        "img_grid(1,2,[sample_tensor[0],rotated_tensor[0]])"
      ],
      "execution_count": 88,
      "outputs": [
        {
          "output_type": "display_data",
          "data": {
            "image/png": "[encoded data removed]",
            "text/plain": [
              "<Figure size 504x720 with 2 Axes>"
            ]
          },
          "metadata": {
            "needs_background": "light"
          }
        }
      ]
    },
    {
      "cell_type": "code",
      "metadata": {
        "colab": {
          "base_uri": "https://localhost:8080/",
          "height": 228
        },
        "id": "HfO06Y0L1q56",
        "outputId": "4378e618-1e37-4308-f65b-df4c8689bc77"
      },
      "source": [
        "def generate_blur(image_tensor, blur_kernal = [1]):\n",
        "  outputs = []\n",
        "  for k in blur_kernal:\n",
        "    outputs.append(TF.gaussian_blur(image_tensor, [k,k]))\n",
        "  return outputs\n",
        "\n",
        "sample_tensor = torch.from_numpy(training_data[0,None]).float()\n",
        "sharp_tensor = generate_random_sharpness(sample_tensor,1)[0]\n",
        "img_grid(1,2,[sample_tensor[0],sharp_tensor[0]])"
      ],
      "execution_count": 89,
      "outputs": [
        {
          "output_type": "display_data",
          "data": {
            "image/png": "[encoded data removed]",
            "text/plain": [
              "<Figure size 504x720 with 2 Axes>"
            ]
          },
          "metadata": {
            "needs_background": "light"
          }
        }
      ]
    },
    {
      "cell_type": "code",
      "metadata": {
        "id": "SBJcLOQAXrKY"
      },
      "source": [
        "# transform all data to the output format\n",
        "def process_data(data, labels, rotate_angles = [-30,-15,15,30], blur_kernal = [1,3]):\n",
        "  multiplier = (1+len(rotate_angles)+len(blur_kernal))\n",
        "  data_tensor = torch.from_numpy(data[:,None]).float()\n",
        "  new_data = torch.empty((len(data)*multiplier,1,56,56))\n",
        "  num_labels = torch.empty(len(data)*multiplier)\n",
        "  letter_labels = torch.empty(len(data)*multiplier)\n",
        "  output_index = 0\n",
        "  for i in tqdm(range(len(data_tensor))):\n",
        "    # Assign the labels to the new data\n",
        "    num_labels[i*multiplier:(i+1)*multiplier] = int(np.argmax(labels[i,0:10]))\n",
        "    letter_labels[i*multiplier:(i+1)*multiplier] = int(np.argmax(labels[i,10:]))\n",
        "    # Creating the rotation and sharpness images\n",
        "    mean, std = torch.mean(data_tensor[i]), torch.std(data_tensor[i])\n",
        "    norm_img = TF.normalize(data_tensor[i], [mean], [std])\n",
        "    new_data[output_index] = norm_img; output_index+=1\n",
        "    for r_img in generate_rotation(norm_img, rotate_angles):\n",
        "      new_data[output_index] = r_img; output_index+=1\n",
        "    for s_img in generate_blur(norm_img, blur_kernal):\n",
        "      new_data[output_index] = s_img; output_index+=1\n",
        "  \n",
        "  # Creating the datasets\n",
        "  multi_label_tensor = torch.stack((num_labels,letter_labels), axis=1).long()\n",
        "  dataset = TensorDataset(new_data, multi_label_tensor)\n",
        "  return dataset\n",
        "  "
      ],
      "execution_count": 127,
      "outputs": []
    },
    {
      "cell_type": "markdown",
      "metadata": {
        "id": "P1Yf-lRvp0V4"
      },
      "source": [
        "### Processing The Data"
      ]
    },
    {
      "cell_type": "code",
      "metadata": {
        "colab": {
          "base_uri": "https://localhost:8080/"
        },
        "id": "peHFpFQsvaQg",
        "outputId": "f8eb1d6d-f117-49eb-cc35-f6ab2cc4a6e1"
      },
      "source": [
        "combined_dataset = process_data(training_data, training_labels)"
      ],
      "execution_count": null,
      "outputs": [
        {
          "output_type": "stream",
          "name": "stderr",
          "text": [
            " 57%|█████▋    | 16964/30000 [01:15<1:33:03,  2.33it/s]"
          ]
        }
      ]
    },
    {
      "cell_type": "code",
      "metadata": {
        "colab": {
          "base_uri": "https://localhost:8080/",
          "height": 238
        },
        "id": "0aXcu3HsziKE",
        "outputId": "97cc4404-29d3-4c61-990d-0b1f23f17d7d"
      },
      "source": [
        "def show_sample(n):\n",
        "  perm = torch.randperm(len(combined_dataset))\n",
        "  idx = perm[:n]\n",
        "  data, labels = combined_dataset[idx]\n",
        "  img_grid(n//5,5 , data[:,0])\n",
        "  print(convert_labels_to_readables(labels))\n",
        "show_sample(10)"
      ],
      "execution_count": 121,
      "outputs": [
        {
          "output_type": "display_data",
          "data": {
            "image/png": "[encoded data removed]",
            "text/plain": [
              "<Figure size 504x720 with 5 Axes>"
            ]
          },
          "metadata": {
            "needs_background": "light"
          }
        },
        {
          "output_type": "display_data",
          "data": {
            "image/png": "[encoded data removed]",
            "text/plain": [
              "<Figure size 504x720 with 5 Axes>"
            ]
          },
          "metadata": {
            "needs_background": "light"
          }
        },
        {
          "output_type": "stream",
          "name": "stdout",
          "text": [
            "[(6, 'a'), (0, 'u'), (1, 'r'), (6, 'r'), (8, 'g'), (8, 'k'), (2, 'w'), (8, 'c'), (3, 'p'), (6, 'n')]\n"
          ]
        }
      ]
    },
    {
      "cell_type": "markdown",
      "metadata": {
        "id": "eo0NbFKGJDbi"
      },
      "source": [
        "Put the data into dataloader"
      ]
    },
    {
      "cell_type": "code",
      "metadata": {
        "id": "ef_-4cWkCud2"
      },
      "source": [
        "def make_training_data_loader(combined_dataset, batch_size=30, shuffle=True, num_workers=2):\n",
        "  train_size = int(0.9*len(combined_dataset))\n",
        "  validation_size = len(combined_dataset)-train_size\n",
        "  training_dataset, validation_dataset = random_split(combined_dataset, [train_size, validation_size])\n",
        "  training_dataloader = DataLoader(training_dataset, batch_size = batch_size, shuffle = shuffle, num_workers = num_workers)\n",
        "  validation_dataloader = DataLoader(validation_dataset, batch_size = batch_size, shuffle = shuffle, num_workers = num_workers)\n",
        "  return training_dataloader, validation_dataloader\n",
        "\n",
        "training_loader, validation_loader = make_training_data_loader(combined_dataset)"
      ],
      "execution_count": 122,
      "outputs": []
    },
    {
      "cell_type": "markdown",
      "metadata": {
        "id": "7wL3AbTECud4"
      },
      "source": [
        "## Training Model"
      ]
    },
    {
      "cell_type": "markdown",
      "metadata": {
        "id": "6Hjn-Gkl09aY"
      },
      "source": [
        "### Multi-Output Model"
      ]
    },
    {
      "cell_type": "markdown",
      "metadata": {
        "id": "8XVNq7TyM3nc"
      },
      "source": [
        "Initalize the Multilabel Model"
      ]
    },
    {
      "cell_type": "code",
      "metadata": {
        "id": "mzXNmXUTM870"
      },
      "source": [
        "class MultiNet(nn.Module):\n",
        "    def __init__(self):\n",
        "        super(MultiNet, self).__init__()\n",
        "         # 4 convolution layer\n",
        "        self.conv1 = nn.Conv2d(1, 64, 3, padding='same')\n",
        "        self.conv2 = nn.Conv2d(64, 64, 3, padding='same')\n",
        "        self.conv3 = nn.Conv2d(64, 128, 3, padding='same')\n",
        "        self.conv4 = nn.Conv2d(128, 256, 3, padding='same')\n",
        "        \n",
        "        self.pool2 = nn.MaxPool2d(2, 2)\n",
        "\n",
        "        # 3 Dense Layer\n",
        "        self.fc11 = nn.Linear(256*3*3, 1000)\n",
        "        self.fc12 = nn.Linear(256*3*3, 1000)\n",
        "        self.fc21 = nn.Linear(1000, 100)\n",
        "        self.fc22 = nn.Linear(1000, 1000)\n",
        "        self.fc31 = nn.Linear(100, 10)\n",
        "        self.fc32 = nn.Linear(1000, 26)\n",
        "\n",
        "    def forward(self, x):\n",
        "        # Convolution Layers\n",
        "        x = F.relu(self.conv1(x))\n",
        "        x = self.pool2(x)\n",
        "        x = F.relu(self.conv2(x))\n",
        "        x = self.pool2(x)\n",
        "        x = F.relu(self.conv3(x))\n",
        "        x = self.pool2(x)\n",
        "        x = F.relu(self.conv4(x))\n",
        "        x = self.pool2(x)\n",
        "        # print(x.size())\n",
        "        # Dense Layers\n",
        "        x = x.view(-1,self.num_flat_features(x)) # Flatten\n",
        "        l1 = F.relu(self.fc21(F.relu(self.fc11(x))))\n",
        "        l2 = F.relu(self.fc22(F.relu(self.fc12(x))))\n",
        "        l1 = self.fc31(l1)\n",
        "        l2 = self.fc32(l2)\n",
        "        return l1,l2\n",
        "    \n",
        "    def num_flat_features(self, x):\n",
        "        size = x.size()[1:]  # all dimensions except the batch dimension\n",
        "        num_features = 1\n",
        "        for s in size:\n",
        "            num_features *= s\n",
        "        return num_features"
      ],
      "execution_count": 123,
      "outputs": []
    },
    {
      "cell_type": "markdown",
      "metadata": {
        "id": "WKNdllIHBlpL"
      },
      "source": [
        "### Custom Res Net with Multi Output"
      ]
    },
    {
      "cell_type": "code",
      "metadata": {
        "id": "Hunsos9-Bktj"
      },
      "source": [
        "def conv3x3(in_planes: int, out_planes: int, stride: int = 1, groups: int = 1, dilation: int = 1) -> nn.Conv2d:\n",
        "    \"\"\"3x3 convolution with padding\"\"\"\n",
        "    return nn.Conv2d(\n",
        "        in_planes,\n",
        "        out_planes,\n",
        "        kernel_size=3,\n",
        "        stride=stride,\n",
        "        padding=dilation,\n",
        "        groups=groups,\n",
        "        bias=False,\n",
        "        dilation=dilation,\n",
        "    )\n",
        "\n",
        "def conv1x1(in_planes: int, out_planes: int, stride: int = 1) -> nn.Conv2d:\n",
        "    \"\"\"1x1 convolution\"\"\"\n",
        "    return nn.Conv2d(in_planes, out_planes, kernel_size=1, stride=stride, bias=False)\n",
        "\n",
        "class CustomResNet(nn.Module):\n",
        "\n",
        "    def __init__(self, norm_layer = None, groups = 1, width_per_group = 64):\n",
        "        self.inplanes = 64\n",
        "        self.dilation = 1\n",
        "        self.groups = groups\n",
        "        self.base_width = width_per_group\n",
        "        super(CustomResNet, self).__init__()\n",
        "        if norm_layer is None:\n",
        "            norm_layer = nn.BatchNorm2d\n",
        "        self._norm_layer = norm_layer\n",
        "        self.conv1 = nn.Conv2d(1, 64, 3, padding=1, bias=False)\n",
        "        self.bn1 = nn.BatchNorm2d(64)\n",
        "        self.relu = nn.ReLU(inplace=True)\n",
        "        self.maxpool = nn.MaxPool2d(kernel_size=2, stride=2, padding=1)\n",
        "        self.layer1 = self._make_layer(models.resnet.BasicBlock, 64, 2)\n",
        "        self.layer2 = self._make_layer(models.resnet.BasicBlock, 128, 2, stride=2)\n",
        "        self.layer3 = self._make_layer(models.resnet.BasicBlock, 256, 2, stride=2)\n",
        "        self.layer4 = self._make_layer(models.resnet.BasicBlock, 512, 2, stride=2)\n",
        "        self.avgpool = nn.AvgPool2d(3, stride=1)\n",
        "        self.fc1 = nn.Linear(2048, 10)\n",
        "        self.fc2 = nn.Linear(2048, 26)\n",
        "      \n",
        "    def _make_layer(self, block, planes, blocks, stride = 1, dilate = False):\n",
        "        norm_layer = self._norm_layer\n",
        "        downsample = None\n",
        "        previous_dilation = self.dilation\n",
        "        if dilate:\n",
        "            self.dilation *= stride\n",
        "            stride = 1\n",
        "        if stride != 1 or self.inplanes != planes * block.expansion:\n",
        "            downsample = nn.Sequential(\n",
        "                conv1x1(self.inplanes, planes * block.expansion, stride),\n",
        "                norm_layer(planes * block.expansion),\n",
        "            )\n",
        "\n",
        "        layers = []\n",
        "        layers.append(\n",
        "            block(\n",
        "                self.inplanes, planes, stride, downsample, self.groups, self.base_width, previous_dilation, norm_layer\n",
        "            )\n",
        "        )\n",
        "        self.inplanes = planes * block.expansion\n",
        "        for _ in range(1, blocks):\n",
        "            layers.append(\n",
        "                block(self.inplanes, planes,groups=self.groups,\n",
        "                    base_width=self.base_width,\n",
        "                    dilation=self.dilation,\n",
        "                    norm_layer=norm_layer,\n",
        "                )\n",
        "            )\n",
        "\n",
        "        return nn.Sequential(*layers)\n",
        "\n",
        "    def forward(self, x):\n",
        "        x = self.maxpool(self.relu(self.bn1(self.conv1(x))))\n",
        "        x = self.layer1(x)\n",
        "        x = self.layer2(x)\n",
        "        x = self.layer3(x)\n",
        "        x = self.layer4(x)\n",
        "        x = self.avgpool(x)\n",
        "        x = torch.flatten(x, 1)\n",
        "        l1 = self.fc1(x)\n",
        "        l2 = self.fc2(x)\n",
        "        return l1,l2\n"
      ],
      "execution_count": 96,
      "outputs": []
    },
    {
      "cell_type": "markdown",
      "metadata": {
        "id": "qfxLeadfDMFt"
      },
      "source": [
        "### Training and Validation"
      ]
    },
    {
      "cell_type": "markdown",
      "metadata": {
        "id": "F_VOUOUHcFZW"
      },
      "source": [
        "Initialize network validation and training function"
      ]
    },
    {
      "cell_type": "code",
      "metadata": {
        "id": "AwkzEV1q8TNm"
      },
      "source": [
        "def validate_model(model, validation_dataloader):\n",
        "  digit_acc, letter_acc = 0, 0\n",
        "  print(\"Starting Validation Iteration\")\n",
        "  for i, validation_data in enumerate(tqdm(validation_dataloader)):\n",
        "    inputs, labels = validation_data\n",
        "    o1, o2 = model(inputs)\n",
        "    l1, l2 = labels[:,0], labels[:,1]\n",
        "    digit_acc += torch.mean((torch.argmax(o1, dim=1) == l1).float()).float()\n",
        "    letter_acc += torch.mean((torch.argmax(o2, dim=1) == l2).float())\n",
        "  digit_acc = digit_acc/len(validation_dataloader)\n",
        "  letter_acc = letter_acc / len(validation_dataloader)\n",
        "  print(f'\\n Digit Accuracy: {digit_acc.item()}, Letter Accuracy: {letter_acc.item()}')\n",
        "  return (digit_acc.item(), letter_acc.item())"
      ],
      "execution_count": 124,
      "outputs": []
    },
    {
      "cell_type": "code",
      "metadata": {
        "id": "H7Bsqq4ECud6"
      },
      "source": [
        "def train_network(net, optimizer, dataloader, validation_dataloader, criterion, max_epoch = 10):\n",
        "  running_loss = 0.0\n",
        "  digits_accs, letter_accs = [], []\n",
        "  for epoch in range(max_epoch):  # loop over the dataset multiple times\n",
        "      cnt = 0\n",
        "      print(\"Starting Training Iteration\")\n",
        "      for i, data in enumerate(tqdm(dataloader)):\n",
        "          inputs, labels = data\n",
        "          optimizer.zero_grad()\n",
        "          outputs = net(inputs)\n",
        "          loss = criterion(outputs, labels)\n",
        "          loss.backward()\n",
        "          optimizer.step()\n",
        "          running_loss += loss.item()\n",
        "          cnt+=1\n",
        "      print('[%d] loss: %.3f' % (epoch + 1, running_loss / cnt))\n",
        "      running_loss, cnt = 0.0, 0\n",
        "      if validation_dataloader is not None:\n",
        "        digit_acc, letter_acc = validate_model(net, validation_dataloader)\n",
        "        digits_accs.append(digit_acc)\n",
        "        letter_accs.append(letter_acc)\n",
        "  return (digits_accs, letter_accs)"
      ],
      "execution_count": 125,
      "outputs": []
    },
    {
      "cell_type": "code",
      "metadata": {
        "id": "-nTa_yc4NHi3",
        "colab": {
          "base_uri": "https://localhost:8080/",
          "height": 1000
        },
        "outputId": "a4cfbed5-000f-4476-c446-b15073f7d671"
      },
      "source": [
        "def train_model(net, optimizer, run_validation = True, epoch = 1):\n",
        "  multi_net_criterion = nn.CrossEntropyLoss()\n",
        "  def ml_criterion(output, labels):\n",
        "    o1, o2 = output\n",
        "    l1, l2 = labels[:,0], labels[:,1]\n",
        "    print(o1)\n",
        "    print(o2)\n",
        "    loss1 = multi_net_criterion(o1,l1)\n",
        "    loss2 = multi_net_criterion(o2,l2)\n",
        "    return loss1 + loss2\n",
        "  if run_validation:\n",
        "    res = train_network(net, optimizer, training_loader, validation_loader, criterion=ml_criterion, max_epoch=epoch)\n",
        "    digit_accuracies, letter_accuracies = res\n",
        "  else: \n",
        "    res = train_network(net, training_loader, None, criterion=ml_criterion, lr=lr, max_epoch=epoch)\n",
        "  return net\n",
        "\n",
        "lr, momentum, weight_decay = 0.001, 0.9, 1e-4\n",
        "multi_net = MultiNet()\n",
        "optimizer = optim.SGD(multi_net.parameters(), lr=lr, momentum=momentum, weight_decay=weight_decay)\n",
        "multi_net = train_model(multi_net, optimizer, epoch = 5)"
      ],
      "execution_count": 126,
      "outputs": [
        {
          "output_type": "stream",
          "name": "stdout",
          "text": [
            "Starting Training Iteration\n"
          ]
        },
        {
          "output_type": "stream",
          "name": "stderr",
          "text": [
            "\r  0%|          | 0/6300 [00:00<?, ?it/s]"
          ]
        },
        {
          "output_type": "stream",
          "name": "stdout",
          "text": [
            "tensor([[-0.0167,  0.0862, -0.0017, -0.0129, -0.0951,  0.0370, -0.0537,  0.0903,\n",
            "         -0.0376, -0.0120],\n",
            "        [-0.0212,  0.0898, -0.0084, -0.0131, -0.0944,  0.0383, -0.0540,  0.0930,\n",
            "         -0.0320, -0.0243],\n",
            "        [-0.0204,  0.0889, -0.0080, -0.0091, -0.0940,  0.0369, -0.0516,  0.0911,\n",
            "         -0.0350, -0.0096],\n",
            "        [-0.0256,  0.0945,  0.0022, -0.0074, -0.0936,  0.0352, -0.0495,  0.0961,\n",
            "         -0.0360, -0.0180],\n",
            "        [-0.0283,  0.0951, -0.0061, -0.0041, -0.1008,  0.0407, -0.0461,  0.0881,\n",
            "         -0.0335, -0.0178],\n",
            "        [-0.0233,  0.0945, -0.0040, -0.0111, -0.0897,  0.0354, -0.0479,  0.0939,\n",
            "         -0.0332, -0.0193],\n",
            "        [-0.0233,  0.0886, -0.0098, -0.0102, -0.0965,  0.0363, -0.0511,  0.0909,\n",
            "         -0.0386, -0.0084],\n",
            "        [-0.0259,  0.0936,  0.0020, -0.0091, -0.0881,  0.0333, -0.0541,  0.0911,\n",
            "         -0.0337, -0.0073],\n",
            "        [-0.0260,  0.0939, -0.0071, -0.0101, -0.0915,  0.0347, -0.0516,  0.0910,\n",
            "         -0.0395, -0.0171],\n",
            "        [-0.0228,  0.0924, -0.0011, -0.0091, -0.0941,  0.0362, -0.0474,  0.0939,\n",
            "         -0.0333, -0.0208],\n",
            "        [-0.0263,  0.0934, -0.0017, -0.0083, -0.0915,  0.0399, -0.0518,  0.0856,\n",
            "         -0.0354, -0.0061],\n",
            "        [-0.0223,  0.0919, -0.0020, -0.0082, -0.0885,  0.0311, -0.0533,  0.0907,\n",
            "         -0.0329, -0.0119],\n",
            "        [-0.0207,  0.0941,  0.0028, -0.0087, -0.0946,  0.0370, -0.0527,  0.0964,\n",
            "         -0.0392, -0.0125],\n",
            "        [-0.0186,  0.0917, -0.0020, -0.0115, -0.0915,  0.0284, -0.0527,  0.0969,\n",
            "         -0.0329, -0.0184],\n",
            "        [-0.0210,  0.0933, -0.0022, -0.0086, -0.0856,  0.0347, -0.0513,  0.0897,\n",
            "         -0.0323, -0.0081],\n",
            "        [-0.0251,  0.0929,  0.0008, -0.0082, -0.0953,  0.0210, -0.0437,  0.0924,\n",
            "         -0.0393, -0.0154],\n",
            "        [-0.0227,  0.0897, -0.0061, -0.0088, -0.0886,  0.0468, -0.0498,  0.0894,\n",
            "         -0.0343, -0.0128],\n",
            "        [-0.0238,  0.0928, -0.0024, -0.0091, -0.0942,  0.0351, -0.0492,  0.0957,\n",
            "         -0.0363, -0.0162],\n",
            "        [-0.0268,  0.0992, -0.0032, -0.0038, -0.0933,  0.0424, -0.0481,  0.0943,\n",
            "         -0.0355, -0.0190],\n",
            "        [-0.0243,  0.0925, -0.0038, -0.0096, -0.0922,  0.0333, -0.0516,  0.0916,\n",
            "         -0.0343, -0.0166],\n",
            "        [-0.0306,  0.0942, -0.0047, -0.0084, -0.0918,  0.0385, -0.0489,  0.0936,\n",
            "         -0.0348, -0.0220],\n",
            "        [-0.0198,  0.0936, -0.0023, -0.0124, -0.0916,  0.0446, -0.0504,  0.0918,\n",
            "         -0.0361, -0.0194],\n",
            "        [-0.0205,  0.0911, -0.0036, -0.0088, -0.0943,  0.0331, -0.0468,  0.0952,\n",
            "         -0.0416, -0.0195],\n",
            "        [-0.0270,  0.0929, -0.0071, -0.0089, -0.0950,  0.0450, -0.0453,  0.0857,\n",
            "         -0.0306, -0.0127],\n",
            "        [-0.0242,  0.0939, -0.0090, -0.0083, -0.0971,  0.0337, -0.0501,  0.0881,\n",
            "         -0.0370, -0.0211],\n",
            "        [-0.0279,  0.0908, -0.0086, -0.0093, -0.0906,  0.0308, -0.0541,  0.0895,\n",
            "         -0.0376, -0.0184],\n",
            "        [-0.0230,  0.0954, -0.0087, -0.0070, -0.0918,  0.0383, -0.0525,  0.0906,\n",
            "         -0.0371, -0.0146],\n",
            "        [-0.0204,  0.0919, -0.0115, -0.0053, -0.0924,  0.0482, -0.0467,  0.0870,\n",
            "         -0.0352, -0.0096],\n",
            "        [-0.0259,  0.0926, -0.0069, -0.0087, -0.0906,  0.0428, -0.0502,  0.0888,\n",
            "         -0.0352, -0.0145],\n",
            "        [-0.0206,  0.0988, -0.0080, -0.0070, -0.0937,  0.0358, -0.0552,  0.0908,\n",
            "         -0.0344, -0.0181]], grad_fn=<AddmmBackward0>)\n",
            "tensor([[ 1.2605e-02, -4.0971e-03, -3.4619e-03,  4.0734e-03,  6.4952e-04,\n",
            "          5.4477e-03,  1.2477e-03,  2.7883e-02,  1.7840e-03,  6.6552e-04,\n",
            "         -1.9013e-02,  2.1305e-02, -2.0346e-02,  6.4221e-02,  1.1558e-02,\n",
            "         -1.8451e-02,  4.8831e-02,  1.7807e-02, -1.7477e-02, -1.3929e-02,\n",
            "         -2.6705e-02,  1.6536e-02, -2.6193e-02,  4.3912e-02,  2.3569e-02,\n",
            "          1.4717e-03],\n",
            "        [ 9.0409e-03, -1.0520e-03, -1.7876e-03,  4.2136e-03, -1.3071e-03,\n",
            "          7.4153e-03,  8.5752e-03,  2.0150e-02,  3.8891e-03,  8.3333e-03,\n",
            "         -1.8256e-02,  2.2036e-02, -1.3699e-02,  6.3531e-02,  1.3353e-02,\n",
            "         -2.7515e-02,  5.0675e-02,  1.5531e-02, -1.2614e-02, -8.1676e-03,\n",
            "         -2.1722e-02,  1.5337e-02, -2.4626e-02,  3.9511e-02,  1.8200e-02,\n",
            "          5.3097e-03],\n",
            "        [ 1.1453e-02,  3.1805e-03, -1.6843e-03, -2.1756e-03, -1.1387e-03,\n",
            "          7.4759e-03,  7.6253e-03,  1.8681e-02,  9.6207e-03,  6.3253e-03,\n",
            "         -2.0946e-02,  2.8005e-02, -8.6514e-03,  5.8537e-02,  1.1916e-02,\n",
            "         -2.4092e-02,  4.9522e-02,  8.0315e-03, -7.0092e-03, -1.2274e-02,\n",
            "         -2.2894e-02,  1.2447e-02, -2.4520e-02,  3.8683e-02,  1.5980e-02,\n",
            "          3.3928e-03],\n",
            "        [ 1.3373e-02, -1.9835e-03, -6.1410e-03,  6.3697e-03, -1.3390e-03,\n",
            "         -2.9596e-03,  1.2937e-02,  2.7982e-02,  1.3215e-02,  5.2946e-03,\n",
            "         -2.1503e-02,  2.2723e-02, -2.0267e-02,  6.4633e-02,  1.3991e-02,\n",
            "         -1.6016e-02,  4.6777e-02,  9.4832e-03, -1.9412e-02, -4.0285e-03,\n",
            "         -1.9165e-02,  1.1813e-02, -2.0305e-02,  3.3786e-02,  1.3219e-02,\n",
            "          1.6901e-02],\n",
            "        [ 9.7930e-03, -3.5780e-03, -1.4640e-05,  7.6569e-03,  4.9984e-03,\n",
            "          1.3580e-02,  1.9967e-02,  2.9654e-02, -2.2759e-04,  4.1549e-03,\n",
            "         -1.7379e-02,  1.8200e-02, -2.2623e-02,  6.7609e-02,  1.0146e-02,\n",
            "         -2.1624e-02,  4.3134e-02,  1.0560e-02, -1.3442e-02, -9.1499e-03,\n",
            "         -2.3521e-02,  1.2286e-02, -2.6546e-02,  3.6910e-02,  1.3783e-02,\n",
            "          2.4582e-03],\n",
            "        [ 1.7123e-02, -2.5677e-03, -1.4085e-03,  4.8731e-03,  1.6506e-03,\n",
            "          5.6843e-03,  1.1462e-02,  2.4932e-02,  7.3555e-03,  8.7282e-03,\n",
            "         -1.6991e-02,  2.2201e-02, -1.3256e-02,  6.3748e-02,  9.2369e-03,\n",
            "         -1.7612e-02,  4.4439e-02,  1.4868e-02, -1.6362e-02, -6.1604e-03,\n",
            "         -1.9251e-02,  1.1409e-02, -2.2802e-02,  3.3242e-02,  1.4800e-02,\n",
            "          1.4884e-02],\n",
            "        [ 9.3872e-03, -5.4228e-03, -6.1585e-04,  2.7158e-03,  8.0329e-04,\n",
            "          5.1551e-03,  5.9100e-03,  2.3155e-02,  3.1421e-03,  9.0117e-03,\n",
            "         -1.7442e-02,  1.9288e-02, -1.0553e-02,  5.5827e-02,  8.9955e-03,\n",
            "         -2.0068e-02,  4.4682e-02,  8.7104e-03, -9.0647e-03, -8.7988e-03,\n",
            "         -2.0007e-02,  1.2522e-02, -2.5386e-02,  3.9167e-02,  1.4093e-02,\n",
            "          3.3439e-03],\n",
            "        [ 1.4751e-02, -1.5640e-03, -5.5286e-03,  2.2238e-03,  3.7106e-03,\n",
            "          4.8757e-03,  2.0650e-02,  2.1488e-02,  6.0203e-03, -1.9267e-03,\n",
            "         -1.9417e-02,  1.6055e-02, -1.2579e-02,  5.9256e-02,  1.2745e-02,\n",
            "         -1.5036e-02,  4.3198e-02,  1.5440e-02, -1.4873e-02, -6.3440e-03,\n",
            "         -1.9960e-02,  1.2365e-02, -1.3440e-02,  3.0645e-02,  1.4310e-02,\n",
            "          1.8243e-02],\n",
            "        [ 1.3158e-02, -7.3789e-03, -5.0660e-03,  2.0646e-03,  3.9586e-03,\n",
            "         -1.4341e-03,  1.3144e-02,  2.1971e-02,  3.9969e-03,  3.7300e-03,\n",
            "         -1.5781e-02,  1.8118e-02, -1.5485e-02,  5.5247e-02,  9.6647e-03,\n",
            "         -1.8207e-02,  4.8132e-02,  9.3944e-03, -1.1682e-02, -3.4375e-03,\n",
            "         -1.4782e-02,  1.1506e-02, -2.4092e-02,  3.1211e-02,  1.7215e-02,\n",
            "          1.8885e-02],\n",
            "        [ 1.3988e-02,  4.3479e-04, -1.4601e-03,  5.3743e-03, -5.2698e-03,\n",
            "         -3.3212e-03,  7.7307e-03,  3.0126e-02,  1.0006e-02,  4.8190e-03,\n",
            "         -2.0082e-02,  2.0870e-02, -1.9728e-02,  6.0709e-02,  1.4992e-02,\n",
            "         -1.6740e-02,  5.0368e-02,  1.4140e-02, -2.0230e-02, -4.5207e-03,\n",
            "         -1.8068e-02,  9.1638e-03, -2.5215e-02,  3.7160e-02,  1.7167e-02,\n",
            "          1.4378e-02],\n",
            "        [ 1.4174e-02, -3.2282e-03,  2.3093e-03, -4.5389e-04,  9.3944e-03,\n",
            "          4.4986e-03,  1.6145e-02,  1.6294e-02,  4.7574e-03,  2.2201e-03,\n",
            "         -1.4865e-02,  1.7746e-02, -2.0899e-02,  5.8837e-02,  1.1850e-02,\n",
            "         -1.4932e-02,  4.9777e-02,  1.5018e-02, -1.9934e-02, -7.7286e-03,\n",
            "         -1.7365e-02,  1.4507e-02, -2.4612e-02,  2.8417e-02,  1.2901e-02,\n",
            "          1.0522e-02],\n",
            "        [ 1.3806e-02, -5.0399e-03, -1.7145e-03,  3.1318e-03,  2.0351e-03,\n",
            "          1.5669e-03,  1.7323e-02,  2.1665e-02,  5.1580e-03,  1.3255e-03,\n",
            "         -1.5845e-02,  1.6593e-02, -1.3155e-02,  6.2718e-02,  1.1868e-02,\n",
            "         -8.1834e-03,  4.7696e-02,  1.5074e-02, -1.8267e-02, -7.0887e-03,\n",
            "         -2.2753e-02,  1.7287e-02, -2.6007e-02,  3.3705e-02,  1.4854e-02,\n",
            "          2.4280e-02],\n",
            "        [ 1.3906e-02, -1.4635e-03,  1.4772e-03, -1.2049e-03,  3.9274e-03,\n",
            "          1.6321e-03,  1.5414e-02,  2.6637e-02,  9.1353e-03,  5.1209e-03,\n",
            "         -2.1589e-02,  1.9413e-02, -1.7090e-02,  6.4279e-02,  1.4959e-02,\n",
            "         -1.2488e-02,  4.8465e-02,  1.4837e-02, -1.7417e-02, -7.7844e-03,\n",
            "         -1.9935e-02,  1.2819e-02, -2.1002e-02,  3.4070e-02,  1.5016e-02,\n",
            "          1.5765e-02],\n",
            "        [ 1.2337e-02, -1.1369e-06, -2.0073e-03,  6.8150e-03,  3.1598e-03,\n",
            "          4.6058e-03,  1.1410e-02,  2.8091e-02,  8.7314e-03,  6.9354e-03,\n",
            "         -2.0661e-02,  2.0420e-02, -2.0357e-02,  6.2541e-02,  2.0243e-02,\n",
            "         -1.6515e-02,  4.9301e-02,  8.8223e-03, -1.2994e-02, -2.5153e-03,\n",
            "         -1.7427e-02,  1.3327e-02, -1.8376e-02,  3.6887e-02,  1.6348e-02,\n",
            "          1.7103e-02],\n",
            "        [ 1.3889e-02, -2.5915e-03,  1.0668e-03,  4.8969e-03,  3.3922e-03,\n",
            "          3.8915e-03,  1.0305e-02,  1.5202e-02,  3.3656e-04,  3.3070e-03,\n",
            "         -1.5712e-02,  1.8254e-02, -1.4887e-02,  5.8807e-02,  4.5776e-03,\n",
            "         -9.7807e-03,  4.6791e-02,  1.6303e-02, -1.4888e-02, -7.3864e-03,\n",
            "         -1.8833e-02,  1.5354e-02, -2.5540e-02,  2.6024e-02,  1.9697e-02,\n",
            "          7.7188e-03],\n",
            "        [ 1.6163e-02,  1.2855e-04, -7.2177e-03,  1.0220e-02, -3.8084e-03,\n",
            "         -4.9964e-03,  1.2908e-02,  3.1053e-02,  1.2815e-02, -3.5157e-03,\n",
            "         -1.1355e-02,  2.4879e-02, -2.2425e-02,  6.2653e-02,  1.8655e-02,\n",
            "         -8.3399e-03,  5.0515e-02,  1.0386e-02, -2.7864e-02, -1.3080e-02,\n",
            "         -2.4696e-02,  1.1735e-02, -2.9946e-02,  4.1494e-02,  1.3809e-02,\n",
            "          1.6632e-02],\n",
            "        [ 1.4308e-02,  2.0725e-03, -3.2631e-04,  7.7336e-04,  1.2158e-03,\n",
            "          9.9488e-03,  1.2156e-02,  1.7772e-02,  3.1317e-03,  1.1705e-02,\n",
            "         -1.9457e-02,  2.5062e-02, -1.1465e-02,  6.0749e-02,  8.1690e-03,\n",
            "         -2.5715e-02,  5.0859e-02,  1.2349e-02, -9.4888e-03, -1.9118e-03,\n",
            "         -2.2048e-02,  1.3795e-02, -1.8717e-02,  3.3382e-02,  9.8151e-03,\n",
            "          7.3565e-03],\n",
            "        [ 1.3526e-02, -2.7199e-03, -6.8619e-03,  8.6568e-03, -2.6616e-03,\n",
            "          2.2433e-04,  1.4449e-02,  2.7505e-02,  7.6173e-03, -2.4141e-03,\n",
            "         -2.1769e-02,  1.9323e-02, -1.8317e-02,  6.2133e-02,  1.4229e-02,\n",
            "         -2.0640e-02,  4.9840e-02,  1.2302e-02, -1.5992e-02, -4.9652e-03,\n",
            "         -2.2481e-02,  1.0987e-02, -2.4169e-02,  3.6537e-02,  1.6590e-02,\n",
            "          1.6766e-02],\n",
            "        [ 1.8933e-02, -1.9654e-03, -1.7894e-03,  2.9607e-03,  1.2799e-03,\n",
            "          3.3673e-03,  1.2771e-02,  2.2683e-02,  7.0488e-03,  2.2371e-03,\n",
            "         -1.9621e-02,  2.1353e-02, -1.7105e-02,  6.4950e-02,  1.5511e-02,\n",
            "         -1.6603e-02,  5.3914e-02,  1.5476e-02, -1.8808e-02, -9.4365e-03,\n",
            "         -2.2135e-02,  1.2837e-02, -2.3571e-02,  3.5046e-02,  1.6542e-02,\n",
            "          1.9368e-02],\n",
            "        [ 1.2576e-02, -4.9815e-03, -2.8092e-03,  8.3975e-03,  4.8428e-04,\n",
            "         -9.2322e-04,  1.7381e-02,  2.3908e-02,  8.8940e-03,  1.0841e-02,\n",
            "         -2.1545e-02,  1.8808e-02, -2.0317e-02,  6.3934e-02,  1.1632e-02,\n",
            "         -1.7021e-02,  4.9630e-02,  1.3999e-02, -1.2591e-02, -2.8758e-03,\n",
            "         -1.6656e-02,  1.2152e-02, -2.2762e-02,  3.1460e-02,  1.5278e-02,\n",
            "          1.8795e-02],\n",
            "        [ 1.3326e-02,  3.8564e-03, -1.5833e-03,  9.8521e-04, -1.3959e-03,\n",
            "         -3.2226e-04,  1.4306e-02,  2.1572e-02,  4.7817e-03,  5.9114e-03,\n",
            "         -2.1350e-02,  2.0588e-02, -1.3938e-02,  6.3514e-02,  8.1217e-03,\n",
            "         -1.7877e-02,  5.2180e-02,  1.6567e-02, -1.2760e-02, -2.9872e-03,\n",
            "         -2.2535e-02,  1.2755e-02, -2.5602e-02,  3.3832e-02,  9.7939e-03,\n",
            "          9.7257e-03],\n",
            "        [ 1.2434e-02, -6.1756e-03, -3.9694e-03,  1.6779e-03,  2.2696e-04,\n",
            "         -1.3847e-03,  1.1829e-02,  2.6473e-02,  4.3591e-03,  5.0353e-03,\n",
            "         -1.7725e-02,  2.3213e-02, -1.6136e-02,  6.6469e-02,  8.3599e-03,\n",
            "         -2.0140e-02,  4.7505e-02,  1.2703e-02, -1.3678e-02, -6.4494e-03,\n",
            "         -2.3350e-02,  1.9671e-02, -2.2637e-02,  3.3834e-02,  1.3203e-02,\n",
            "          1.0338e-02],\n",
            "        [ 1.0612e-02, -5.8712e-03,  5.9778e-04,  7.0620e-03, -5.1458e-03,\n",
            "         -1.5747e-03,  9.7818e-03,  2.6032e-02,  8.7344e-03,  1.3338e-02,\n",
            "         -2.0051e-02,  2.3348e-02, -2.1244e-02,  6.3213e-02,  2.1590e-02,\n",
            "         -1.6620e-02,  5.2805e-02,  7.9430e-03, -1.1382e-02, -4.9959e-03,\n",
            "         -2.1602e-02,  1.4834e-02, -2.4139e-02,  3.7034e-02,  1.9941e-02,\n",
            "          1.3584e-02],\n",
            "        [ 1.5880e-02, -1.5117e-03,  1.4295e-03,  5.2902e-03,  3.2733e-03,\n",
            "          2.7161e-03,  1.5335e-02,  1.8640e-02,  2.0423e-03,  8.7926e-04,\n",
            "         -2.0781e-02,  1.9623e-02, -1.7432e-02,  5.9853e-02,  8.5639e-03,\n",
            "         -1.4661e-02,  5.0132e-02,  1.9912e-02, -1.7465e-02, -6.3285e-03,\n",
            "         -1.9811e-02,  1.7325e-02, -2.5653e-02,  3.0231e-02,  9.7619e-03,\n",
            "          1.1354e-02],\n",
            "        [ 1.4914e-02, -6.4833e-04, -7.1692e-03,  1.2731e-02, -3.3006e-03,\n",
            "          1.1596e-03,  1.4946e-02,  2.7177e-02,  1.1143e-03, -1.7245e-03,\n",
            "         -1.7016e-02,  1.6910e-02, -2.1156e-02,  6.1572e-02,  1.1515e-02,\n",
            "         -1.5922e-02,  4.9499e-02,  1.6262e-02, -2.5088e-02, -7.2706e-03,\n",
            "         -1.8579e-02,  2.1558e-02, -2.9639e-02,  3.7198e-02,  1.3598e-02,\n",
            "          1.3823e-02],\n",
            "        [ 7.8378e-03, -4.6146e-03, -3.6326e-03,  3.5319e-03,  8.1418e-04,\n",
            "         -1.8984e-03,  9.9774e-03,  2.4523e-02,  4.6194e-03,  3.0856e-03,\n",
            "         -1.6762e-02,  1.9557e-02, -1.7125e-02,  5.7897e-02,  1.0745e-02,\n",
            "         -1.7604e-02,  4.7617e-02,  9.3444e-03, -1.5248e-02, -4.6727e-03,\n",
            "         -1.5396e-02,  1.5298e-02, -2.7192e-02,  3.3800e-02,  2.0941e-02,\n",
            "          1.4799e-02],\n",
            "        [ 1.2687e-02, -6.6314e-03, -3.2506e-03,  3.1290e-04,  3.7533e-03,\n",
            "          1.1760e-03,  1.5789e-02,  1.8472e-02,  2.5045e-03,  2.6540e-03,\n",
            "         -1.6314e-02,  2.0249e-02, -1.3676e-02,  5.6446e-02,  1.0658e-02,\n",
            "         -2.2026e-02,  4.7228e-02,  9.2555e-03, -1.2193e-02, -8.9736e-03,\n",
            "         -1.5655e-02,  1.1910e-02, -2.3480e-02,  2.9489e-02,  1.4576e-02,\n",
            "          1.4784e-02],\n",
            "        [ 1.5971e-02,  5.6025e-04,  3.0848e-04, -4.9401e-03, -4.9474e-04,\n",
            "          5.4968e-03,  1.4986e-02,  1.6151e-02, -3.9878e-03,  8.2431e-03,\n",
            "         -1.5819e-02,  9.7447e-03, -1.1350e-02,  5.5207e-02,  5.8099e-03,\n",
            "         -2.0329e-02,  4.6666e-02,  1.1647e-02, -1.3063e-02, -1.1036e-02,\n",
            "         -1.7270e-02,  1.4692e-02, -2.3982e-02,  2.2253e-02,  1.8912e-02,\n",
            "          5.5279e-03],\n",
            "        [ 1.2999e-02, -5.1724e-03, -3.2252e-03, -9.3966e-04,  6.3939e-03,\n",
            "          9.7399e-04,  1.6495e-02,  1.7468e-02,  6.5368e-04,  2.1515e-03,\n",
            "         -1.4927e-02,  1.6516e-02, -1.3083e-02,  5.5836e-02,  7.1067e-03,\n",
            "         -1.8997e-02,  4.6215e-02,  5.9569e-03, -7.5352e-03, -4.5014e-03,\n",
            "         -1.4929e-02,  1.2403e-02, -2.0370e-02,  2.5482e-02,  1.7236e-02,\n",
            "          1.6043e-02],\n",
            "        [ 1.0271e-02, -1.0031e-02, -1.2713e-02,  8.4983e-03,  7.0044e-03,\n",
            "          1.4215e-03,  1.4811e-02,  2.8425e-02,  4.4701e-03,  5.9952e-04,\n",
            "         -1.9460e-02,  2.0896e-02, -2.1511e-02,  6.4897e-02,  1.1482e-02,\n",
            "         -1.3193e-02,  4.7089e-02,  1.3799e-02, -2.6639e-02, -8.0288e-03,\n",
            "         -1.7950e-02,  1.8273e-02, -2.6894e-02,  3.6754e-02,  1.4346e-02,\n",
            "          1.6579e-02]], grad_fn=<AddmmBackward0>)\n"
          ]
        },
        {
          "output_type": "stream",
          "name": "stderr",
          "text": [
            "\r  0%|          | 0/6300 [00:00<?, ?it/s]\n"
          ]
        },
        {
          "output_type": "error",
          "ename": "RuntimeError",
          "evalue": "ignored",
          "traceback": [
            "\u001b[0;31m---------------------------------------------------------------------------\u001b[0m",
            "\u001b[0;31mRuntimeError\u001b[0m                              Traceback (most recent call last)",
            "\u001b[0;32m<ipython-input-126-8676af5b166d>\u001b[0m in \u001b[0;36m<module>\u001b[0;34m()\u001b[0m\n\u001b[1;32m     19\u001b[0m \u001b[0mmulti_net\u001b[0m \u001b[0;34m=\u001b[0m \u001b[0mMultiNet\u001b[0m\u001b[0;34m(\u001b[0m\u001b[0;34m)\u001b[0m\u001b[0;34m\u001b[0m\u001b[0;34m\u001b[0m\u001b[0m\n\u001b[1;32m     20\u001b[0m \u001b[0moptimizer\u001b[0m \u001b[0;34m=\u001b[0m \u001b[0moptim\u001b[0m\u001b[0;34m.\u001b[0m\u001b[0mSGD\u001b[0m\u001b[0;34m(\u001b[0m\u001b[0mmulti_net\u001b[0m\u001b[0;34m.\u001b[0m\u001b[0mparameters\u001b[0m\u001b[0;34m(\u001b[0m\u001b[0;34m)\u001b[0m\u001b[0;34m,\u001b[0m \u001b[0mlr\u001b[0m\u001b[0;34m=\u001b[0m\u001b[0mlr\u001b[0m\u001b[0;34m,\u001b[0m \u001b[0mmomentum\u001b[0m\u001b[0;34m=\u001b[0m\u001b[0mmomentum\u001b[0m\u001b[0;34m,\u001b[0m \u001b[0mweight_decay\u001b[0m\u001b[0;34m=\u001b[0m\u001b[0mweight_decay\u001b[0m\u001b[0;34m)\u001b[0m\u001b[0;34m\u001b[0m\u001b[0;34m\u001b[0m\u001b[0m\n\u001b[0;32m---> 21\u001b[0;31m \u001b[0mmulti_net\u001b[0m \u001b[0;34m=\u001b[0m \u001b[0mtrain_model\u001b[0m\u001b[0;34m(\u001b[0m\u001b[0mmulti_net\u001b[0m\u001b[0;34m,\u001b[0m \u001b[0moptimizer\u001b[0m\u001b[0;34m,\u001b[0m \u001b[0mepoch\u001b[0m \u001b[0;34m=\u001b[0m \u001b[0;36m5\u001b[0m\u001b[0;34m)\u001b[0m\u001b[0;34m\u001b[0m\u001b[0;34m\u001b[0m\u001b[0m\n\u001b[0m",
            "\u001b[0;32m<ipython-input-126-8676af5b166d>\u001b[0m in \u001b[0;36mtrain_model\u001b[0;34m(net, optimizer, run_validation, epoch)\u001b[0m\n\u001b[1;32m     10\u001b[0m     \u001b[0;32mreturn\u001b[0m \u001b[0mloss1\u001b[0m \u001b[0;34m+\u001b[0m \u001b[0mloss2\u001b[0m\u001b[0;34m\u001b[0m\u001b[0;34m\u001b[0m\u001b[0m\n\u001b[1;32m     11\u001b[0m   \u001b[0;32mif\u001b[0m \u001b[0mrun_validation\u001b[0m\u001b[0;34m:\u001b[0m\u001b[0;34m\u001b[0m\u001b[0;34m\u001b[0m\u001b[0m\n\u001b[0;32m---> 12\u001b[0;31m     \u001b[0mres\u001b[0m \u001b[0;34m=\u001b[0m \u001b[0mtrain_network\u001b[0m\u001b[0;34m(\u001b[0m\u001b[0mnet\u001b[0m\u001b[0;34m,\u001b[0m \u001b[0moptimizer\u001b[0m\u001b[0;34m,\u001b[0m \u001b[0mtraining_loader\u001b[0m\u001b[0;34m,\u001b[0m \u001b[0mvalidation_loader\u001b[0m\u001b[0;34m,\u001b[0m \u001b[0mcriterion\u001b[0m\u001b[0;34m=\u001b[0m\u001b[0mml_criterion\u001b[0m\u001b[0;34m,\u001b[0m \u001b[0mmax_epoch\u001b[0m\u001b[0;34m=\u001b[0m\u001b[0mepoch\u001b[0m\u001b[0;34m)\u001b[0m\u001b[0;34m\u001b[0m\u001b[0;34m\u001b[0m\u001b[0m\n\u001b[0m\u001b[1;32m     13\u001b[0m     \u001b[0mdigit_accuracies\u001b[0m\u001b[0;34m,\u001b[0m \u001b[0mletter_accuracies\u001b[0m \u001b[0;34m=\u001b[0m \u001b[0mres\u001b[0m\u001b[0;34m\u001b[0m\u001b[0;34m\u001b[0m\u001b[0m\n\u001b[1;32m     14\u001b[0m   \u001b[0;32melse\u001b[0m\u001b[0;34m:\u001b[0m\u001b[0;34m\u001b[0m\u001b[0;34m\u001b[0m\u001b[0m\n",
            "\u001b[0;32m<ipython-input-125-1a32d3df02ef>\u001b[0m in \u001b[0;36mtrain_network\u001b[0;34m(net, optimizer, dataloader, validation_dataloader, criterion, max_epoch)\u001b[0m\n\u001b[1;32m      9\u001b[0m           \u001b[0moptimizer\u001b[0m\u001b[0;34m.\u001b[0m\u001b[0mzero_grad\u001b[0m\u001b[0;34m(\u001b[0m\u001b[0;34m)\u001b[0m\u001b[0;34m\u001b[0m\u001b[0;34m\u001b[0m\u001b[0m\n\u001b[1;32m     10\u001b[0m           \u001b[0moutputs\u001b[0m \u001b[0;34m=\u001b[0m \u001b[0mnet\u001b[0m\u001b[0;34m(\u001b[0m\u001b[0minputs\u001b[0m\u001b[0;34m)\u001b[0m\u001b[0;34m\u001b[0m\u001b[0;34m\u001b[0m\u001b[0m\n\u001b[0;32m---> 11\u001b[0;31m           \u001b[0mloss\u001b[0m \u001b[0;34m=\u001b[0m \u001b[0mcriterion\u001b[0m\u001b[0;34m(\u001b[0m\u001b[0moutputs\u001b[0m\u001b[0;34m,\u001b[0m \u001b[0mlabels\u001b[0m\u001b[0;34m)\u001b[0m\u001b[0;34m\u001b[0m\u001b[0;34m\u001b[0m\u001b[0m\n\u001b[0m\u001b[1;32m     12\u001b[0m           \u001b[0mloss\u001b[0m\u001b[0;34m.\u001b[0m\u001b[0mbackward\u001b[0m\u001b[0;34m(\u001b[0m\u001b[0;34m)\u001b[0m\u001b[0;34m\u001b[0m\u001b[0;34m\u001b[0m\u001b[0m\n\u001b[1;32m     13\u001b[0m           \u001b[0moptimizer\u001b[0m\u001b[0;34m.\u001b[0m\u001b[0mstep\u001b[0m\u001b[0;34m(\u001b[0m\u001b[0;34m)\u001b[0m\u001b[0;34m\u001b[0m\u001b[0;34m\u001b[0m\u001b[0m\n",
            "\u001b[0;32m<ipython-input-126-8676af5b166d>\u001b[0m in \u001b[0;36mml_criterion\u001b[0;34m(output, labels)\u001b[0m\n\u001b[1;32m      6\u001b[0m     \u001b[0mprint\u001b[0m\u001b[0;34m(\u001b[0m\u001b[0mo1\u001b[0m\u001b[0;34m)\u001b[0m\u001b[0;34m\u001b[0m\u001b[0;34m\u001b[0m\u001b[0m\n\u001b[1;32m      7\u001b[0m     \u001b[0mprint\u001b[0m\u001b[0;34m(\u001b[0m\u001b[0mo2\u001b[0m\u001b[0;34m)\u001b[0m\u001b[0;34m\u001b[0m\u001b[0;34m\u001b[0m\u001b[0m\n\u001b[0;32m----> 8\u001b[0;31m     \u001b[0mloss1\u001b[0m \u001b[0;34m=\u001b[0m \u001b[0mmulti_net_criterion\u001b[0m\u001b[0;34m(\u001b[0m\u001b[0mo1\u001b[0m\u001b[0;34m,\u001b[0m\u001b[0ml1\u001b[0m\u001b[0;34m)\u001b[0m\u001b[0;34m\u001b[0m\u001b[0;34m\u001b[0m\u001b[0m\n\u001b[0m\u001b[1;32m      9\u001b[0m     \u001b[0mloss2\u001b[0m \u001b[0;34m=\u001b[0m \u001b[0mmulti_net_criterion\u001b[0m\u001b[0;34m(\u001b[0m\u001b[0mo2\u001b[0m\u001b[0;34m,\u001b[0m\u001b[0ml2\u001b[0m\u001b[0;34m)\u001b[0m\u001b[0;34m\u001b[0m\u001b[0;34m\u001b[0m\u001b[0m\n\u001b[1;32m     10\u001b[0m     \u001b[0;32mreturn\u001b[0m \u001b[0mloss1\u001b[0m \u001b[0;34m+\u001b[0m \u001b[0mloss2\u001b[0m\u001b[0;34m\u001b[0m\u001b[0;34m\u001b[0m\u001b[0m\n",
            "\u001b[0;32m/usr/local/lib/python3.7/dist-packages/torch/nn/modules/module.py\u001b[0m in \u001b[0;36m_call_impl\u001b[0;34m(self, *input, **kwargs)\u001b[0m\n\u001b[1;32m   1100\u001b[0m         if not (self._backward_hooks or self._forward_hooks or self._forward_pre_hooks or _global_backward_hooks\n\u001b[1;32m   1101\u001b[0m                 or _global_forward_hooks or _global_forward_pre_hooks):\n\u001b[0;32m-> 1102\u001b[0;31m             \u001b[0;32mreturn\u001b[0m \u001b[0mforward_call\u001b[0m\u001b[0;34m(\u001b[0m\u001b[0;34m*\u001b[0m\u001b[0minput\u001b[0m\u001b[0;34m,\u001b[0m \u001b[0;34m**\u001b[0m\u001b[0mkwargs\u001b[0m\u001b[0;34m)\u001b[0m\u001b[0;34m\u001b[0m\u001b[0;34m\u001b[0m\u001b[0m\n\u001b[0m\u001b[1;32m   1103\u001b[0m         \u001b[0;31m# Do not call functions when jit is used\u001b[0m\u001b[0;34m\u001b[0m\u001b[0;34m\u001b[0m\u001b[0;34m\u001b[0m\u001b[0m\n\u001b[1;32m   1104\u001b[0m         \u001b[0mfull_backward_hooks\u001b[0m\u001b[0;34m,\u001b[0m \u001b[0mnon_full_backward_hooks\u001b[0m \u001b[0;34m=\u001b[0m \u001b[0;34m[\u001b[0m\u001b[0;34m]\u001b[0m\u001b[0;34m,\u001b[0m \u001b[0;34m[\u001b[0m\u001b[0;34m]\u001b[0m\u001b[0;34m\u001b[0m\u001b[0;34m\u001b[0m\u001b[0m\n",
            "\u001b[0;32m/usr/local/lib/python3.7/dist-packages/torch/nn/modules/loss.py\u001b[0m in \u001b[0;36mforward\u001b[0;34m(self, input, target)\u001b[0m\n\u001b[1;32m   1150\u001b[0m         return F.cross_entropy(input, target, weight=self.weight,\n\u001b[1;32m   1151\u001b[0m                                \u001b[0mignore_index\u001b[0m\u001b[0;34m=\u001b[0m\u001b[0mself\u001b[0m\u001b[0;34m.\u001b[0m\u001b[0mignore_index\u001b[0m\u001b[0;34m,\u001b[0m \u001b[0mreduction\u001b[0m\u001b[0;34m=\u001b[0m\u001b[0mself\u001b[0m\u001b[0;34m.\u001b[0m\u001b[0mreduction\u001b[0m\u001b[0;34m,\u001b[0m\u001b[0;34m\u001b[0m\u001b[0;34m\u001b[0m\u001b[0m\n\u001b[0;32m-> 1152\u001b[0;31m                                label_smoothing=self.label_smoothing)\n\u001b[0m\u001b[1;32m   1153\u001b[0m \u001b[0;34m\u001b[0m\u001b[0m\n\u001b[1;32m   1154\u001b[0m \u001b[0;34m\u001b[0m\u001b[0m\n",
            "\u001b[0;32m/usr/local/lib/python3.7/dist-packages/torch/nn/functional.py\u001b[0m in \u001b[0;36mcross_entropy\u001b[0;34m(input, target, weight, size_average, ignore_index, reduce, reduction, label_smoothing)\u001b[0m\n\u001b[1;32m   2844\u001b[0m     \u001b[0;32mif\u001b[0m \u001b[0msize_average\u001b[0m \u001b[0;32mis\u001b[0m \u001b[0;32mnot\u001b[0m \u001b[0;32mNone\u001b[0m \u001b[0;32mor\u001b[0m \u001b[0mreduce\u001b[0m \u001b[0;32mis\u001b[0m \u001b[0;32mnot\u001b[0m \u001b[0;32mNone\u001b[0m\u001b[0;34m:\u001b[0m\u001b[0;34m\u001b[0m\u001b[0;34m\u001b[0m\u001b[0m\n\u001b[1;32m   2845\u001b[0m         \u001b[0mreduction\u001b[0m \u001b[0;34m=\u001b[0m \u001b[0m_Reduction\u001b[0m\u001b[0;34m.\u001b[0m\u001b[0mlegacy_get_string\u001b[0m\u001b[0;34m(\u001b[0m\u001b[0msize_average\u001b[0m\u001b[0;34m,\u001b[0m \u001b[0mreduce\u001b[0m\u001b[0;34m)\u001b[0m\u001b[0;34m\u001b[0m\u001b[0;34m\u001b[0m\u001b[0m\n\u001b[0;32m-> 2846\u001b[0;31m     \u001b[0;32mreturn\u001b[0m \u001b[0mtorch\u001b[0m\u001b[0;34m.\u001b[0m\u001b[0m_C\u001b[0m\u001b[0;34m.\u001b[0m\u001b[0m_nn\u001b[0m\u001b[0;34m.\u001b[0m\u001b[0mcross_entropy_loss\u001b[0m\u001b[0;34m(\u001b[0m\u001b[0minput\u001b[0m\u001b[0;34m,\u001b[0m \u001b[0mtarget\u001b[0m\u001b[0;34m,\u001b[0m \u001b[0mweight\u001b[0m\u001b[0;34m,\u001b[0m \u001b[0m_Reduction\u001b[0m\u001b[0;34m.\u001b[0m\u001b[0mget_enum\u001b[0m\u001b[0;34m(\u001b[0m\u001b[0mreduction\u001b[0m\u001b[0;34m)\u001b[0m\u001b[0;34m,\u001b[0m \u001b[0mignore_index\u001b[0m\u001b[0;34m,\u001b[0m \u001b[0mlabel_smoothing\u001b[0m\u001b[0;34m)\u001b[0m\u001b[0;34m\u001b[0m\u001b[0;34m\u001b[0m\u001b[0m\n\u001b[0m\u001b[1;32m   2847\u001b[0m \u001b[0;34m\u001b[0m\u001b[0m\n\u001b[1;32m   2848\u001b[0m \u001b[0;34m\u001b[0m\u001b[0m\n",
            "\u001b[0;31mRuntimeError\u001b[0m: expected scalar type Long but found Float"
          ]
        }
      ]
    },
    {
      "cell_type": "markdown",
      "metadata": {
        "id": "4VlH7E76Cud7"
      },
      "source": [
        "## Results"
      ]
    },
    {
      "cell_type": "markdown",
      "metadata": {
        "id": "N-uBsbTqcnXI"
      },
      "source": [
        "Quick Sanity check"
      ]
    },
    {
      "cell_type": "code",
      "metadata": {
        "id": "5dQ-WneJWeD4",
        "colab": {
          "base_uri": "https://localhost:8080/",
          "height": 238
        },
        "outputId": "351069e9-e1d5-42c7-99f3-1a4df44516b5"
      },
      "source": [
        "img_grid(2, 5, normalized_testing_data[10000:100010])\n",
        "l1, l2 = multi_net(torch.from_numpy(normalized_testing_data[10000:10010, None]).float())\n",
        "l1 = np.argmax(l1.detach().numpy(), axis=1)\n",
        "l2 = np.argmax(l2.detach().numpy(), axis=1)\n",
        "print(list(zip(l1,map(lambda x: mapping[x], l2))))"
      ],
      "execution_count": 87,
      "outputs": [
        {
          "output_type": "display_data",
          "data": {
            "image/png": "[encoded data removed]",
            "text/plain": [
              "<Figure size 504x720 with 5 Axes>"
            ]
          },
          "metadata": {
            "needs_background": "light"
          }
        },
        {
          "output_type": "display_data",
          "data": {
            "image/png": "[encoded data removed]",
            "text/plain": [
              "<Figure size 504x720 with 5 Axes>"
            ]
          },
          "metadata": {
            "needs_background": "light"
          }
        },
        {
          "output_type": "stream",
          "name": "stdout",
          "text": [
            "[(5, 'c'), (6, 'i'), (5, 'c'), (7, 'n'), (5, 'g'), (4, 'd'), (9, 'o'), (6, 't'), (0, 'y'), (9, 'l')]\n"
          ]
        }
      ]
    },
    {
      "cell_type": "code",
      "metadata": {
        "id": "iB7GDwKTNFOd"
      },
      "source": [
        "def LabelToString(label, isDigit):\n",
        "  s = \"\"\n",
        "  r = 0\n",
        "  if (isDigit):\n",
        "    r = 10\n",
        "  else:\n",
        "    r = 26\n",
        "  for i in range(0, r):\n",
        "    if (i == label):\n",
        "      s += '1'\n",
        "    else:\n",
        "      s += '0'\n",
        "  return s\n",
        "\n",
        "category = []\n",
        "k = 0\n",
        "while(k<15000):\n",
        "  l1,l2 = multi_net(torch.from_numpy(normalized_testing_data[k:k+100, None]).float())\n",
        "  l1 = np.argmax(l1.detach().numpy(), axis=1)\n",
        "  l2 = np.argmax(l2.detach().numpy(), axis=1)\n",
        "  for i in range(0, len(l1)):\n",
        "    a = LabelToString(l1[i], True)\n",
        "    b = LabelToString(l2[i], False)\n",
        "    category.append(a+b)\n",
        "    k += 1"
      ],
      "execution_count": 88,
      "outputs": []
    },
    {
      "cell_type": "code",
      "metadata": {
        "colab": {
          "base_uri": "https://localhost:8080/"
        },
        "id": "mxYZsufbCud8",
        "outputId": "40741814-116b-4c5b-af2d-7d53d22958ed"
      },
      "source": [
        "id = []\n",
        "for i in range(0, 15000):\n",
        "  id.append(i)\n",
        "# need to create data dict\n",
        "data = {\n",
        "    '# Id' : id,\n",
        "    'Category' : category\n",
        "}\n",
        "\n",
        "df = pd.DataFrame(data=data, columns= ['# Id', 'Category'])\n",
        "print(df)\n",
        "df.to_csv('/content/drive/My Drive/data/results.csv', index = False, header=True)"
      ],
      "execution_count": 90,
      "outputs": [
        {
          "output_type": "stream",
          "name": "stdout",
          "text": [
            "        # Id                              Category\n",
            "0          0  100000000000000000000000000001000000\n",
            "1          1  000010000000000000000000000000000010\n",
            "2          2  000000000100000000000000000010000000\n",
            "3          3  100000000000000000000100000000000000\n",
            "4          4  000000100000000000010000000000000000\n",
            "...      ...                                   ...\n",
            "14995  14995  000100000000001000000000000000000000\n",
            "14996  14996  000100000000000000000000001000000000\n",
            "14997  14997  000000100000000000000000001000000000\n",
            "14998  14998  010000000000000000100000000000000000\n",
            "14999  14999  001000000000000000001000000000000000\n",
            "\n",
            "[15000 rows x 2 columns]\n"
          ]
        }
      ]
    }
  ]
}