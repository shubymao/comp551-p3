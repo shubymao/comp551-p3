{
  "nbformat": 4,
  "nbformat_minor": 0,
  "metadata": {
    "accelerator": "GPU",
    "colab": {
      "name": "Project 3 Notebook.ipynb",
      "provenance": [],
      "collapsed_sections": [],
      "machine_shape": "hm",
      "include_colab_link": true
    },
    "deepnote": {
      "is_reactive": false
    },
    "deepnote_execution_queue": [
      {
        "cellId": "00014-5023c705-89c0-4b0d-8475-31dbf86965f1",
        "msgId": "df859eb8-5087-492b-81a0-bf32da9d72c2",
        "sessionId": "ba7e9811-adf0-4ae0-bc6e-78a462d11bf3"
      }
    ],
    "deepnote_notebook_id": "6ceacadf-544f-46ff-b007-fbadf7aa1867",
    "kernelspec": {
      "display_name": "Python 3",
      "name": "python3"
    },
    "language_info": {
      "name": "python"
    }
  },
  "cells": [
    {
      "cell_type": "markdown",
      "metadata": {
        "id": "view-in-github",
        "colab_type": "text"
      },
      "source": [
        "<a href=\"https://colab.research.google.com/github/shubymao/comp551-p3/blob/vic/Project_3_Notebook.ipynb\" target=\"_parent\"><img src=\"https://colab.research.google.com/assets/colab-badge.svg\" alt=\"Open In Colab\"/></a>"
      ]
    },
    {
      "cell_type": "markdown",
      "metadata": {
        "id": "Msqh4iDyCudk"
      },
      "source": [
        "# Project 3 - Convolution Neural Network"
      ]
    },
    {
      "cell_type": "markdown",
      "metadata": {
        "id": "CpzLeM6RCudt"
      },
      "source": [
        "## Team Members"
      ]
    },
    {
      "cell_type": "markdown",
      "metadata": {
        "id": "LjQkokOPCudu"
      },
      "source": [
        "Le-Li Mao (260800098)"
      ]
    },
    {
      "cell_type": "markdown",
      "metadata": {
        "id": "diF0MA9uCudu"
      },
      "source": [
        "Victor Livernoche (260926276)"
      ]
    },
    {
      "cell_type": "markdown",
      "metadata": {
        "id": "XXsMnElHCudv"
      },
      "source": [
        "Enan Ashaduzzaman (260805923)"
      ]
    },
    {
      "cell_type": "markdown",
      "metadata": {
        "id": "GXOuUvc6Cudw"
      },
      "source": [
        "## Initializing Dependency"
      ]
    },
    {
      "cell_type": "code",
      "metadata": {
        "colab": {
          "base_uri": "https://localhost:8080/"
        },
        "id": "RNubcKypCudx",
        "outputId": "6d322a24-675b-4f0c-cd1b-ed5ab9a03c95"
      },
      "source": [
        "from __future__ import print_function\n",
        "import pickle as pkl\n",
        "import numpy as np\n",
        "import argparse\n",
        "from tqdm import tqdm\n",
        "from sklearn.preprocessing import normalize\n",
        "import random\n",
        "import cv2\n",
        "\n",
        "import torch\n",
        "import torch.nn as nn\n",
        "import torch.nn.functional as F\n",
        "import torch.optim as optim\n",
        "from torch.utils.data import TensorDataset, DataLoader, random_split\n",
        "import torchvision.transforms.functional as TF\n",
        "import pandas as pd\n",
        "\n",
        "%matplotlib inline\n",
        "from mpl_toolkits.axes_grid1 import ImageGrid\n",
        "import matplotlib.pyplot as plt\n",
        "import string\n",
        "from google.colab import drive\n",
        "drive.mount('/content/drive')\n",
        "# print(torch.cuda.get_device_name(0))\n",
        "device = torch.device('cuda' if torch.cuda.is_available() else 'cpu')\n",
        "print(device)"
      ],
      "execution_count": 1,
      "outputs": [
        {
          "output_type": "stream",
          "name": "stdout",
          "text": [
            "Mounted at /content/drive\n",
            "cuda\n"
          ]
        }
      ]
    },
    {
      "cell_type": "markdown",
      "metadata": {
        "id": "nhtudTKhCudz"
      },
      "source": [
        "## Loading Data"
      ]
    },
    {
      "cell_type": "code",
      "metadata": {
        "id": "nTc9y2J_Cud0"
      },
      "source": [
        "mapping = list(string.ascii_lowercase) \n",
        "training_data, training_labels, testing_data = None, None, None\n",
        "with open(\"/content/drive/My Drive/data/images_l.pkl\", 'rb') as f: \n",
        "    training_data = pkl.load(f)\n",
        "    validation_size = training_data.shape[0]//10\n",
        "    validation_data = training_data[0:validation_size]\n",
        "    training_data = training_data[validation_size:]\n",
        "with open(\"/content/drive/My Drive/data/labels_l.pkl\", 'rb') as f: \n",
        "    training_labels = pkl.load(f)\n",
        "    validation_size = training_labels.shape[0]//10\n",
        "    validation_labels = training_labels[0:validation_size]\n",
        "    training_labels = training_labels[validation_size:]\n",
        "with open(\"/content/drive/My Drive/data/images_test.pkl\", 'rb') as f: \n",
        "    testing_data = pkl.load(f)\n",
        "with open(\"/content/drive/My Drive/data/images_ul.pkl\", 'rb') as f: \n",
        "    unlabeled_data = pkl.load(f)"
      ],
      "execution_count": 74,
      "outputs": []
    },
    {
      "cell_type": "markdown",
      "metadata": {
        "id": "I6d_j7rMFpZg"
      },
      "source": [
        "## Preprocessing"
      ]
    },
    {
      "cell_type": "markdown",
      "metadata": {
        "id": "8O-Sz56Rptrd"
      },
      "source": [
        "### Preprocessing Helper Functions"
      ]
    },
    {
      "cell_type": "code",
      "metadata": {
        "id": "n5_VqihgmpXu"
      },
      "source": [
        "def convert_labels_to_readables(labels):\n",
        "  readables = []\n",
        "  for label in labels:\n",
        "    l1, l2 = int(label[0]), mapping[label[1].int()]\n",
        "    readables.append((l1,l2,))\n",
        "  return readables"
      ],
      "execution_count": 3,
      "outputs": []
    },
    {
      "cell_type": "code",
      "metadata": {
        "id": "67D6zKQtpG8h"
      },
      "source": [
        "# show images\n",
        "def img_grid(row,col,imgs):\n",
        "  if imgs is None: return\n",
        "  for r in range(row):\n",
        "    fig, axs = plt.subplots(nrows=1, ncols=col, figsize=(7.,10.))\n",
        "    for i, ax in enumerate(axs.flatten()):\n",
        "        if(len(imgs) <= r*col+i): \n",
        "          return\n",
        "        plt.sca(ax)\n",
        "        plt.imshow(imgs[r*col+i])    \n",
        "    # plt.colorbar()\n",
        "    plt.show()"
      ],
      "execution_count": 4,
      "outputs": []
    },
    {
      "cell_type": "code",
      "metadata": {
        "colab": {
          "base_uri": "https://localhost:8080/",
          "height": 228
        },
        "id": "Phh_bfmCrzPf",
        "outputId": "c12bd008-7242-4949-ae10-e7c0b1f7aee9"
      },
      "source": [
        "def generate_rotation(image_tensor, rotate_angles=[-20,20]):\n",
        "    outputs = []\n",
        "    for angle in rotate_angles:\n",
        "      outputs.append(TF.rotate(image_tensor, angle))\n",
        "    return outputs\n",
        "\n",
        "sample_tensor = torch.from_numpy(training_data[0,None]).float()\n",
        "rotated_tensor = generate_rotation(sample_tensor)[0]\n",
        "img_grid(1,2,[sample_tensor[0],rotated_tensor[0]])"
      ],
      "execution_count": 5,
      "outputs": [
        {
          "output_type": "display_data",
          "data": {
            "image/png": "[encoded data removed]",
            "text/plain": [
              "<Figure size 504x720 with 2 Axes>"
            ]
          },
          "metadata": {
            "needs_background": "light"
          }
        }
      ]
    },
    {
      "cell_type": "code",
      "metadata": {
        "colab": {
          "base_uri": "https://localhost:8080/",
          "height": 228
        },
        "id": "HfO06Y0L1q56",
        "outputId": "47a11445-ba0a-4f39-8fb4-e4866b3b8944"
      },
      "source": [
        "def generate_blur(image_tensor, blur_kernal = [1]):\n",
        "  outputs = []\n",
        "  for k in blur_kernal:\n",
        "    outputs.append(TF.gaussian_blur(image_tensor, [k,k]))\n",
        "  return outputs\n",
        "\n",
        "sample_tensor = torch.from_numpy(training_data[0,None]).float()\n",
        "sharp_tensor = generate_blur(sample_tensor,[3])[0]\n",
        "img_grid(1,2,[sample_tensor[0],sharp_tensor[0]])"
      ],
      "execution_count": 6,
      "outputs": [
        {
          "output_type": "display_data",
          "data": {
            "image/png": "[encoded data removed]",
            "text/plain": [
              "<Figure size 504x720 with 2 Axes>"
            ]
          },
          "metadata": {
            "needs_background": "light"
          }
        }
      ]
    },
    {
      "cell_type": "code",
      "metadata": {
        "id": "SBJcLOQAXrKY"
      },
      "source": [
        "# transform all data to the output format\n",
        "def process_training_data(data, labels, rotate_angles = [-45, -40, -20, -10, 10, 20, 40, 45], blur_kernal = []):\n",
        "  multiplier = (1+len(rotate_angles)+len(blur_kernal))\n",
        "  data_tensor = torch.from_numpy(data[:,None]).float()\n",
        "  new_data = torch.empty((len(data)*multiplier,1,56,56))\n",
        "  num_labels = torch.empty(len(data)*multiplier)\n",
        "  letter_labels = torch.empty(len(data)*multiplier)\n",
        "  output_index = 0\n",
        "  for i in tqdm(range(len(data_tensor))):\n",
        "    # Assign the labels to the new data\n",
        "    num_labels[i*multiplier:(i+1)*multiplier] = int(np.argmax(labels[i,0:10]))\n",
        "    letter_labels[i*multiplier:(i+1)*multiplier] = int(np.argmax(labels[i,10:]))\n",
        "    # Creating the rotation and sharpness images\n",
        "    mean, std = torch.mean(data_tensor[i]), torch.std(data_tensor[i])\n",
        "    norm_img = TF.normalize(data_tensor[i], [mean], [std])\n",
        "    new_data[output_index] = norm_img; output_index+=1\n",
        "    for r_img in generate_rotation(norm_img, rotate_angles):\n",
        "      new_data[output_index] = r_img; output_index+=1\n",
        "    for s_img in generate_blur(norm_img, blur_kernal):\n",
        "      new_data[output_index] = s_img; output_index+=1\n",
        "  \n",
        "  # Creating the datasets\n",
        "  multi_label_tensor = torch.stack((num_labels,letter_labels), axis=1).long()\n",
        "  dataset = TensorDataset(new_data, multi_label_tensor)\n",
        "  return dataset\n",
        "  "
      ],
      "execution_count": 82,
      "outputs": []
    },
    {
      "cell_type": "code",
      "metadata": {
        "id": "ivuz449qgNV7"
      },
      "source": [
        "def process_testing_data(data):\n",
        "  data_tensor = torch.from_numpy(data[:,None]).float()\n",
        "  dataset = torch.empty((len(data),1,56,56))\n",
        "  for i in tqdm(range(len(data_tensor))):\n",
        "    mean, std = torch.mean(data_tensor[i]), torch.std(data_tensor[i])\n",
        "    norm_img = TF.normalize(data_tensor[i], [mean], [std])\n",
        "    dataset[i] = norm_img\n",
        "  return dataset\n",
        "  testing_dataset = process_testing_data(testing_data)\n"
      ],
      "execution_count": 83,
      "outputs": []
    },
    {
      "cell_type": "markdown",
      "metadata": {
        "id": "P1Yf-lRvp0V4"
      },
      "source": [
        "### Processing The Data"
      ]
    },
    {
      "cell_type": "markdown",
      "metadata": {
        "id": "eo0NbFKGJDbi"
      },
      "source": [
        "Process the data and put the data into dataloader"
      ]
    },
    {
      "cell_type": "code",
      "metadata": {
        "colab": {
          "base_uri": "https://localhost:8080/"
        },
        "id": "peHFpFQsvaQg",
        "outputId": "9584c963-989f-468d-b80c-3c402ebc13a0"
      },
      "source": [
        "def make_data_loader(dataset, batch_size=30, shuffle=True, num_workers=2):\n",
        "  dataloader = DataLoader(dataset, batch_size = batch_size, shuffle = shuffle, num_workers = num_workers)\n",
        "  return dataloader\n",
        "\n",
        "training_dataset = process_training_data(training_data, training_labels)\n",
        "validation_dataset = process_training_data(validation_data,validation_labels, [], [])\n",
        "\n",
        "training_loader = make_data_loader(training_dataset)\n",
        "validation_loader = make_data_loader(validation_dataset)"
      ],
      "execution_count": 84,
      "outputs": [
        {
          "output_type": "stream",
          "name": "stderr",
          "text": [
            "100%|██████████| 27000/27000 [00:33<00:00, 811.87it/s]\n",
            "100%|██████████| 3000/3000 [00:00<00:00, 10293.72it/s]\n"
          ]
        }
      ]
    },
    {
      "cell_type": "code",
      "metadata": {
        "colab": {
          "base_uri": "https://localhost:8080/",
          "height": 317
        },
        "id": "0aXcu3HsziKE",
        "outputId": "8e2d1c7f-599d-4c49-aac6-f8a39cfc8e37"
      },
      "source": [
        "def show_sample(n):\n",
        "  perm = torch.randperm(len(combined_dataset))\n",
        "  idx = perm[:n]\n",
        "  data, labels = combined_dataset[idx]\n",
        "  img_grid(n//5,5 , data[:,0])\n",
        "  print(convert_labels_to_readables(labels))\n",
        "show_sample(10)"
      ],
      "execution_count": 10,
      "outputs": [
        {
          "output_type": "error",
          "ename": "NameError",
          "evalue": "ignored",
          "traceback": [
            "\u001b[0;31m---------------------------------------------------------------------------\u001b[0m",
            "\u001b[0;31mNameError\u001b[0m                                 Traceback (most recent call last)",
            "\u001b[0;32m<ipython-input-10-44736ed3d189>\u001b[0m in \u001b[0;36m<module>\u001b[0;34m()\u001b[0m\n\u001b[1;32m      5\u001b[0m   \u001b[0mimg_grid\u001b[0m\u001b[0;34m(\u001b[0m\u001b[0mn\u001b[0m\u001b[0;34m//\u001b[0m\u001b[0;36m5\u001b[0m\u001b[0;34m,\u001b[0m\u001b[0;36m5\u001b[0m \u001b[0;34m,\u001b[0m \u001b[0mdata\u001b[0m\u001b[0;34m[\u001b[0m\u001b[0;34m:\u001b[0m\u001b[0;34m,\u001b[0m\u001b[0;36m0\u001b[0m\u001b[0;34m]\u001b[0m\u001b[0;34m)\u001b[0m\u001b[0;34m\u001b[0m\u001b[0;34m\u001b[0m\u001b[0m\n\u001b[1;32m      6\u001b[0m   \u001b[0mprint\u001b[0m\u001b[0;34m(\u001b[0m\u001b[0mconvert_labels_to_readables\u001b[0m\u001b[0;34m(\u001b[0m\u001b[0mlabels\u001b[0m\u001b[0;34m)\u001b[0m\u001b[0;34m)\u001b[0m\u001b[0;34m\u001b[0m\u001b[0;34m\u001b[0m\u001b[0m\n\u001b[0;32m----> 7\u001b[0;31m \u001b[0mshow_sample\u001b[0m\u001b[0;34m(\u001b[0m\u001b[0;36m10\u001b[0m\u001b[0;34m)\u001b[0m\u001b[0;34m\u001b[0m\u001b[0;34m\u001b[0m\u001b[0m\n\u001b[0m",
            "\u001b[0;32m<ipython-input-10-44736ed3d189>\u001b[0m in \u001b[0;36mshow_sample\u001b[0;34m(n)\u001b[0m\n\u001b[1;32m      1\u001b[0m \u001b[0;32mdef\u001b[0m \u001b[0mshow_sample\u001b[0m\u001b[0;34m(\u001b[0m\u001b[0mn\u001b[0m\u001b[0;34m)\u001b[0m\u001b[0;34m:\u001b[0m\u001b[0;34m\u001b[0m\u001b[0;34m\u001b[0m\u001b[0m\n\u001b[0;32m----> 2\u001b[0;31m   \u001b[0mperm\u001b[0m \u001b[0;34m=\u001b[0m \u001b[0mtorch\u001b[0m\u001b[0;34m.\u001b[0m\u001b[0mrandperm\u001b[0m\u001b[0;34m(\u001b[0m\u001b[0mlen\u001b[0m\u001b[0;34m(\u001b[0m\u001b[0mcombined_dataset\u001b[0m\u001b[0;34m)\u001b[0m\u001b[0;34m)\u001b[0m\u001b[0;34m\u001b[0m\u001b[0;34m\u001b[0m\u001b[0m\n\u001b[0m\u001b[1;32m      3\u001b[0m   \u001b[0midx\u001b[0m \u001b[0;34m=\u001b[0m \u001b[0mperm\u001b[0m\u001b[0;34m[\u001b[0m\u001b[0;34m:\u001b[0m\u001b[0mn\u001b[0m\u001b[0;34m]\u001b[0m\u001b[0;34m\u001b[0m\u001b[0;34m\u001b[0m\u001b[0m\n\u001b[1;32m      4\u001b[0m   \u001b[0mdata\u001b[0m\u001b[0;34m,\u001b[0m \u001b[0mlabels\u001b[0m \u001b[0;34m=\u001b[0m \u001b[0mcombined_dataset\u001b[0m\u001b[0;34m[\u001b[0m\u001b[0midx\u001b[0m\u001b[0;34m]\u001b[0m\u001b[0;34m\u001b[0m\u001b[0;34m\u001b[0m\u001b[0m\n\u001b[1;32m      5\u001b[0m   \u001b[0mimg_grid\u001b[0m\u001b[0;34m(\u001b[0m\u001b[0mn\u001b[0m\u001b[0;34m//\u001b[0m\u001b[0;36m5\u001b[0m\u001b[0;34m,\u001b[0m\u001b[0;36m5\u001b[0m \u001b[0;34m,\u001b[0m \u001b[0mdata\u001b[0m\u001b[0;34m[\u001b[0m\u001b[0;34m:\u001b[0m\u001b[0;34m,\u001b[0m\u001b[0;36m0\u001b[0m\u001b[0;34m]\u001b[0m\u001b[0;34m)\u001b[0m\u001b[0;34m\u001b[0m\u001b[0;34m\u001b[0m\u001b[0m\n",
            "\u001b[0;31mNameError\u001b[0m: name 'combined_dataset' is not defined"
          ]
        }
      ]
    },
    {
      "cell_type": "markdown",
      "metadata": {
        "id": "7wL3AbTECud4"
      },
      "source": [
        "## Training Model"
      ]
    },
    {
      "cell_type": "markdown",
      "metadata": {
        "id": "6Hjn-Gkl09aY"
      },
      "source": [
        "### Multi-Output Model"
      ]
    },
    {
      "cell_type": "markdown",
      "metadata": {
        "id": "8XVNq7TyM3nc"
      },
      "source": [
        "Initalize the Multilabel Model"
      ]
    },
    {
      "cell_type": "code",
      "metadata": {
        "id": "mzXNmXUTM870"
      },
      "source": [
        "class MultiNet(nn.Module):\n",
        "    def __init__(self):\n",
        "        super(MultiNet, self).__init__()\n",
        "        self.conv1 = nn.Conv2d(1, 64, 6, padding=1)\n",
        "        self.conv2 = nn.Conv2d(64, 256, 4, padding=1, stride=1)\n",
        "        self.conv3 = nn.Conv2d(256, 256, 3, padding='same')\n",
        "        self.conv4 = nn.Conv2d(256, 256, 3, padding='same')\n",
        "        self.conv5 = nn.Conv2d(256, 128, 3, padding='same')\n",
        "        # 3 Dense Layer\n",
        "        self.fc11 = nn.Linear(3200, 2000)  \n",
        "        self.fc21 = nn.Linear(3200, 2000)  \n",
        "        self.fc12 = nn.Linear(2000, 1000)\n",
        "        self.fc22 = nn.Linear(2000, 1200)\n",
        "        self.fc13 = nn.Linear(1000, 10)\n",
        "        self.fc23 = nn.Linear(1200, 26)\n",
        "\n",
        "    def forward(self, x):\n",
        "        x = F.max_pool2d(F.relu(self.conv1(x)), 3)\n",
        "        x = F.max_pool2d(F.relu(self.conv2(x)), 3)\n",
        "        x = F.relu(self.conv3(x))\n",
        "        x = F.relu(self.conv4(x))\n",
        "        x = F.relu(self.conv5(x))\n",
        "        # print(x.size())\n",
        "        x = x.view(-1,self.num_flat_features(x)) # Flatten\n",
        "        \n",
        "        x1 = F.relu(self.fc11(x))\n",
        "        x1 = F.relu(self.fc12(x1))\n",
        "        l1 = self.fc13(x1)\n",
        "\n",
        "        x2 = self.fc21(x)\n",
        "        x2 = self.fc22(x2)\n",
        "        l2 = self.fc23(x2)\n",
        "        return l1,l2\n",
        "    \n",
        "    def num_flat_features(self, x):\n",
        "        size = x.size()[1:]  # all dimensions except the batch dimension\n",
        "        num_features = 1\n",
        "        for s in size:\n",
        "            num_features *= s\n",
        "        return num_features"
      ],
      "execution_count": 77,
      "outputs": []
    },
    {
      "cell_type": "markdown",
      "metadata": {
        "id": "WKNdllIHBlpL"
      },
      "source": [
        "### Custom Res Net with Multi Output\n",
        "\n",
        "\n"
      ]
    },
    {
      "cell_type": "code",
      "metadata": {
        "id": "Hunsos9-Bktj"
      },
      "source": [
        "def conv3x3(in_planes: int, out_planes: int, stride: int = 1, groups: int = 1, dilation: int = 1) -> nn.Conv2d:\n",
        "    \"\"\"3x3 convolution with padding\"\"\"\n",
        "    return nn.Conv2d(\n",
        "        in_planes,\n",
        "        out_planes,\n",
        "        kernel_size=3,\n",
        "        stride=stride,\n",
        "        padding=dilation,\n",
        "        groups=groups,\n",
        "        bias=False,\n",
        "        dilation=dilation,\n",
        "    )\n",
        "\n",
        "def conv1x1(in_planes: int, out_planes: int, stride: int = 1) -> nn.Conv2d:\n",
        "    \"\"\"1x1 convolution\"\"\"\n",
        "    return nn.Conv2d(in_planes, out_planes, kernel_size=1, stride=stride, bias=False)\n",
        "\n",
        "class CustomResNet(nn.Module):\n",
        "\n",
        "    def __init__(self, norm_layer = None, groups = 1, width_per_group = 64):\n",
        "        self.inplanes = 64\n",
        "        self.dilation = 1\n",
        "        self.groups = groups\n",
        "        self.base_width = width_per_group\n",
        "        super(CustomResNet, self).__init__()\n",
        "        if norm_layer is None:\n",
        "            norm_layer = nn.BatchNorm2d\n",
        "        self._norm_layer = norm_layer\n",
        "        self.conv1 = nn.Conv2d(1, 64, 3, padding=1, bias=False)\n",
        "        self.bn1 = nn.BatchNorm2d(64)\n",
        "        self.relu = nn.ReLU(inplace=True)\n",
        "        self.maxpool = nn.MaxPool2d(kernel_size=2, stride=2, padding=1)\n",
        "        self.layer1 = self._make_layer(models.resnet.BasicBlock, 64, 2)\n",
        "        self.layer2 = self._make_layer(models.resnet.BasicBlock, 128, 2, stride=2)\n",
        "        self.layer3 = self._make_layer(models.resnet.BasicBlock, 256, 2, stride=2)\n",
        "        self.layer4 = self._make_layer(models.resnet.BasicBlock, 512, 2, stride=2)\n",
        "        self.avgpool = nn.AvgPool2d(3, stride=1)\n",
        "        self.fc1 = nn.Linear(2048, 10)\n",
        "        self.fc2 = nn.Linear(2048, 26)\n",
        "      \n",
        "    def _make_layer(self, block, planes, blocks, stride = 1, dilate = False):\n",
        "        norm_layer = self._norm_layer\n",
        "        downsample = None\n",
        "        previous_dilation = self.dilation\n",
        "        if dilate:\n",
        "            self.dilation *= stride\n",
        "            stride = 1\n",
        "        if stride != 1 or self.inplanes != planes * block.expansion:\n",
        "            downsample = nn.Sequential(\n",
        "                conv1x1(self.inplanes, planes * block.expansion, stride),\n",
        "                norm_layer(planes * block.expansion),\n",
        "            )\n",
        "\n",
        "        layers = []\n",
        "        layers.append(\n",
        "            block(\n",
        "                self.inplanes, planes, stride, downsample, self.groups, self.base_width, previous_dilation, norm_layer\n",
        "            )\n",
        "        )\n",
        "        self.inplanes = planes * block.expansion\n",
        "        for _ in range(1, blocks):\n",
        "            layers.append(\n",
        "                block(self.inplanes, planes,groups=self.groups,\n",
        "                    base_width=self.base_width,\n",
        "                    dilation=self.dilation,\n",
        "                    norm_layer=norm_layer,\n",
        "                )\n",
        "            )\n",
        "\n",
        "        return nn.Sequential(*layers)\n",
        "\n",
        "    def forward(self, x):\n",
        "        x = self.maxpool(self.relu(self.bn1(self.conv1(x))))\n",
        "        x = self.layer1(x)\n",
        "        x = self.layer2(x)\n",
        "        x = self.layer3(x)\n",
        "        x = self.layer4(x)\n",
        "        x = self.avgpool(x)\n",
        "        x = torch.flatten(x, 1)\n",
        "        l1 = self.fc1(x)\n",
        "        l2 = self.fc2(x)\n",
        "        return l1,l2\n"
      ],
      "execution_count": null,
      "outputs": []
    },
    {
      "cell_type": "markdown",
      "metadata": {
        "id": "qfxLeadfDMFt"
      },
      "source": [
        "### Training and Validation"
      ]
    },
    {
      "cell_type": "markdown",
      "metadata": {
        "id": "F_VOUOUHcFZW"
      },
      "source": [
        "Initialize network validation and training function"
      ]
    },
    {
      "cell_type": "code",
      "metadata": {
        "id": "AwkzEV1q8TNm"
      },
      "source": [
        "def validate_model(model, validation_dataloader):\n",
        "  digit_acc, letter_acc = 0, 0\n",
        "  print(\"Starting Validation Iteration\")\n",
        "  for i, validation_data in enumerate(tqdm(validation_dataloader)):\n",
        "    inputs, labels = validation_data\n",
        "    o1, o2 = model(inputs)\n",
        "    l1, l2 = labels[:,0], labels[:,1]\n",
        "    digit_acc += torch.mean((torch.argmax(o1, dim=1) == l1).float()).float()\n",
        "    letter_acc += torch.mean((torch.argmax(o2, dim=1) == l2).float())\n",
        "  digit_acc = digit_acc/len(validation_dataloader)\n",
        "  letter_acc = letter_acc / len(validation_dataloader)\n",
        "  print(f'\\n Digit Accuracy: {digit_acc.item()}, Letter Accuracy: {letter_acc.item()}')\n",
        "  return (digit_acc.item(), letter_acc.item())"
      ],
      "execution_count": 12,
      "outputs": []
    },
    {
      "cell_type": "code",
      "metadata": {
        "id": "H7Bsqq4ECud6"
      },
      "source": [
        "def train_network(net, optimizer, criterion, max_epoch = 10):\n",
        "  running_loss = 0.0\n",
        "  digits_accs, letter_accs = [], []\n",
        "  for epoch in range(max_epoch):  # loop over the dataset multiple times\n",
        "      cnt = 0\n",
        "      print(\"Starting Training Iteration\")\n",
        "      for i, data in enumerate(tqdm(training_loader)):\n",
        "          inputs, labels = data\n",
        "          optimizer.zero_grad()\n",
        "\n",
        "          outputs = net(inputs)\n",
        "          loss = criterion(outputs, labels)\n",
        "          loss.backward()\n",
        "          optimizer.step()\n",
        "          running_loss += loss.item()\n",
        "          cnt+=1\n",
        "          if i % 100 == 99:\n",
        "            print('[%d] loss: %.3f' % (i, running_loss / cnt))\n",
        "            running_loss, cnt = 0.0, 0\n",
        "      if validation_loader is not None:\n",
        "        digit_acc, letter_acc = validate_model(net, validation_loader)\n",
        "        digits_accs.append(digit_acc)\n",
        "        letter_accs.append(letter_acc)\n",
        "  return (digits_accs, letter_accs)"
      ],
      "execution_count": 13,
      "outputs": []
    },
    {
      "cell_type": "code",
      "metadata": {
        "id": "-nTa_yc4NHi3",
        "colab": {
          "base_uri": "https://localhost:8080/",
          "height": 987
        },
        "outputId": "0fe48085-b9a4-4b5d-ca1f-1b67047807b3"
      },
      "source": [
        "def train_model(net, optimizer, run_validation = True, epoch = 1):\n",
        "  multi_net_criterion = nn.CrossEntropyLoss()\n",
        "  def ml_criterion(output, labels):\n",
        "    o1, o2 = output\n",
        "    l1, l2 = labels[:,0], labels[:,1]\n",
        "    loss1 = multi_net_criterion(o1,l1)\n",
        "    loss2 = multi_net_criterion(o2,l2)\n",
        "    return loss1 + loss2\n",
        "  if run_validation:\n",
        "    res = train_network(net, optimizer, criterion=ml_criterion, max_epoch=epoch)\n",
        "    digit_accuracies, letter_accuracies = res\n",
        "  else: \n",
        "    res = train_network(net, training_loader, None, criterion=ml_criterion, lr=lr, max_epoch=epoch)\n",
        "  return net\n",
        "\n",
        "lr, momentum, weight_decay = 0.00001, 0.9, 1e-4\n",
        "#multi_net = MultiNet()\n",
        "optimizer = optim.SGD(multi_net.parameters(), lr=lr, weight_decay=weight_decay)\n",
        "multi_net = train_model(multi_net, optimizer, epoch = 1)\n",
        "# save to download if it crashes\n",
        "from os.path import exists\n",
        "torch.save(multi_net.state_dict(), 'checkpoint.pth')"
      ],
      "execution_count": 92,
      "outputs": [
        {
          "output_type": "stream",
          "name": "stdout",
          "text": [
            "Starting Training Iteration\n"
          ]
        },
        {
          "output_type": "stream",
          "name": "stderr",
          "text": [
            "  1%|          | 100/8100 [00:27<36:02,  3.70it/s]"
          ]
        },
        {
          "output_type": "stream",
          "name": "stdout",
          "text": [
            "[99] loss: 0.439\n"
          ]
        },
        {
          "output_type": "stream",
          "name": "stderr",
          "text": [
            "  2%|▏         | 200/8100 [00:55<36:02,  3.65it/s]"
          ]
        },
        {
          "output_type": "stream",
          "name": "stdout",
          "text": [
            "[199] loss: 0.470\n"
          ]
        },
        {
          "output_type": "stream",
          "name": "stderr",
          "text": [
            "  4%|▎         | 300/8100 [01:22<35:36,  3.65it/s]"
          ]
        },
        {
          "output_type": "stream",
          "name": "stdout",
          "text": [
            "[299] loss: 0.420\n"
          ]
        },
        {
          "output_type": "stream",
          "name": "stderr",
          "text": [
            "  5%|▍         | 400/8100 [01:50<34:56,  3.67it/s]"
          ]
        },
        {
          "output_type": "stream",
          "name": "stdout",
          "text": [
            "[399] loss: 0.449\n"
          ]
        },
        {
          "output_type": "stream",
          "name": "stderr",
          "text": [
            "  6%|▌         | 500/8100 [02:17<34:28,  3.67it/s]"
          ]
        },
        {
          "output_type": "stream",
          "name": "stdout",
          "text": [
            "[499] loss: 0.468\n"
          ]
        },
        {
          "output_type": "stream",
          "name": "stderr",
          "text": [
            "  7%|▋         | 600/8100 [02:45<34:07,  3.66it/s]"
          ]
        },
        {
          "output_type": "stream",
          "name": "stdout",
          "text": [
            "[599] loss: 0.438\n"
          ]
        },
        {
          "output_type": "stream",
          "name": "stderr",
          "text": [
            "  9%|▊         | 700/8100 [03:12<33:57,  3.63it/s]"
          ]
        },
        {
          "output_type": "stream",
          "name": "stdout",
          "text": [
            "[699] loss: 0.468\n"
          ]
        },
        {
          "output_type": "stream",
          "name": "stderr",
          "text": [
            " 10%|▉         | 800/8100 [03:39<32:43,  3.72it/s]"
          ]
        },
        {
          "output_type": "stream",
          "name": "stdout",
          "text": [
            "[799] loss: 0.467\n"
          ]
        },
        {
          "output_type": "stream",
          "name": "stderr",
          "text": [
            " 11%|█         | 900/8100 [04:06<32:37,  3.68it/s]"
          ]
        },
        {
          "output_type": "stream",
          "name": "stdout",
          "text": [
            "[899] loss: 0.426\n"
          ]
        },
        {
          "output_type": "stream",
          "name": "stderr",
          "text": [
            " 12%|█▏        | 1000/8100 [04:33<32:04,  3.69it/s]"
          ]
        },
        {
          "output_type": "stream",
          "name": "stdout",
          "text": [
            "[999] loss: 0.470\n"
          ]
        },
        {
          "output_type": "stream",
          "name": "stderr",
          "text": [
            " 14%|█▎        | 1100/8100 [05:00<31:14,  3.73it/s]"
          ]
        },
        {
          "output_type": "stream",
          "name": "stdout",
          "text": [
            "[1099] loss: 0.473\n"
          ]
        },
        {
          "output_type": "stream",
          "name": "stderr",
          "text": [
            " 15%|█▍        | 1200/8100 [05:28<30:46,  3.74it/s]"
          ]
        },
        {
          "output_type": "stream",
          "name": "stdout",
          "text": [
            "[1199] loss: 0.472\n"
          ]
        },
        {
          "output_type": "stream",
          "name": "stderr",
          "text": [
            " 16%|█▌        | 1300/8100 [05:55<30:32,  3.71it/s]"
          ]
        },
        {
          "output_type": "stream",
          "name": "stdout",
          "text": [
            "[1299] loss: 0.469\n"
          ]
        },
        {
          "output_type": "stream",
          "name": "stderr",
          "text": [
            " 17%|█▋        | 1400/8100 [06:22<30:30,  3.66it/s]"
          ]
        },
        {
          "output_type": "stream",
          "name": "stdout",
          "text": [
            "[1399] loss: 0.485\n"
          ]
        },
        {
          "output_type": "stream",
          "name": "stderr",
          "text": [
            " 19%|█▊        | 1500/8100 [06:49<29:09,  3.77it/s]"
          ]
        },
        {
          "output_type": "stream",
          "name": "stdout",
          "text": [
            "[1499] loss: 0.458\n"
          ]
        },
        {
          "output_type": "stream",
          "name": "stderr",
          "text": [
            " 20%|█▉        | 1600/8100 [07:16<29:22,  3.69it/s]"
          ]
        },
        {
          "output_type": "stream",
          "name": "stdout",
          "text": [
            "[1599] loss: 0.483\n"
          ]
        },
        {
          "output_type": "stream",
          "name": "stderr",
          "text": [
            " 21%|██        | 1700/8100 [07:44<29:12,  3.65it/s]"
          ]
        },
        {
          "output_type": "stream",
          "name": "stdout",
          "text": [
            "[1699] loss: 0.445\n"
          ]
        },
        {
          "output_type": "stream",
          "name": "stderr",
          "text": [
            " 22%|██▏       | 1800/8100 [08:11<28:28,  3.69it/s]"
          ]
        },
        {
          "output_type": "stream",
          "name": "stdout",
          "text": [
            "[1799] loss: 0.464\n"
          ]
        },
        {
          "output_type": "stream",
          "name": "stderr",
          "text": [
            " 23%|██▎       | 1900/8100 [08:38<27:42,  3.73it/s]"
          ]
        },
        {
          "output_type": "stream",
          "name": "stdout",
          "text": [
            "[1899] loss: 0.488\n"
          ]
        },
        {
          "output_type": "stream",
          "name": "stderr",
          "text": [
            " 25%|██▍       | 2000/8100 [09:05<27:46,  3.66it/s]"
          ]
        },
        {
          "output_type": "stream",
          "name": "stdout",
          "text": [
            "[1999] loss: 0.478\n"
          ]
        },
        {
          "output_type": "stream",
          "name": "stderr",
          "text": [
            " 26%|██▌       | 2100/8100 [09:33<27:18,  3.66it/s]"
          ]
        },
        {
          "output_type": "stream",
          "name": "stdout",
          "text": [
            "[2099] loss: 0.448\n"
          ]
        },
        {
          "output_type": "stream",
          "name": "stderr",
          "text": [
            " 27%|██▋       | 2200/8100 [10:00<26:50,  3.66it/s]"
          ]
        },
        {
          "output_type": "stream",
          "name": "stdout",
          "text": [
            "[2199] loss: 0.495\n"
          ]
        },
        {
          "output_type": "stream",
          "name": "stderr",
          "text": [
            " 28%|██▊       | 2300/8100 [10:27<25:49,  3.74it/s]"
          ]
        },
        {
          "output_type": "stream",
          "name": "stdout",
          "text": [
            "[2299] loss: 0.460\n"
          ]
        },
        {
          "output_type": "stream",
          "name": "stderr",
          "text": [
            " 30%|██▉       | 2400/8100 [10:55<26:01,  3.65it/s]"
          ]
        },
        {
          "output_type": "stream",
          "name": "stdout",
          "text": [
            "[2399] loss: 0.468\n"
          ]
        },
        {
          "output_type": "stream",
          "name": "stderr",
          "text": [
            " 31%|███       | 2500/8100 [11:22<25:20,  3.68it/s]"
          ]
        },
        {
          "output_type": "stream",
          "name": "stdout",
          "text": [
            "[2499] loss: 0.466\n"
          ]
        },
        {
          "output_type": "stream",
          "name": "stderr",
          "text": [
            " 32%|███▏      | 2600/8100 [11:49<24:47,  3.70it/s]"
          ]
        },
        {
          "output_type": "stream",
          "name": "stdout",
          "text": [
            "[2599] loss: 0.452\n"
          ]
        },
        {
          "output_type": "stream",
          "name": "stderr",
          "text": [
            " 33%|███▎      | 2700/8100 [12:16<24:49,  3.62it/s]"
          ]
        },
        {
          "output_type": "stream",
          "name": "stdout",
          "text": [
            "[2699] loss: 0.481\n"
          ]
        },
        {
          "output_type": "stream",
          "name": "stderr",
          "text": [
            " 35%|███▍      | 2800/8100 [12:43<24:08,  3.66it/s]"
          ]
        },
        {
          "output_type": "stream",
          "name": "stdout",
          "text": [
            "[2799] loss: 0.476\n"
          ]
        },
        {
          "output_type": "stream",
          "name": "stderr",
          "text": [
            " 36%|███▌      | 2900/8100 [13:11<24:43,  3.50it/s]"
          ]
        },
        {
          "output_type": "stream",
          "name": "stdout",
          "text": [
            "[2899] loss: 0.453\n"
          ]
        },
        {
          "output_type": "stream",
          "name": "stderr",
          "text": [
            " 37%|███▋      | 3000/8100 [13:38<23:29,  3.62it/s]"
          ]
        },
        {
          "output_type": "stream",
          "name": "stdout",
          "text": [
            "[2999] loss: 0.438\n"
          ]
        },
        {
          "output_type": "stream",
          "name": "stderr",
          "text": [
            " 38%|███▊      | 3100/8100 [14:05<23:23,  3.56it/s]"
          ]
        },
        {
          "output_type": "stream",
          "name": "stdout",
          "text": [
            "[3099] loss: 0.421\n"
          ]
        },
        {
          "output_type": "stream",
          "name": "stderr",
          "text": [
            " 40%|███▉      | 3200/8100 [14:33<22:10,  3.68it/s]"
          ]
        },
        {
          "output_type": "stream",
          "name": "stdout",
          "text": [
            "[3199] loss: 0.480\n"
          ]
        },
        {
          "output_type": "stream",
          "name": "stderr",
          "text": [
            " 41%|████      | 3300/8100 [15:00<21:53,  3.66it/s]"
          ]
        },
        {
          "output_type": "stream",
          "name": "stdout",
          "text": [
            "[3299] loss: 0.440\n"
          ]
        },
        {
          "output_type": "stream",
          "name": "stderr",
          "text": [
            " 42%|████▏     | 3400/8100 [15:27<21:27,  3.65it/s]"
          ]
        },
        {
          "output_type": "stream",
          "name": "stdout",
          "text": [
            "[3399] loss: 0.445\n"
          ]
        },
        {
          "output_type": "stream",
          "name": "stderr",
          "text": [
            " 43%|████▎     | 3489/8100 [15:52<20:58,  3.66it/s]\n"
          ]
        },
        {
          "output_type": "error",
          "ename": "KeyboardInterrupt",
          "evalue": "ignored",
          "traceback": [
            "\u001b[0;31m---------------------------------------------------------------------------\u001b[0m",
            "\u001b[0;31mKeyboardInterrupt\u001b[0m                         Traceback (most recent call last)",
            "\u001b[0;32m<ipython-input-92-e904680ebe04>\u001b[0m in \u001b[0;36m<module>\u001b[0;34m()\u001b[0m\n\u001b[1;32m     17\u001b[0m \u001b[0;31m#multi_net = MultiNet()\u001b[0m\u001b[0;34m\u001b[0m\u001b[0;34m\u001b[0m\u001b[0;34m\u001b[0m\u001b[0m\n\u001b[1;32m     18\u001b[0m \u001b[0moptimizer\u001b[0m \u001b[0;34m=\u001b[0m \u001b[0moptim\u001b[0m\u001b[0;34m.\u001b[0m\u001b[0mSGD\u001b[0m\u001b[0;34m(\u001b[0m\u001b[0mmulti_net\u001b[0m\u001b[0;34m.\u001b[0m\u001b[0mparameters\u001b[0m\u001b[0;34m(\u001b[0m\u001b[0;34m)\u001b[0m\u001b[0;34m,\u001b[0m \u001b[0mlr\u001b[0m\u001b[0;34m=\u001b[0m\u001b[0mlr\u001b[0m\u001b[0;34m,\u001b[0m \u001b[0mweight_decay\u001b[0m\u001b[0;34m=\u001b[0m\u001b[0mweight_decay\u001b[0m\u001b[0;34m)\u001b[0m\u001b[0;34m\u001b[0m\u001b[0;34m\u001b[0m\u001b[0m\n\u001b[0;32m---> 19\u001b[0;31m \u001b[0mmulti_net\u001b[0m \u001b[0;34m=\u001b[0m \u001b[0mtrain_model\u001b[0m\u001b[0;34m(\u001b[0m\u001b[0mmulti_net\u001b[0m\u001b[0;34m,\u001b[0m \u001b[0moptimizer\u001b[0m\u001b[0;34m,\u001b[0m \u001b[0mepoch\u001b[0m \u001b[0;34m=\u001b[0m \u001b[0;36m1\u001b[0m\u001b[0;34m)\u001b[0m\u001b[0;34m\u001b[0m\u001b[0;34m\u001b[0m\u001b[0m\n\u001b[0m\u001b[1;32m     20\u001b[0m \u001b[0;31m# save to download if it crashes\u001b[0m\u001b[0;34m\u001b[0m\u001b[0;34m\u001b[0m\u001b[0;34m\u001b[0m\u001b[0m\n\u001b[1;32m     21\u001b[0m \u001b[0;32mfrom\u001b[0m \u001b[0mos\u001b[0m\u001b[0;34m.\u001b[0m\u001b[0mpath\u001b[0m \u001b[0;32mimport\u001b[0m \u001b[0mexists\u001b[0m\u001b[0;34m\u001b[0m\u001b[0;34m\u001b[0m\u001b[0m\n",
            "\u001b[0;32m<ipython-input-92-e904680ebe04>\u001b[0m in \u001b[0;36mtrain_model\u001b[0;34m(net, optimizer, run_validation, epoch)\u001b[0m\n\u001b[1;32m      8\u001b[0m     \u001b[0;32mreturn\u001b[0m \u001b[0mloss1\u001b[0m \u001b[0;34m+\u001b[0m \u001b[0mloss2\u001b[0m\u001b[0;34m\u001b[0m\u001b[0;34m\u001b[0m\u001b[0m\n\u001b[1;32m      9\u001b[0m   \u001b[0;32mif\u001b[0m \u001b[0mrun_validation\u001b[0m\u001b[0;34m:\u001b[0m\u001b[0;34m\u001b[0m\u001b[0;34m\u001b[0m\u001b[0m\n\u001b[0;32m---> 10\u001b[0;31m     \u001b[0mres\u001b[0m \u001b[0;34m=\u001b[0m \u001b[0mtrain_network\u001b[0m\u001b[0;34m(\u001b[0m\u001b[0mnet\u001b[0m\u001b[0;34m,\u001b[0m \u001b[0moptimizer\u001b[0m\u001b[0;34m,\u001b[0m \u001b[0mcriterion\u001b[0m\u001b[0;34m=\u001b[0m\u001b[0mml_criterion\u001b[0m\u001b[0;34m,\u001b[0m \u001b[0mmax_epoch\u001b[0m\u001b[0;34m=\u001b[0m\u001b[0mepoch\u001b[0m\u001b[0;34m)\u001b[0m\u001b[0;34m\u001b[0m\u001b[0;34m\u001b[0m\u001b[0m\n\u001b[0m\u001b[1;32m     11\u001b[0m     \u001b[0mdigit_accuracies\u001b[0m\u001b[0;34m,\u001b[0m \u001b[0mletter_accuracies\u001b[0m \u001b[0;34m=\u001b[0m \u001b[0mres\u001b[0m\u001b[0;34m\u001b[0m\u001b[0;34m\u001b[0m\u001b[0m\n\u001b[1;32m     12\u001b[0m   \u001b[0;32melse\u001b[0m\u001b[0;34m:\u001b[0m\u001b[0;34m\u001b[0m\u001b[0;34m\u001b[0m\u001b[0m\n",
            "\u001b[0;32m<ipython-input-13-e8053c7dbda0>\u001b[0m in \u001b[0;36mtrain_network\u001b[0;34m(net, optimizer, criterion, max_epoch)\u001b[0m\n\u001b[1;32m     11\u001b[0m           \u001b[0moutputs\u001b[0m \u001b[0;34m=\u001b[0m \u001b[0mnet\u001b[0m\u001b[0;34m(\u001b[0m\u001b[0minputs\u001b[0m\u001b[0;34m)\u001b[0m\u001b[0;34m\u001b[0m\u001b[0;34m\u001b[0m\u001b[0m\n\u001b[1;32m     12\u001b[0m           \u001b[0mloss\u001b[0m \u001b[0;34m=\u001b[0m \u001b[0mcriterion\u001b[0m\u001b[0;34m(\u001b[0m\u001b[0moutputs\u001b[0m\u001b[0;34m,\u001b[0m \u001b[0mlabels\u001b[0m\u001b[0;34m)\u001b[0m\u001b[0;34m\u001b[0m\u001b[0;34m\u001b[0m\u001b[0m\n\u001b[0;32m---> 13\u001b[0;31m           \u001b[0mloss\u001b[0m\u001b[0;34m.\u001b[0m\u001b[0mbackward\u001b[0m\u001b[0;34m(\u001b[0m\u001b[0;34m)\u001b[0m\u001b[0;34m\u001b[0m\u001b[0;34m\u001b[0m\u001b[0m\n\u001b[0m\u001b[1;32m     14\u001b[0m           \u001b[0moptimizer\u001b[0m\u001b[0;34m.\u001b[0m\u001b[0mstep\u001b[0m\u001b[0;34m(\u001b[0m\u001b[0;34m)\u001b[0m\u001b[0;34m\u001b[0m\u001b[0;34m\u001b[0m\u001b[0m\n\u001b[1;32m     15\u001b[0m           \u001b[0mrunning_loss\u001b[0m \u001b[0;34m+=\u001b[0m \u001b[0mloss\u001b[0m\u001b[0;34m.\u001b[0m\u001b[0mitem\u001b[0m\u001b[0;34m(\u001b[0m\u001b[0;34m)\u001b[0m\u001b[0;34m\u001b[0m\u001b[0;34m\u001b[0m\u001b[0m\n",
            "\u001b[0;32m/usr/local/lib/python3.7/dist-packages/torch/_tensor.py\u001b[0m in \u001b[0;36mbackward\u001b[0;34m(self, gradient, retain_graph, create_graph, inputs)\u001b[0m\n\u001b[1;32m    305\u001b[0m                 \u001b[0mcreate_graph\u001b[0m\u001b[0;34m=\u001b[0m\u001b[0mcreate_graph\u001b[0m\u001b[0;34m,\u001b[0m\u001b[0;34m\u001b[0m\u001b[0;34m\u001b[0m\u001b[0m\n\u001b[1;32m    306\u001b[0m                 inputs=inputs)\n\u001b[0;32m--> 307\u001b[0;31m         \u001b[0mtorch\u001b[0m\u001b[0;34m.\u001b[0m\u001b[0mautograd\u001b[0m\u001b[0;34m.\u001b[0m\u001b[0mbackward\u001b[0m\u001b[0;34m(\u001b[0m\u001b[0mself\u001b[0m\u001b[0;34m,\u001b[0m \u001b[0mgradient\u001b[0m\u001b[0;34m,\u001b[0m \u001b[0mretain_graph\u001b[0m\u001b[0;34m,\u001b[0m \u001b[0mcreate_graph\u001b[0m\u001b[0;34m,\u001b[0m \u001b[0minputs\u001b[0m\u001b[0;34m=\u001b[0m\u001b[0minputs\u001b[0m\u001b[0;34m)\u001b[0m\u001b[0;34m\u001b[0m\u001b[0;34m\u001b[0m\u001b[0m\n\u001b[0m\u001b[1;32m    308\u001b[0m \u001b[0;34m\u001b[0m\u001b[0m\n\u001b[1;32m    309\u001b[0m     \u001b[0;32mdef\u001b[0m \u001b[0mregister_hook\u001b[0m\u001b[0;34m(\u001b[0m\u001b[0mself\u001b[0m\u001b[0;34m,\u001b[0m \u001b[0mhook\u001b[0m\u001b[0;34m)\u001b[0m\u001b[0;34m:\u001b[0m\u001b[0;34m\u001b[0m\u001b[0;34m\u001b[0m\u001b[0m\n",
            "\u001b[0;32m/usr/local/lib/python3.7/dist-packages/torch/autograd/__init__.py\u001b[0m in \u001b[0;36mbackward\u001b[0;34m(tensors, grad_tensors, retain_graph, create_graph, grad_variables, inputs)\u001b[0m\n\u001b[1;32m    154\u001b[0m     Variable._execution_engine.run_backward(\n\u001b[1;32m    155\u001b[0m         \u001b[0mtensors\u001b[0m\u001b[0;34m,\u001b[0m \u001b[0mgrad_tensors_\u001b[0m\u001b[0;34m,\u001b[0m \u001b[0mretain_graph\u001b[0m\u001b[0;34m,\u001b[0m \u001b[0mcreate_graph\u001b[0m\u001b[0;34m,\u001b[0m \u001b[0minputs\u001b[0m\u001b[0;34m,\u001b[0m\u001b[0;34m\u001b[0m\u001b[0;34m\u001b[0m\u001b[0m\n\u001b[0;32m--> 156\u001b[0;31m         allow_unreachable=True, accumulate_grad=True)  # allow_unreachable flag\n\u001b[0m\u001b[1;32m    157\u001b[0m \u001b[0;34m\u001b[0m\u001b[0m\n\u001b[1;32m    158\u001b[0m \u001b[0;34m\u001b[0m\u001b[0m\n",
            "\u001b[0;31mKeyboardInterrupt\u001b[0m: "
          ]
        }
      ]
    },
    {
      "cell_type": "code",
      "metadata": {
        "colab": {
          "base_uri": "https://localhost:8080/"
        },
        "id": "g5yDY9CD2NCs",
        "outputId": "f600a5a2-8c37-449f-a5e8-caec46f4b685"
      },
      "source": [
        "validate_model(multi_net, validation_loader)"
      ],
      "execution_count": 93,
      "outputs": [
        {
          "output_type": "stream",
          "name": "stdout",
          "text": [
            "Starting Validation Iteration\n"
          ]
        },
        {
          "output_type": "stream",
          "name": "stderr",
          "text": [
            "100%|██████████| 100/100 [00:08<00:00, 11.30it/s]"
          ]
        },
        {
          "output_type": "stream",
          "name": "stdout",
          "text": [
            "\n",
            " Digit Accuracy: 0.9460004568099976, Letter Accuracy: 0.8920003771781921\n"
          ]
        },
        {
          "output_type": "stream",
          "name": "stderr",
          "text": [
            "\n"
          ]
        },
        {
          "output_type": "execute_result",
          "data": {
            "text/plain": [
              "(0.9460004568099976, 0.8920003771781921)"
            ]
          },
          "metadata": {},
          "execution_count": 93
        }
      ]
    },
    {
      "cell_type": "code",
      "metadata": {
        "id": "XPF10nPxjqgP"
      },
      "source": [
        "# find labels on unlabeled data\n",
        "state_dict = torch.load('checkpoint.pth')\n",
        "multi_net = MultiNet()\n",
        "multi_net.load_state_dict(state_dict)\n",
        "\n",
        "labels = []\n",
        "k = 0\n",
        "while(k<30000):\n",
        "  r = k+500\n",
        "  if r > len(unlabeled_data):\n",
        "    r = len(unlabeled_data)\n",
        "  l1,l2 = multi_net(torch.from_numpy(unlabeled_data[k:r, None]).float())\n",
        "  l1 = np.argmax(l1.detach().numpy(), axis=1)\n",
        "  l2 = np.argmax(l2.detach().numpy(), axis=1)\n",
        "  for j in range(0, len(l1)):\n",
        "    labels.append([l1[j], l2[j]])\n",
        "    k += 1\n",
        "unlabeled_labels = np.array(labels)"
      ],
      "execution_count": null,
      "outputs": []
    },
    {
      "cell_type": "code",
      "metadata": {
        "id": "RT8SVb20jw_j"
      },
      "source": [
        "unlabeled_tensor = torch.from_numpy(final_unlabeled_data[:,None]).float()\n",
        "\n",
        "processed_unlabeled_labels = np.delete(unlabeled_labels, bad_unlabeled_index, axis=0)\n",
        "final_unlabeled_labels = np.append(unlabeled_labels, processed_unlabeled_labels, axis=0)\n",
        "\n",
        "unlabeled_dataset = TensorDataset(unlabeled_tensor, torch.from_numpy(final_unlabeled_labels))\n",
        "final_training_dataset = torch.utils.data.ConcatDataset([multi_training_dataset, unlabeled_dataset])\n",
        "\n",
        "final_training_dataloader = DataLoader(final_training_dataset, batch_size=30, shuffle=True, num_workers=2)\n",
        "# train with the training and unlabeled data\n",
        "multi_net = train_model(final_training_dataloader, 6)\n",
        "from os.path import exists\n",
        "torch.save(multi_net.state_dict(), 'checkpoint2.pth')"
      ],
      "execution_count": null,
      "outputs": []
    },
    {
      "cell_type": "markdown",
      "metadata": {
        "id": "4VlH7E76Cud7"
      },
      "source": [
        "## Results"
      ]
    },
    {
      "cell_type": "markdown",
      "metadata": {
        "id": "N-uBsbTqcnXI"
      },
      "source": [
        "Quick Sanity check"
      ]
    },
    {
      "cell_type": "code",
      "metadata": {
        "id": "5dQ-WneJWeD4"
      },
      "source": [
        "img_grid(2, 5, normalized_testing_data[10000:100010])\n",
        "l1, l2 = multi_net(torch.from_numpy(normalized_testing_data[10000:10010, None]).float())\n",
        "l1 = np.argmax(l1.detach().numpy(), axis=1)\n",
        "l2 = np.argmax(l2.detach().numpy(), axis=1)\n",
        "print(list(zip(l1,map(lambda x: mapping[x], l2))))"
      ],
      "execution_count": null,
      "outputs": []
    },
    {
      "cell_type": "code",
      "metadata": {
        "id": "iB7GDwKTNFOd"
      },
      "source": [
        "def LabelToString(label, isDigit):\n",
        "  s = \"\"\n",
        "  r = 0\n",
        "  if (isDigit):\n",
        "    r = 10\n",
        "  else:\n",
        "    r = 26\n",
        "  for i in range(0, r):\n",
        "    if (i == label):\n",
        "      s += '1'\n",
        "    else:\n",
        "      s += '0'\n",
        "  return s\n",
        "\n",
        "category = []\n",
        "k = 0\n",
        "while(k<15000):\n",
        "  l1,l2 = multi_net(testing_dataset[k:k+100])\n",
        "  l1 = np.argmax(l1.detach().numpy(), axis=1)\n",
        "  l2 = np.argmax(l2.detach().numpy(), axis=1)\n",
        "  for i in range(0, len(l1)):\n",
        "    a = LabelToString(l1[i], True)\n",
        "    b = LabelToString(l2[i], False)\n",
        "    category.append(a+b)\n",
        "    k += 1"
      ],
      "execution_count": 72,
      "outputs": []
    },
    {
      "cell_type": "code",
      "metadata": {
        "colab": {
          "base_uri": "https://localhost:8080/"
        },
        "id": "mxYZsufbCud8",
        "outputId": "231c9894-163e-420f-b475-13f338124cf5"
      },
      "source": [
        "id = []\n",
        "for i in range(0, 15000):\n",
        "  id.append(i)\n",
        "# need to create data dict\n",
        "data = {\n",
        "    '# Id' : id,\n",
        "    'Category' : category\n",
        "}\n",
        "\n",
        "df = pd.DataFrame(data=data, columns= ['# Id', 'Category'])\n",
        "print(df)\n",
        "df.to_csv('/content/drive/My Drive/data/results.csv', index = False, header=True)"
      ],
      "execution_count": 73,
      "outputs": [
        {
          "output_type": "stream",
          "name": "stdout",
          "text": [
            "        # Id                              Category\n",
            "0          0  100000000000000000000000000001000000\n",
            "1          1  000010000000000000000100000000000000\n",
            "2          2  000000000100000000010000000000000000\n",
            "3          3  100000000000000000000100000000000000\n",
            "4          4  000000100000000000010000000000000000\n",
            "...      ...                                   ...\n",
            "14995  14995  000100000000001000000000000000000000\n",
            "14996  14996  000100000000000000000000001000000000\n",
            "14997  14997  000000100000000000000000001000000000\n",
            "14998  14998  010000000000000000100000000000000000\n",
            "14999  14999  001000000000000000001000000000000000\n",
            "\n",
            "[15000 rows x 2 columns]\n"
          ]
        }
      ]
    }
  ]
}