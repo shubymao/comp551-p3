{
  "nbformat": 4,
  "nbformat_minor": 0,
  "metadata": {
    "accelerator": "GPU",
    "colab": {
      "name": "Project 3 Notebook.ipynb",
      "provenance": [],
      "collapsed_sections": [],
      "include_colab_link": true
    },
    "deepnote": {
      "is_reactive": false
    },
    "deepnote_execution_queue": [
      {
        "cellId": "00014-5023c705-89c0-4b0d-8475-31dbf86965f1",
        "msgId": "df859eb8-5087-492b-81a0-bf32da9d72c2",
        "sessionId": "ba7e9811-adf0-4ae0-bc6e-78a462d11bf3"
      }
    ],
    "deepnote_notebook_id": "6ceacadf-544f-46ff-b007-fbadf7aa1867",
    "kernelspec": {
      "display_name": "Python 3",
      "name": "python3"
    },
    "language_info": {
      "name": "python"
    }
  },
  "cells": [
    {
      "cell_type": "markdown",
      "metadata": {
        "id": "view-in-github",
        "colab_type": "text"
      },
      "source": [
        "<a href=\"https://colab.research.google.com/github/shubymao/comp551-p3/blob/shuby-dev/Project_3_Notebook.ipynb\" target=\"_parent\"><img src=\"https://colab.research.google.com/assets/colab-badge.svg\" alt=\"Open In Colab\"/></a>"
      ]
    },
    {
      "cell_type": "markdown",
      "metadata": {
        "id": "Msqh4iDyCudk"
      },
      "source": [
        "# Project 3 - Convolution Neural Network"
      ]
    },
    {
      "cell_type": "markdown",
      "metadata": {
        "id": "CpzLeM6RCudt"
      },
      "source": [
        "## Team Members"
      ]
    },
    {
      "cell_type": "markdown",
      "metadata": {
        "id": "LjQkokOPCudu"
      },
      "source": [
        "Le-Li Mao (260800098)"
      ]
    },
    {
      "cell_type": "markdown",
      "metadata": {
        "id": "diF0MA9uCudu"
      },
      "source": [
        "Victor Livernoche (260926276)"
      ]
    },
    {
      "cell_type": "markdown",
      "metadata": {
        "id": "XXsMnElHCudv"
      },
      "source": [
        "Enan Ashaduzzaman (260805923)"
      ]
    },
    {
      "cell_type": "markdown",
      "metadata": {
        "id": "GXOuUvc6Cudw"
      },
      "source": [
        "## Initializing Dependency"
      ]
    },
    {
      "cell_type": "code",
      "metadata": {
        "colab": {
          "base_uri": "https://localhost:8080/"
        },
        "id": "RNubcKypCudx",
        "outputId": "74cb9264-7843-4a96-cecc-b485504cf245"
      },
      "source": [
        "from __future__ import print_function\n",
        "import pickle as pkl\n",
        "import numpy as np\n",
        "import argparse\n",
        "from tqdm import tqdm\n",
        "from sklearn.preprocessing import normalize\n",
        "\n",
        "import cv2\n",
        "\n",
        "import torch\n",
        "import torch.nn as nn\n",
        "import torch.nn.functional as F\n",
        "import torch.optim as optim\n",
        "from torch.utils.data import TensorDataset, DataLoader, random_split\n",
        "import torchvision\n",
        "from torchvision import datasets, transforms\n",
        "import pandas as pd\n",
        "\n",
        "%matplotlib inline\n",
        "from mpl_toolkits.axes_grid1 import ImageGrid\n",
        "import matplotlib.pyplot as plt\n",
        "import string\n",
        "from google.colab import drive\n",
        "drive.mount('/content/drive')\n",
        "# print(torch.cuda.get_device_name(0))\n",
        "device = torch.device('cuda' if torch.cuda.is_available() else 'cpu')\n",
        "print(device)"
      ],
      "execution_count": 2,
      "outputs": [
        {
          "output_type": "stream",
          "name": "stdout",
          "text": [
            "Drive already mounted at /content/drive; to attempt to forcibly remount, call drive.mount(\"/content/drive\", force_remount=True).\n",
            "cpu\n"
          ]
        }
      ]
    },
    {
      "cell_type": "markdown",
      "metadata": {
        "id": "nhtudTKhCudz"
      },
      "source": [
        "## Loading Data"
      ]
    },
    {
      "cell_type": "code",
      "metadata": {
        "id": "nTc9y2J_Cud0"
      },
      "source": [
        "mapping = list(string.ascii_lowercase) \n",
        "training_data, training_labels, testing_data = None, None, None\n",
        "with open(\"/content/drive/My Drive/data/images_l.pkl\", 'rb') as f: \n",
        "    training_data = pkl.load(f)\n",
        "with open(\"/content/drive/My Drive/data/labels_l.pkl\", 'rb') as f: \n",
        "    training_labels = pkl.load(f)\n",
        "with open(\"/content/drive/My Drive/data/images_test.pkl\", 'rb') as f: \n",
        "    testing_data = pkl.load(f)"
      ],
      "execution_count": 3,
      "outputs": []
    },
    {
      "cell_type": "markdown",
      "metadata": {
        "id": "I6d_j7rMFpZg"
      },
      "source": [
        "## Preprocessing"
      ]
    },
    {
      "cell_type": "markdown",
      "metadata": {
        "id": "8O-Sz56Rptrd"
      },
      "source": [
        "### Preprocessing Helper Functions"
      ]
    },
    {
      "cell_type": "markdown",
      "metadata": {
        "id": "UflUy3ApCud1"
      },
      "source": [
        "Create the pipeline for handling data"
      ]
    },
    {
      "cell_type": "code",
      "metadata": {
        "id": "AHRptvAyNmEe"
      },
      "source": [
        "def nomalize_img(img):\n",
        "  cliped_img = np.clip(img, 0, 255)\n",
        "  subtracted_img = cliped_img - cliped_img.mean() + 10\n",
        "  normalized_img = subtracted_img / np.max(subtracted_img) * 255\n",
        "  return normalized_img"
      ],
      "execution_count": 17,
      "outputs": []
    },
    {
      "cell_type": "code",
      "metadata": {
        "id": "EA5ehjMbynFA"
      },
      "source": [
        "def extract_key_item(original, padding=2, threshold=100 , show_all = False, debug=False):\n",
        "  stages = None\n",
        "  img = cv2.normalize(original, None, 0, 255, cv2.NORM_MINMAX, cv2.CV_8U)\n",
        "  img_blur = cv2.GaussianBlur(img, (7, 7), 0)\n",
        "  (_, thresh) = cv2.threshold(img_blur, 65, 255, cv2.THRESH_BINARY)\n",
        "  if debug: plt.imshow(img_blur); plt.show()\n",
        "  if debug: plt.imshow(thresh); plt.show()\n",
        "  contours, _ = cv2.findContours(thresh, cv2.RETR_TREE, cv2.CHAIN_APPROX_NONE)\n",
        "  key_items = []\n",
        "  bounding_box_cords = []\n",
        "  for c in contours:\n",
        "      x,y,w,h = cv2.boundingRect(c)\n",
        "      if show_all or debug: cv2.rectangle(img, (x, y), (x + w, y + h), 255, 1)\n",
        "      if(w < 10 and h < 10): # select elements with at least 10px width or 10 px height\n",
        "        continue\n",
        "      dup = False\n",
        "      for (px, py) in bounding_box_cords:\n",
        "        if abs(px-x)+abs(py-y) < 10:\n",
        "          dup = True\n",
        "      if dup: continue   \n",
        "      key_items.append(original[y-padding:y+h+padding,x-padding:x+w+padding].copy())\n",
        "      \n",
        "      bounding_box_cords.append((x,y,))\n",
        "  if show_all: \n",
        "    stages = [img_blur, thresh, img]\n",
        "  if debug: plt.imshow(img); plt.show()\n",
        "  return stages, key_items"
      ],
      "execution_count": 18,
      "outputs": []
    },
    {
      "cell_type": "code",
      "metadata": {
        "id": "6fZppzL12QhU"
      },
      "source": [
        "def pad_to_fixed_size(img, width, height):\n",
        "  row, col = img.shape\n",
        "  if row > height or col > width: \n",
        "    return None\n",
        "  pl = (width - col)// 2\n",
        "  pt = (height - row)// 2\n",
        "  pr = (width - col - pl)\n",
        "  pb = (height - row - pt)\n",
        "  return np.pad(img, [(pt,pb),(pl,pr)], 'constant')"
      ],
      "execution_count": 19,
      "outputs": []
    },
    {
      "cell_type": "code",
      "metadata": {
        "id": "Ufgde1f40_Mc"
      },
      "source": [
        "def merge_key_items(key_items):\n",
        "  if len(key_items) >= 2:\n",
        "    item1 = pad_to_fixed_size(key_items[0],28,56)\n",
        "    item2 = pad_to_fixed_size(key_items[1],28,56)\n",
        "    if item1 is None or item2 is None: return None\n",
        "    result = np.concatenate((item1,item2), axis = 1)\n",
        "    return result \n",
        "  return None"
      ],
      "execution_count": 20,
      "outputs": []
    },
    {
      "cell_type": "code",
      "metadata": {
        "id": "hkoF49-AGwy_"
      },
      "source": [
        "def pre_processing(original, show_all=False, debug=False):\n",
        "  normalized_img = nomalize_img(original.copy())\n",
        "  if debug: plt.imshow(normalized_img); plt.show()\n",
        "  extract_stages, key_items = extract_key_item(normalized_img, show_all=show_all, debug=debug)\n",
        "  if debug: [(plt.imshow(item), plt.show()) for item in key_items]\n",
        "  result = merge_key_items(key_items)\n",
        "  #result = cv2.normalize(result, None, 0, 255, cv2.NORM_MINMAX, cv2.CV_8U)\n",
        "  #result = cv2.fastNlMeansDenoising(result, None, 3, 7)\n",
        "  #result = cv2.threshold(result, 65, 255, cv2.THRESH_BINARY)\n",
        "  #result = np.asarray(result)\n",
        "  if result is None: return normalized_img, None, False\n",
        "  stages = None\n",
        "  if show_all:\n",
        "    stages = [original, normalized_img, *extract_stages, *key_items, result]\n",
        "  return result, stages, True"
      ],
      "execution_count": 21,
      "outputs": []
    },
    {
      "cell_type": "code",
      "metadata": {
        "id": "n5_VqihgmpXu"
      },
      "source": [
        "def convert_labels_to_readables(labels):\n",
        "  readables = []\n",
        "  for label in labels:\n",
        "    l1 = np.argmax(label[0:10])\n",
        "    l2 = mapping[np.argmax(label[10:])]\n",
        "    readables.append((l1,l2,))\n",
        "  return readables"
      ],
      "execution_count": 22,
      "outputs": []
    },
    {
      "cell_type": "code",
      "metadata": {
        "id": "67D6zKQtpG8h"
      },
      "source": [
        "# show images\n",
        "def img_grid(row,col,imgs):\n",
        "  if imgs is None: return\n",
        "  for r in range(row):\n",
        "    fig, axs = plt.subplots(nrows=1, ncols=col, figsize=(7.,10.))\n",
        "    for i, ax in enumerate(axs.flatten()):\n",
        "        if(len(imgs) <= r*col+i): \n",
        "          return\n",
        "        plt.sca(ax)\n",
        "        plt.imshow(imgs[r*col+i])\n",
        "        #plt.colorbar()\n",
        "    plt.show()"
      ],
      "execution_count": 23,
      "outputs": []
    },
    {
      "cell_type": "code",
      "metadata": {
        "colab": {
          "base_uri": "https://localhost:8080/",
          "height": 110
        },
        "id": "uPnJcsozCud3",
        "outputId": "bf567a58-ac94-4ceb-eec8-7c486dca5a08"
      },
      "source": [
        "# Test the preprocessing functions\n",
        "for ind in np.random.choice(training_data.shape[0], 3, replace=False):\n",
        "  img = training_data[ind]\n",
        "  _, stages,_ = pre_processing(img, show_all=True)\n",
        "  if stages is not None: img_grid(1,len(stages),stages)"
      ],
      "execution_count": 24,
      "outputs": [
        {
          "output_type": "display_data",
          "data": {
            "image/png": "[encoded data removed]",
            "text/plain": [
              "<Figure size 504x720 with 8 Axes>"
            ]
          },
          "metadata": {
            "needs_background": "light"
          }
        }
      ]
    },
    {
      "cell_type": "code",
      "metadata": {
        "id": "SBJcLOQAXrKY"
      },
      "source": [
        "# transform all data to the output format\n",
        "def process_data(data):\n",
        "  output, bad_index = [], []\n",
        "  for i in range(len(data)):\n",
        "      result,_,valid = pre_processing(data[i])\n",
        "      output.append(result)\n",
        "      if not valid:\n",
        "        bad_index.append(i)\n",
        "  output = np.array(output).astype('float64')\n",
        "  return output, bad_index\n",
        "\n",
        "def normalize_data(data):\n",
        "  output = []\n",
        "  for i in range(len(data)):\n",
        "      output.append(nomalize_img(data[i].copy()))\n",
        "  output = np.array(output).astype('float64')\n",
        "  return output"
      ],
      "execution_count": 25,
      "outputs": []
    },
    {
      "cell_type": "markdown",
      "metadata": {
        "id": "P1Yf-lRvp0V4"
      },
      "source": [
        "### Processing The Data"
      ]
    },
    {
      "cell_type": "code",
      "metadata": {
        "colab": {
          "base_uri": "https://localhost:8080/"
        },
        "id": "ntjjm_ejHulW",
        "outputId": "10f0153f-914e-41ac-c272-590896ea607a"
      },
      "source": [
        "normalized_training_data = normalize_data(training_data)\n",
        "processed_training_data, bad_training_index = process_data(training_data)\n",
        "\n",
        "print(f'Number of training data element unable to be separated: {len(bad_training_index)}')\n",
        "processed_training_data = np.delete(processed_training_data, bad_training_index, axis=0)\n",
        "processed_training_labels = np.delete(training_labels, bad_training_index, axis=0)\n",
        "\n",
        "print(\"Normalized data set\")\n",
        "print(normalized_training_data.shape)\n",
        "print(training_labels.shape)\n",
        "print(\"Processed (separated) data set\")\n",
        "print(processed_training_data.shape)\n",
        "print(processed_training_labels.shape)"
      ],
      "execution_count": 26,
      "outputs": [
        {
          "output_type": "stream",
          "name": "stdout",
          "text": [
            "Number of training data element unable to be separated: 4277\n",
            "Normalized data set\n",
            "(30000, 56, 56)\n",
            "(30000, 36)\n",
            "Processed (separated) data set\n",
            "(25723, 56, 56)\n",
            "(25723, 36)\n"
          ]
        }
      ]
    },
    {
      "cell_type": "code",
      "metadata": {
        "colab": {
          "base_uri": "https://localhost:8080/"
        },
        "id": "326fPZePHvh9",
        "outputId": "1bc3b6e8-00f5-4ac7-abf3-a76e288c7ce4"
      },
      "source": [
        "normalized_testing_data = normalize_data(testing_data)\n",
        "processed_testing_data, bad_testing_index = process_data(testing_data)\n",
        "print(\"Normalized testing data set\")\n",
        "print(normalized_testing_data.shape)\n",
        "print(\"Processed (separated) testing data set\")\n",
        "print(f'Number of test data element unable to be processed: {len(bad_testing_index)}')\n",
        "print(processed_testing_data.shape)"
      ],
      "execution_count": 27,
      "outputs": [
        {
          "output_type": "stream",
          "name": "stdout",
          "text": [
            "Normalized testing data set\n",
            "(15000, 56, 56)\n",
            "Processed (separated) testing data set\n",
            "Number of test data element unable to be processed: 2066\n",
            "(15000, 56, 56)\n"
          ]
        }
      ]
    },
    {
      "cell_type": "code",
      "metadata": {
        "colab": {
          "base_uri": "https://localhost:8080/",
          "height": 239
        },
        "id": "Uy1lkBOmbE9w",
        "outputId": "400599de-cadd-41d0-a757-d0975e4d5fa1"
      },
      "source": [
        "def show_random_sample(n):\n",
        "  index = np.random.choice(processed_training_data.shape[0], n, replace=False)  \n",
        "  img_grid(n//5,5,processed_training_data[index])\n",
        "  print(convert_labels_to_readables(processed_training_labels[index]))\n",
        "show_random_sample(10)"
      ],
      "execution_count": 28,
      "outputs": [
        {
          "output_type": "display_data",
          "data": {
            "image/png": "[encoded data removed]",
            "text/plain": [
              "<Figure size 504x720 with 5 Axes>"
            ]
          },
          "metadata": {
            "needs_background": "light"
          }
        },
        {
          "output_type": "display_data",
          "data": {
            "image/png": "[encoded data removed]",
            "text/plain": [
              "<Figure size 504x720 with 5 Axes>"
            ]
          },
          "metadata": {
            "needs_background": "light"
          }
        },
        {
          "output_type": "stream",
          "name": "stdout",
          "text": [
            "[(1, 'l'), (2, 't'), (1, 'j'), (9, 'l'), (7, 'r'), (7, 'l'), (0, 'f'), (0, 'c'), (4, 'f'), (4, 'd')]\n"
          ]
        }
      ]
    },
    {
      "cell_type": "markdown",
      "metadata": {
        "id": "eo0NbFKGJDbi"
      },
      "source": [
        "Put the data into dataloader"
      ]
    },
    {
      "cell_type": "code",
      "metadata": {
        "id": "ef_-4cWkCud2"
      },
      "source": [
        "def make_training_data_loader(data, label, batch_size=30, shuffle=True, num_workers=2):\n",
        "  data_tensor = torch.from_numpy(data[:,None]).float()\n",
        "  number_label_tensor =  torch.from_numpy(np.argmax(label[:,0:10],1))\n",
        "  letter_label_tensor = torch.from_numpy(np.argmax(label[:,10:36],1))\n",
        "  multi_label_tensor = torch.stack((number_label_tensor,letter_label_tensor), axis=1)\n",
        "  multi_label_tensor = multi_label_tensor\n",
        "  combined_dataset = TensorDataset(data_tensor, multi_label_tensor)\n",
        "  train_size = int(0.9*len(combined_dataset))\n",
        "  validation_size = len(combined_dataset)-train_size\n",
        "  training_dataset, validation_dataset = random_split(combined_dataset, [train_size, validation_size])\n",
        "  training_dataloader = DataLoader(training_dataset, batch_size = batch_size, shuffle = shuffle, num_workers = num_workers)\n",
        "  validation_dataloader = DataLoader(validation_dataset, batch_size = batch_size, shuffle = shuffle, num_workers = num_workers)\n",
        "  combined_dataloader = DataLoader(combined_dataset, batch_size = batch_size, shuffle = shuffle, num_workers = num_workers)\n",
        "  return training_dataloader, validation_dataloader, combined_dataloader\n",
        "\n",
        "norm_training_loader, norm_validation_loader, _ = make_training_data_loader(normalized_training_data, training_labels)\n",
        "processed_training_loader, processed_validation_loader, _ = make_training_data_loader(processed_training_data, processed_training_labels)"
      ],
      "execution_count": 29,
      "outputs": []
    },
    {
      "cell_type": "markdown",
      "metadata": {
        "id": "7wL3AbTECud4"
      },
      "source": [
        "## Training Model"
      ]
    },
    {
      "cell_type": "markdown",
      "metadata": {
        "id": "F_VOUOUHcFZW"
      },
      "source": [
        "Initialize network validation and training function"
      ]
    },
    {
      "cell_type": "code",
      "metadata": {
        "id": "AwkzEV1q8TNm"
      },
      "source": [
        "def validate_model(model, validation_dataloader, on_gpu = False):\n",
        "  digit_acc, letter_acc = 0, 0\n",
        "  print(\"Starting Validation Iteration\")\n",
        "  for i, validation_data in enumerate(tqdm(validation_dataloader)):\n",
        "    inputs, labels = validation_data\n",
        "    if on_gpu:\n",
        "      inputs = inputs.to(device)\n",
        "      labels = labels.to(device)\n",
        "    o1, o2 = model(inputs)\n",
        "    l1, l2 = labels[:,0], labels[:,1]\n",
        "    digit_acc += torch.mean((torch.argmax(o1, dim=1) == l1).float()).float()\n",
        "    letter_acc += torch.mean((torch.argmax(o2, dim=1) == l2).float())\n",
        "  digit_acc = digit_acc/len(validation_dataloader)\n",
        "  letter_acc = letter_acc / len(validation_dataloader)\n",
        "  print(f'\\n Digit Accuracy: {digit_acc.item()}, Letter Accuracy: {letter_acc.item()}')\n",
        "  return (digit_acc.item(), letter_acc.item())"
      ],
      "execution_count": 15,
      "outputs": []
    },
    {
      "cell_type": "code",
      "metadata": {
        "id": "f_Gq3OJCPTBM"
      },
      "source": [
        ""
      ],
      "execution_count": null,
      "outputs": []
    },
    {
      "cell_type": "code",
      "metadata": {
        "id": "H7Bsqq4ECud6"
      },
      "source": [
        "def train_network(net, dataloader, validation_dataloader, on_gpu=False, lr = 0.005, momentum = 0.9, max_epoch = 10, criterion = nn.CrossEntropyLoss()):\n",
        "  optimizer = optim.SGD(net.parameters(), lr=lr, momentum=momentum, weight_decay=1e-4)\n",
        "  running_loss = 0.0\n",
        "  digits_accs, letter_accs = [], []\n",
        "  for epoch in range(max_epoch):  # loop over the dataset multiple times\n",
        "      cnt = 0\n",
        "      print(\"Starting Training Iteration\")\n",
        "      for i, data in enumerate(tqdm(dataloader)):\n",
        "          inputs, labels = data\n",
        "          if on_gpu:\n",
        "            inputs = inputs.to(device)\n",
        "            labels = labels.to(device)\n",
        "          optimizer.zero_grad()\n",
        "          outputs = net(inputs)\n",
        "          loss = criterion(outputs, labels)\n",
        "          loss.backward()\n",
        "          optimizer.step()\n",
        "          running_loss += loss.item()\n",
        "          cnt+=1\n",
        "      print('[%d] loss: %.3f' % (epoch + 1, running_loss / cnt))\n",
        "      running_loss, cnt = 0.0, 0\n",
        "      if validation_dataloader is not None:\n",
        "        digit_acc, letter_acc = validate_model(net, validation_dataloader)\n",
        "        digits_accs.append(digit_acc)\n",
        "        letter_accs.append(letter_acc)\n",
        "  return (digits_accs, letter_accs)"
      ],
      "execution_count": 13,
      "outputs": []
    },
    {
      "cell_type": "markdown",
      "metadata": {
        "id": "6Hjn-Gkl09aY"
      },
      "source": [
        "### Multi-Output Model"
      ]
    },
    {
      "cell_type": "markdown",
      "metadata": {
        "id": "8XVNq7TyM3nc"
      },
      "source": [
        "Initalize the Multilabel Model"
      ]
    },
    {
      "cell_type": "code",
      "metadata": {
        "id": "mzXNmXUTM870"
      },
      "source": [
        "class MultiNet(nn.Module):\n",
        "    def __init__(self):\n",
        "        super(MultiNet, self).__init__()\n",
        "         # 4 convolution layer\n",
        "        self.conv1 = nn.Conv2d(1, 64, 3, padding='same')\n",
        "        self.conv2 = nn.Conv2d(64, 64, 3, padding='same')\n",
        "        self.conv3 = nn.Conv2d(64, 128, 3, padding='same')\n",
        "        self.conv4 = nn.Conv2d(128, 256, 3, padding='same')\n",
        "        \n",
        "        self.pool2 = nn.MaxPool2d(2, 2)\n",
        "\n",
        "        # 3 Dense Layer\n",
        "        self.fc11 = nn.Linear(256*3*3, 1000)\n",
        "        self.fc12 = nn.Linear(256*3*3, 1000)\n",
        "        self.fc21 = nn.Linear(1000, 100)\n",
        "        self.fc22 = nn.Linear(1000, 1000)\n",
        "        self.fc31 = nn.Linear(100, 10)\n",
        "        self.fc32 = nn.Linear(1000, 26)\n",
        "\n",
        "    def forward(self, x):\n",
        "        # Convolution Layers\n",
        "        x = F.relu(self.conv1(x))\n",
        "        x = self.pool2(x)\n",
        "        x = F.relu(self.conv2(x))\n",
        "        x = self.pool2(x)\n",
        "        x = F.relu(self.conv3(x))\n",
        "        x = self.pool2(x)\n",
        "        x = F.relu(self.conv4(x))\n",
        "        x = self.pool2(x)\n",
        "        # print(x.size())\n",
        "        # Dense Layers\n",
        "        x = x.view(-1,self.num_flat_features(x)) # Flatten\n",
        "        l1 = F.relu(self.fc21(F.relu(self.fc11(x))))\n",
        "        l2 = F.relu(self.fc22(F.relu(self.fc12(x))))\n",
        "        l1 = self.fc31(l1)\n",
        "        l2 = self.fc32(l2)\n",
        "        return l1,l2\n",
        "    \n",
        "    def num_flat_features(self, x):\n",
        "        size = x.size()[1:]  # all dimensions except the batch dimension\n",
        "        num_features = 1\n",
        "        for s in size:\n",
        "            num_features *= s\n",
        "        return num_features"
      ],
      "execution_count": 14,
      "outputs": []
    },
    {
      "cell_type": "code",
      "metadata": {
        "id": "WbqQbojs5P0v"
      },
      "source": [
        "def lr_test_bench():\n",
        "  for lr in [0.1, 0.05, 0.01, 0.005, 0.001, 0.0005, 0.0001, 0.00005, 0.00001]:\n",
        "    multi_net = MultiNet()\n",
        "    multi_net_criterion = nn.CrossEntropyLoss()\n",
        "    lr, epoch = 0.001, 1 \n",
        "    def ml_criterion(output, labels):\n",
        "      o1, o2 = output\n",
        "      l1, l2 = labels[:,0], labels[:,1]\n",
        "      loss1 = multi_net_criterion(o1,l1)\n",
        "      loss2 = multi_net_criterion(o2,l2)\n",
        "      return loss1 + loss2\n",
        "    res = train_network(multi_net, norm_training_loader, norm_validation_loader, criterion=ml_criterion, lr=lr, max_epoch=1)\n",
        "# lr_test_bench()"
      ],
      "execution_count": 151,
      "outputs": []
    },
    {
      "cell_type": "code",
      "metadata": {
        "id": "-nTa_yc4NHi3",
        "colab": {
          "base_uri": "https://localhost:8080/"
        },
        "outputId": "e4ac6cf4-1c9f-4bd5-ce1e-c04a63841935"
      },
      "source": [
        "def train_model(multi_net = MultiNet(), on_gpu = False, run_validation = True, lr = 0.001, epoch = 1):\n",
        "  multi_net_criterion = nn.CrossEntropyLoss()\n",
        "  if on_gpu:\n",
        "    multi_net = multi_net.to(device)\n",
        "  def ml_criterion(output, labels):\n",
        "    o1, o2 = output\n",
        "    l1, l2 = labels[:,0], labels[:,1]\n",
        "    loss1 = multi_net_criterion(o1,l1)\n",
        "    loss2 = multi_net_criterion(o2,l2)\n",
        "    return loss1 + loss2\n",
        "  if run_validation:\n",
        "    res = train_network(multi_net, norm_training_loader, norm_validation_loader, on_gpu=on_gpu, criterion=ml_criterion, lr=lr, max_epoch=epoch)\n",
        "    digit_accuracies, letter_accuracies = res\n",
        "  else: \n",
        "    res = train_network(multi_net, norm_training_loader, None, on_gpu=on_gpu, criterion=ml_criterion, lr=lr, max_epoch=epoch)\n",
        "  return multi_net\n",
        "multi_net = train_model(lr=0.001, epoch=5)"
      ],
      "execution_count": 30,
      "outputs": [
        {
          "output_type": "stream",
          "name": "stdout",
          "text": [
            "Starting Training Iteration\n"
          ]
        },
        {
          "output_type": "stream",
          "name": "stderr",
          "text": [
            "100%|██████████| 900/900 [05:43<00:00,  2.62it/s]\n"
          ]
        },
        {
          "output_type": "stream",
          "name": "stdout",
          "text": [
            "[1] loss: 5.314\n",
            "Starting Validation Iteration\n"
          ]
        },
        {
          "output_type": "stream",
          "name": "stderr",
          "text": [
            "100%|██████████| 100/100 [00:16<00:00,  6.25it/s]\n"
          ]
        },
        {
          "output_type": "stream",
          "name": "stdout",
          "text": [
            "\n",
            " Digit Accuracy: 0.37166664004325867, Letter Accuracy: 0.14900001883506775\n",
            "Starting Training Iteration\n"
          ]
        },
        {
          "output_type": "stream",
          "name": "stderr",
          "text": [
            "100%|██████████| 900/900 [05:52<00:00,  2.55it/s]\n"
          ]
        },
        {
          "output_type": "stream",
          "name": "stdout",
          "text": [
            "[2] loss: 3.669\n",
            "Starting Validation Iteration\n"
          ]
        },
        {
          "output_type": "stream",
          "name": "stderr",
          "text": [
            "100%|██████████| 100/100 [00:15<00:00,  6.29it/s]\n"
          ]
        },
        {
          "output_type": "stream",
          "name": "stdout",
          "text": [
            "\n",
            " Digit Accuracy: 0.7203330993652344, Letter Accuracy: 0.43700000643730164\n",
            "Starting Training Iteration\n"
          ]
        },
        {
          "output_type": "stream",
          "name": "stderr",
          "text": [
            "100%|██████████| 900/900 [05:51<00:00,  2.56it/s]\n"
          ]
        },
        {
          "output_type": "stream",
          "name": "stdout",
          "text": [
            "[3] loss: 1.950\n",
            "Starting Validation Iteration\n"
          ]
        },
        {
          "output_type": "stream",
          "name": "stderr",
          "text": [
            "100%|██████████| 100/100 [00:15<00:00,  6.32it/s]\n"
          ]
        },
        {
          "output_type": "stream",
          "name": "stdout",
          "text": [
            "\n",
            " Digit Accuracy: 0.8413336277008057, Letter Accuracy: 0.6306665539741516\n",
            "Starting Training Iteration\n"
          ]
        },
        {
          "output_type": "stream",
          "name": "stderr",
          "text": [
            "100%|██████████| 900/900 [05:51<00:00,  2.56it/s]\n"
          ]
        },
        {
          "output_type": "stream",
          "name": "stdout",
          "text": [
            "[4] loss: 1.091\n",
            "Starting Validation Iteration\n"
          ]
        },
        {
          "output_type": "stream",
          "name": "stderr",
          "text": [
            "100%|██████████| 100/100 [00:15<00:00,  6.27it/s]\n"
          ]
        },
        {
          "output_type": "stream",
          "name": "stdout",
          "text": [
            "\n",
            " Digit Accuracy: 0.8570002913475037, Letter Accuracy: 0.7046667337417603\n",
            "Starting Training Iteration\n"
          ]
        },
        {
          "output_type": "stream",
          "name": "stderr",
          "text": [
            "100%|██████████| 900/900 [05:51<00:00,  2.56it/s]\n"
          ]
        },
        {
          "output_type": "stream",
          "name": "stdout",
          "text": [
            "[5] loss: 0.640\n",
            "Starting Validation Iteration\n"
          ]
        },
        {
          "output_type": "stream",
          "name": "stderr",
          "text": [
            "100%|██████████| 100/100 [00:15<00:00,  6.33it/s]"
          ]
        },
        {
          "output_type": "stream",
          "name": "stdout",
          "text": [
            "\n",
            " Digit Accuracy: 0.8770003318786621, Letter Accuracy: 0.7566667795181274\n"
          ]
        },
        {
          "output_type": "stream",
          "name": "stderr",
          "text": [
            "\n"
          ]
        }
      ]
    },
    {
      "cell_type": "code",
      "metadata": {
        "colab": {
          "base_uri": "https://localhost:8080/"
        },
        "id": "fucqBWFgTMzz",
        "outputId": "27226ec1-1ea3-4121-886e-e3335656355d"
      },
      "source": [
        "# Run more epoch here if find a good model\n",
        "multi_net = train_model(multi_net, lr=0.001, epoch=1)"
      ],
      "execution_count": 192,
      "outputs": [
        {
          "output_type": "stream",
          "name": "stdout",
          "text": [
            "Starting Training Iteration\n"
          ]
        },
        {
          "output_type": "stream",
          "name": "stderr",
          "text": [
            "100%|██████████| 900/900 [05:24<00:00,  2.77it/s]\n"
          ]
        },
        {
          "output_type": "stream",
          "name": "stdout",
          "text": [
            "[1] loss: 0.234\n",
            "Starting Validation Iteration\n"
          ]
        },
        {
          "output_type": "stream",
          "name": "stderr",
          "text": [
            "100%|██████████| 100/100 [00:15<00:00,  6.59it/s]"
          ]
        },
        {
          "output_type": "stream",
          "name": "stdout",
          "text": [
            "\n",
            " Digit Accuracy: 0.879666805267334, Letter Accuracy: 0.7713333368301392\n"
          ]
        },
        {
          "output_type": "stream",
          "name": "stderr",
          "text": [
            "\n"
          ]
        }
      ]
    },
    {
      "cell_type": "markdown",
      "metadata": {
        "id": "4VlH7E76Cud7"
      },
      "source": [
        "## Results"
      ]
    },
    {
      "cell_type": "markdown",
      "metadata": {
        "id": "N-uBsbTqcnXI"
      },
      "source": [
        "Quick Sanity check"
      ]
    },
    {
      "cell_type": "code",
      "metadata": {
        "id": "5dQ-WneJWeD4",
        "colab": {
          "base_uri": "https://localhost:8080/",
          "height": 239
        },
        "outputId": "f87c0f15-6479-4c53-9d8d-21947c75f49b"
      },
      "source": [
        "img_grid(2, 5, normalized_testing_data[10000:100010])\n",
        "l1, l2 = multi_net(torch.from_numpy(normalized_testing_data[10000:10010, None]).float())\n",
        "l1 = np.argmax(l1.detach().numpy(), axis=1)\n",
        "l2 = np.argmax(l2.detach().numpy(), axis=1)\n",
        "print(list(zip(l1,map(lambda x: mapping[x], l2))))"
      ],
      "execution_count": 193,
      "outputs": [
        {
          "output_type": "display_data",
          "data": {
            "image/png": "[encoded data removed]",
            "text/plain": [
              "<Figure size 504x720 with 5 Axes>"
            ]
          },
          "metadata": {
            "needs_background": "light"
          }
        },
        {
          "output_type": "display_data",
          "data": {
            "image/png": "[encoded data removed]",
            "text/plain": [
              "<Figure size 504x720 with 5 Axes>"
            ]
          },
          "metadata": {
            "needs_background": "light"
          }
        },
        {
          "output_type": "stream",
          "name": "stdout",
          "text": [
            "[(5, 'c'), (6, 'i'), (5, 'c'), (7, 'n'), (5, 'g'), (4, 'd'), (9, 'o'), (6, 't'), (9, 't'), (4, 'l')]\n"
          ]
        }
      ]
    },
    {
      "cell_type": "code",
      "metadata": {
        "id": "iB7GDwKTNFOd"
      },
      "source": [
        "def LabelToString(label, isDigit):\n",
        "  s = \"\"\n",
        "  r = 0\n",
        "  if (isDigit):\n",
        "    r = 10\n",
        "  else:\n",
        "    r = 26\n",
        "  for i in range(0, r):\n",
        "    if (i == label):\n",
        "      s += '1'\n",
        "    else:\n",
        "      s += '0'\n",
        "  return s\n",
        "\n",
        "category = []\n",
        "k = 0\n",
        "while(k<15000):\n",
        "  l1,l2 = multi_net(torch.from_numpy(normalized_testing_data[k:k+100, None]).float())\n",
        "  l1 = np.argmax(l1.detach().numpy(), axis=1)\n",
        "  l2 = np.argmax(l2.detach().numpy(), axis=1)\n",
        "  for i in range(0, len(l1)):\n",
        "    a = LabelToString(l1[i], True)\n",
        "    b = LabelToString(l2[i], False)\n",
        "    category.append(a+b)\n",
        "    k += 1"
      ],
      "execution_count": 194,
      "outputs": []
    },
    {
      "cell_type": "code",
      "metadata": {
        "colab": {
          "base_uri": "https://localhost:8080/"
        },
        "id": "mxYZsufbCud8",
        "outputId": "40b89ba0-c6fd-438b-e6b6-3dada8af4467"
      },
      "source": [
        "id = []\n",
        "for i in range(0, 15000):\n",
        "  id.append(i)\n",
        "# need to create data dict\n",
        "data = {\n",
        "    '# Id' : id,\n",
        "    'Category' : category\n",
        "}\n",
        "\n",
        "df = pd.DataFrame(data=data, columns= ['# Id', 'Category'])\n",
        "print(df)\n",
        "df.to_csv('/content/drive/My Drive/data/results.csv', index = False, header=True)"
      ],
      "execution_count": 195,
      "outputs": [
        {
          "output_type": "stream",
          "name": "stdout",
          "text": [
            "        # Id                              Category\n",
            "0          0  100000000000000000000000000001000000\n",
            "1          1  000010000000000000000100000000000000\n",
            "2          2  000001000000000000000100000000000000\n",
            "3          3  100000000000000000000100000000000000\n",
            "4          4  000000100000000000010000000000000000\n",
            "...      ...                                   ...\n",
            "14995  14995  000100000000001000000000000000000000\n",
            "14996  14996  000100000010000000000000000000000000\n",
            "14997  14997  000000100000000000000000001000000000\n",
            "14998  14998  010000000000000000100000000000000000\n",
            "14999  14999  001000000000000000001000000000000000\n",
            "\n",
            "[15000 rows x 2 columns]\n"
          ]
        }
      ]
    }
  ]
}