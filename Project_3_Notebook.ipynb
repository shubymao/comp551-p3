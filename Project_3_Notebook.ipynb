{
  "nbformat": 4,
  "nbformat_minor": 0,
  "metadata": {
    "accelerator": "GPU",
    "colab": {
      "name": "Project 3 Notebook.ipynb",
      "provenance": [],
      "collapsed_sections": [],
      "include_colab_link": true
    },
    "deepnote": {
      "is_reactive": false
    },
    "deepnote_execution_queue": [
      {
        "cellId": "00014-5023c705-89c0-4b0d-8475-31dbf86965f1",
        "msgId": "df859eb8-5087-492b-81a0-bf32da9d72c2",
        "sessionId": "ba7e9811-adf0-4ae0-bc6e-78a462d11bf3"
      }
    ],
    "deepnote_notebook_id": "6ceacadf-544f-46ff-b007-fbadf7aa1867",
    "kernelspec": {
      "display_name": "Python 3",
      "name": "python3"
    },
    "language_info": {
      "name": "python"
    }
  },
  "cells": [
    {
      "cell_type": "markdown",
      "metadata": {
        "id": "view-in-github",
        "colab_type": "text"
      },
      "source": [
        "<a href=\"https://colab.research.google.com/github/shubymao/comp551-p3/blob/shuby-dev/Project_3_Notebook.ipynb\" target=\"_parent\"><img src=\"https://colab.research.google.com/assets/colab-badge.svg\" alt=\"Open In Colab\"/></a>"
      ]
    },
    {
      "cell_type": "markdown",
      "metadata": {
        "id": "Msqh4iDyCudk"
      },
      "source": [
        "# Project 3 - Convolution Neural Network"
      ]
    },
    {
      "cell_type": "markdown",
      "metadata": {
        "id": "CpzLeM6RCudt"
      },
      "source": [
        "## Team Members"
      ]
    },
    {
      "cell_type": "markdown",
      "metadata": {
        "id": "LjQkokOPCudu"
      },
      "source": [
        "Le-Li Mao (260800098)"
      ]
    },
    {
      "cell_type": "markdown",
      "metadata": {
        "id": "diF0MA9uCudu"
      },
      "source": [
        "Victor Livernoche (260926276)"
      ]
    },
    {
      "cell_type": "markdown",
      "metadata": {
        "id": "XXsMnElHCudv"
      },
      "source": [
        "Enan Ashaduzzaman (260805923)"
      ]
    },
    {
      "cell_type": "markdown",
      "metadata": {
        "id": "GXOuUvc6Cudw"
      },
      "source": [
        "## Initializing Dependency"
      ]
    },
    {
      "cell_type": "code",
      "metadata": {
        "colab": {
          "base_uri": "https://localhost:8080/"
        },
        "id": "RNubcKypCudx",
        "outputId": "f8c435f3-1b81-420c-a5c2-9e2ede6151a4"
      },
      "source": [
        "from __future__ import print_function\n",
        "import pickle as pkl\n",
        "import numpy as np\n",
        "import argparse\n",
        "from tqdm import tqdm\n",
        "from sklearn.preprocessing import normalize\n",
        "import random\n",
        "\n",
        "import torch\n",
        "import torch.nn as nn\n",
        "import torch.nn.functional as F\n",
        "import torch.optim as optim\n",
        "from torch.optim.lr_scheduler import ExponentialLR\n",
        "from torch.utils.data import TensorDataset, DataLoader, random_split\n",
        "import torchvision.transforms.functional as TF\n",
        "from torchvision.transforms import *\n",
        "import pandas as pd\n",
        "\n",
        "%matplotlib inline\n",
        "import matplotlib.pyplot as plt\n",
        "import string\n",
        "from google.colab import drive\n",
        "drive.mount('/content/drive')\n",
        "# print(torch.cuda.get_device_name(0))\n",
        "device = torch.device('cuda' if torch.cuda.is_available() else 'cpu')\n",
        "print(device)"
      ],
      "execution_count": 22,
      "outputs": [
        {
          "output_type": "stream",
          "name": "stdout",
          "text": [
            "Drive already mounted at /content/drive; to attempt to forcibly remount, call drive.mount(\"/content/drive\", force_remount=True).\n",
            "cpu\n"
          ]
        }
      ]
    },
    {
      "cell_type": "markdown",
      "metadata": {
        "id": "nhtudTKhCudz"
      },
      "source": [
        "## Loading Data"
      ]
    },
    {
      "cell_type": "code",
      "metadata": {
        "id": "nTc9y2J_Cud0"
      },
      "source": [
        "mapping = list(string.ascii_lowercase) \n",
        "training_data, training_labels, testing_data = None, None, None\n",
        "with open(\"/content/drive/My Drive/data/images_l.pkl\", 'rb') as f: \n",
        "    training_data = pkl.load(f)\n",
        "    validation_size = training_data.shape[0]//10\n",
        "    validation_data = training_data[0:validation_size]\n",
        "    training_data = training_data[validation_size:]\n",
        "with open(\"/content/drive/My Drive/data/labels_l.pkl\", 'rb') as f: \n",
        "    training_labels = pkl.load(f)\n",
        "    validation_size = training_labels.shape[0]//10\n",
        "    validation_labels = training_labels[0:validation_size]\n",
        "    training_labels = training_labels[validation_size:]\n",
        "with open(\"/content/drive/My Drive/data/images_test.pkl\", 'rb') as f: \n",
        "    testing_data = pkl.load(f)"
      ],
      "execution_count": 2,
      "outputs": []
    },
    {
      "cell_type": "markdown",
      "metadata": {
        "id": "I6d_j7rMFpZg"
      },
      "source": [
        "## Preprocessing"
      ]
    },
    {
      "cell_type": "markdown",
      "metadata": {
        "id": "8O-Sz56Rptrd"
      },
      "source": [
        "### Preprocessing Helper Functions"
      ]
    },
    {
      "cell_type": "code",
      "metadata": {
        "id": "n5_VqihgmpXu"
      },
      "source": [
        "def convert_labels_to_readables(labels):\n",
        "  readables = []\n",
        "  for label in labels:\n",
        "    l1, l2 = int(label[0]), mapping[label[1].int()]\n",
        "    readables.append((l1,l2,))\n",
        "  return readables"
      ],
      "execution_count": 3,
      "outputs": []
    },
    {
      "cell_type": "code",
      "metadata": {
        "id": "67D6zKQtpG8h"
      },
      "source": [
        "# show images\n",
        "def img_grid(row,col,imgs):\n",
        "  if imgs is None: return\n",
        "  for r in range(row):\n",
        "    fig, axs = plt.subplots(nrows=1, ncols=col, figsize=(7.,10.))\n",
        "    for i, ax in enumerate(axs.flatten()):\n",
        "        if(len(imgs) <= r*col+i): \n",
        "          return\n",
        "        plt.sca(ax)\n",
        "        plt.imshow(imgs[r*col+i])    \n",
        "    # plt.colorbar()\n",
        "    plt.show()"
      ],
      "execution_count": 4,
      "outputs": []
    },
    {
      "cell_type": "code",
      "metadata": {
        "colab": {
          "base_uri": "https://localhost:8080/",
          "height": 85
        },
        "id": "Phh_bfmCrzPf",
        "outputId": "e0a6eeb8-273e-4e58-ba89-d1ce3c01d91f"
      },
      "source": [
        "affine_manager = RandomAffine(45, scale = (0.9,1.1),  shear = 5)\n",
        "def generate_affine(image_tensor, num):\n",
        "    outputs = []\n",
        "    for _ in range(num):\n",
        "      outputs.append(affine_manager(image_tensor))\n",
        "    return outputs\n",
        "\n",
        "sample_tensor = torch.from_numpy(training_data[100,None]).float()\n",
        "affined_tensors = map(lambda x: x[0], generate_affine(sample_tensor,9))\n",
        "img_grid(1,10,[sample_tensor[0],*affined_tensors])"
      ],
      "execution_count": 60,
      "outputs": [
        {
          "output_type": "display_data",
          "data": {
            "image/png": "[encoded data removed]",
            "text/plain": [
              "<Figure size 504x720 with 10 Axes>"
            ]
          },
          "metadata": {
            "needs_background": "light"
          }
        }
      ]
    },
    {
      "cell_type": "code",
      "metadata": {
        "colab": {
          "base_uri": "https://localhost:8080/",
          "height": 425
        },
        "id": "HfO06Y0L1q56",
        "outputId": "8cb36daa-2045-4b74-837c-ff5290b750ce"
      },
      "source": [
        "perspective_manager = RandomPerspective(0.5)\n",
        "def generate_pespective(image_tensor, num):\n",
        "    outputs = []\n",
        "    for _ in range(num):\n",
        "      outputs.append(perspective_manager(image_tensor))\n",
        "    return outputs\n",
        "\n",
        "sample_tensor = torch.from_numpy(training_data[2000,None]).float()\n",
        "perspective_tensors = map(lambda x: x[0], generate_pespective(sample_tensor,19))\n",
        "img_grid(4,5,[sample_tensor[0],*perspective_tensors])"
      ],
      "execution_count": 59,
      "outputs": [
        {
          "output_type": "display_data",
          "data": {
            "image/png": "[encoded data removed]",
            "text/plain": [
              "<Figure size 504x720 with 5 Axes>"
            ]
          },
          "metadata": {
            "needs_background": "light"
          }
        },
        {
          "output_type": "display_data",
          "data": {
            "image/png": "[encoded data removed]",
            "text/plain": [
              "<Figure size 504x720 with 5 Axes>"
            ]
          },
          "metadata": {
            "needs_background": "light"
          }
        },
        {
          "output_type": "display_data",
          "data": {
            "image/png": "[encoded data removed]",
            "text/plain": [
              "<Figure size 504x720 with 5 Axes>"
            ]
          },
          "metadata": {
            "needs_background": "light"
          }
        },
        {
          "output_type": "display_data",
          "data": {
            "image/png": "[encoded data removed]",
            "text/plain": [
              "<Figure size 504x720 with 5 Axes>"
            ]
          },
          "metadata": {
            "needs_background": "light"
          }
        }
      ]
    },
    {
      "cell_type": "code",
      "metadata": {
        "id": "SBJcLOQAXrKY"
      },
      "source": [
        "# transform all data to the output format\n",
        "def process_training_data(data, labels, affine_cnt = 0, perspective_cnt = 0):\n",
        "  multiplier = (1+affine_cnt+perspective_cnt)\n",
        "  data_tensor = torch.from_numpy(data[:,None]).float()\n",
        "  new_data = torch.empty((len(data)*multiplier,1,56,56))\n",
        "  num_labels = torch.empty(len(data)*multiplier)\n",
        "  letter_labels = torch.empty(len(data)*multiplier)\n",
        "  output_index = 0\n",
        "  for i in tqdm(range(len(data_tensor))):\n",
        "    # Assign the labels to the new data\n",
        "    num_labels[i*multiplier:(i+1)*multiplier] = int(np.argmax(labels[i,0:10]))\n",
        "    letter_labels[i*multiplier:(i+1)*multiplier] = int(np.argmax(labels[i,10:]))\n",
        "    # Creating the rotation and sharpness images\n",
        "    norm_img = torch.clip(data_tensor[i],0,255)\n",
        "    mean, std = torch.mean(norm_img), torch.std(norm_img)\n",
        "    norm_img = TF.normalize(norm_img, [mean], [std])\n",
        "    new_data[output_index] = norm_img; output_index+=1\n",
        "    for r_img in generate_affine(norm_img, affine_cnt):\n",
        "      new_data[output_index] = r_img; output_index+=1\n",
        "    for s_img in generate_pespective(norm_img, perspective_cnt):\n",
        "      new_data[output_index] = s_img; output_index+=1\n",
        "  \n",
        "  # Creating the datasets\n",
        "  multi_label_tensor = torch.stack((num_labels,letter_labels), axis=1).long()\n",
        "  dataset = TensorDataset(new_data, multi_label_tensor)\n",
        "  return dataset\n",
        "  "
      ],
      "execution_count": 64,
      "outputs": []
    },
    {
      "cell_type": "code",
      "metadata": {
        "colab": {
          "base_uri": "https://localhost:8080/"
        },
        "id": "ivuz449qgNV7",
        "outputId": "ef0d6398-f6dd-4266-e1a9-b221e20384fd"
      },
      "source": [
        "def process_testing_data(data):\n",
        "  data_tensor = torch.from_numpy(data[:,None]).float()\n",
        "  dataset = torch.empty((len(data),1,56,56))\n",
        "  for i in tqdm(range(len(data_tensor))):\n",
        "    mean, std = torch.mean(data_tensor[i]), torch.std(data_tensor[i])\n",
        "    norm_img = TF.normalize(data_tensor[i], [mean], [std])\n",
        "    dataset[i] = norm_img\n",
        "  return dataset\n",
        "testing_dataset = process_testing_data(testing_data)"
      ],
      "execution_count": 8,
      "outputs": [
        {
          "output_type": "stream",
          "name": "stderr",
          "text": [
            "100%|██████████| 15000/15000 [00:01<00:00, 11229.05it/s]\n"
          ]
        }
      ]
    },
    {
      "cell_type": "markdown",
      "metadata": {
        "id": "P1Yf-lRvp0V4"
      },
      "source": [
        "### Processing The Data"
      ]
    },
    {
      "cell_type": "markdown",
      "metadata": {
        "id": "eo0NbFKGJDbi"
      },
      "source": [
        "Process the data and put the data into dataloader"
      ]
    },
    {
      "cell_type": "code",
      "metadata": {
        "colab": {
          "base_uri": "https://localhost:8080/"
        },
        "id": "peHFpFQsvaQg",
        "outputId": "d75b3e89-5c12-481d-dbd3-efba39e7e3be"
      },
      "source": [
        "def make_data_loader(dataset, batch_size=30, shuffle=True, num_workers=2):\n",
        "  dataloader = DataLoader(dataset, batch_size = batch_size, shuffle = shuffle, num_workers = num_workers)\n",
        "  return dataloader\n",
        "\n",
        "print(\"Processing Training Data\")\n",
        "training_dataset = process_training_data(training_data, training_labels, 6, 0)\n",
        "print(\"Processing Validation Data\")\n",
        "validation_dataset = process_training_data(validation_data,validation_labels)\n",
        "\n",
        "training_loader = make_data_loader(training_dataset)\n",
        "validation_loader = make_data_loader(validation_dataset)"
      ],
      "execution_count": 66,
      "outputs": [
        {
          "output_type": "stream",
          "name": "stdout",
          "text": [
            "Processing Training Data\n"
          ]
        },
        {
          "output_type": "stream",
          "name": "stderr",
          "text": [
            "100%|██████████| 27000/27000 [01:08<00:00, 392.94it/s]\n"
          ]
        },
        {
          "output_type": "stream",
          "name": "stdout",
          "text": [
            "Processing Validation Data\n"
          ]
        },
        {
          "output_type": "stream",
          "name": "stderr",
          "text": [
            "100%|██████████| 3000/3000 [00:00<00:00, 8157.34it/s]\n"
          ]
        }
      ]
    },
    {
      "cell_type": "code",
      "metadata": {
        "colab": {
          "base_uri": "https://localhost:8080/",
          "height": 238
        },
        "id": "0aXcu3HsziKE",
        "outputId": "5a227b17-2a13-4e22-b93b-0cd966d7dbef"
      },
      "source": [
        "def show_sample(n):\n",
        "  perm = torch.randperm(len(training_dataset))\n",
        "  idx = perm[:n]\n",
        "  data, labels = training_dataset[idx]\n",
        "  img_grid(n//5,5 , data[:,0])\n",
        "  print(convert_labels_to_readables(labels))\n",
        "show_sample(10)"
      ],
      "execution_count": 65,
      "outputs": [
        {
          "output_type": "display_data",
          "data": {
            "image/png": "[encoded data removed]",
            "text/plain": [
              "<Figure size 504x720 with 5 Axes>"
            ]
          },
          "metadata": {
            "needs_background": "light"
          }
        },
        {
          "output_type": "display_data",
          "data": {
            "image/png": "[encoded data removed]",
            "text/plain": [
              "<Figure size 504x720 with 5 Axes>"
            ]
          },
          "metadata": {
            "needs_background": "light"
          }
        },
        {
          "output_type": "stream",
          "name": "stdout",
          "text": [
            "[(1, 'b'), (3, 'v'), (9, 'u'), (5, 'd'), (7, 'l'), (9, 'c'), (1, 'h'), (0, 'r'), (5, 'r'), (3, 'x')]\n"
          ]
        }
      ]
    },
    {
      "cell_type": "markdown",
      "metadata": {
        "id": "7wL3AbTECud4"
      },
      "source": [
        "## Training Model"
      ]
    },
    {
      "cell_type": "markdown",
      "metadata": {
        "id": "6Hjn-Gkl09aY"
      },
      "source": [
        "### Multi-Output Model"
      ]
    },
    {
      "cell_type": "markdown",
      "metadata": {
        "id": "8XVNq7TyM3nc"
      },
      "source": [
        "Initalize the Multilabel Model"
      ]
    },
    {
      "cell_type": "code",
      "metadata": {
        "id": "mzXNmXUTM870"
      },
      "source": [
        "class MultiNet(nn.Module):\n",
        "    def __init__(self):\n",
        "        super(MultiNet, self).__init__()\n",
        "         # 4 convolution layer\n",
        "        self.conv1 = nn.Conv2d(1, 64, 3, padding='same')\n",
        "        self.conv2 = nn.Conv2d(64, 64, 3, padding='same')\n",
        "        self.conv3 = nn.Conv2d(64, 128, 3, padding='same')\n",
        "        self.conv4 = nn.Conv2d(128, 256, 3, padding='same')\n",
        "        \n",
        "        self.pool2 = nn.MaxPool2d(2, 2)\n",
        "\n",
        "        # 3 Dense Layer\n",
        "        self.fc11 = nn.Linear(256*3*3, 1000)\n",
        "        self.fc12 = nn.Linear(256*3*3, 1000)\n",
        "        self.fc21 = nn.Linear(1000, 100)\n",
        "        self.fc22 = nn.Linear(1000, 1000)\n",
        "        self.fc31 = nn.Linear(100, 10)\n",
        "        self.fc32 = nn.Linear(1000, 26)\n",
        "\n",
        "    def forward(self, x):\n",
        "        # Convolution Layers\n",
        "        x = F.relu(self.conv1(x))\n",
        "        x = self.pool2(x)\n",
        "        x = F.relu(self.conv2(x))\n",
        "        x = self.pool2(x)\n",
        "        x = F.relu(self.conv3(x))\n",
        "        x = self.pool2(x)\n",
        "        x = F.relu(self.conv4(x))\n",
        "        x = self.pool2(x)\n",
        "        # print(x.size())\n",
        "        # Dense Layers\n",
        "        x = x.view(-1,self.num_flat_features(x)) # Flatten\n",
        "        l1 = F.relu(self.fc21(F.relu(self.fc11(x))))\n",
        "        l2 = F.relu(self.fc22(F.relu(self.fc12(x))))\n",
        "        l1 = self.fc31(l1)\n",
        "        l2 = self.fc32(l2)\n",
        "        return l1,l2\n",
        "    \n",
        "    def num_flat_features(self, x):\n",
        "        size = x.size()[1:]  # all dimensions except the batch dimension\n",
        "        num_features = 1\n",
        "        for s in size:\n",
        "            num_features *= s\n",
        "        return num_features"
      ],
      "execution_count": null,
      "outputs": []
    },
    {
      "cell_type": "markdown",
      "metadata": {
        "id": "WKNdllIHBlpL"
      },
      "source": [
        "### Custom Res Net with Multi Output\n",
        "\n",
        "\n"
      ]
    },
    {
      "cell_type": "code",
      "metadata": {
        "id": "Hunsos9-Bktj"
      },
      "source": [
        "class Block(nn.Module):\n",
        "  def __init__(self, inplane, outplane, stride = 1):\n",
        "    super(Block, self).__init__()\n",
        "    self.inplane = inplane\n",
        "    self.outplane = outplane\n",
        "    self.relu = nn.ReLU(inplace=True)\n",
        "    \n",
        "    self.conv1 = nn.Conv2d(inplane, outplane, 3, padding=1, bias=False, stride=stride)\n",
        "    self.bn1 = nn.BatchNorm2d(outplane)\n",
        "    self.conv2 = nn.Conv2d(outplane, outplane, 3, padding=1, bias=False)\n",
        "    self.bn2 = nn.BatchNorm2d(outplane)\n",
        "    \n",
        "    self.convi, self.bni = nn.Identity(), nn.Identity()\n",
        "    if inplane != outplane or stride != 1: \n",
        "      self.convi = nn.Conv2d(inplane, outplane, 1, bias=False, stride=stride)\n",
        "      self.bni = nn.BatchNorm2d(outplane)\n",
        "  \n",
        "  def forward(self, x):\n",
        "        identity = self.bni(self.convi(x))\n",
        "\n",
        "        out = self.conv1(x)\n",
        "        out = self.bn1(out)\n",
        "        out = self.relu(out)\n",
        "\n",
        "        out = self.conv2(out)\n",
        "        out = self.bn2(out)\n",
        "\n",
        "        out += identity\n",
        "        out = self.relu(out)\n",
        "\n",
        "        return out\n",
        "\n",
        "class CustomResNet(nn.Module):\n",
        "    def __init__(self, channel_size = 20):\n",
        "        super(CustomResNet, self).__init__()\n",
        "        \n",
        "        self.conv1 = nn.Conv2d(1, channel_size, 3, padding=2, bias=False)\n",
        "        self.maxpool = nn.MaxPool2d(kernel_size=2, stride=2, padding=1)\n",
        "        self.relu = nn.ReLU(inplace=True)\n",
        "        self.bn1 = nn.BatchNorm2d(channel_size)\n",
        "        \n",
        "        # 4 Layers\n",
        "        self.layer1 = nn.Sequential(\n",
        "            Block(channel_size, channel_size),\n",
        "            Block(channel_size, channel_size),\n",
        "            Block(channel_size, channel_size)\n",
        "        )\n",
        "      \n",
        "        self.layer2 = nn.Sequential(\n",
        "            Block(channel_size, 1.5*channel_size, 2),\n",
        "            Block(1.5*channel_size, 1.5*channel_size),\n",
        "            Block(1.5*channel_size, 1.5*channel_size)\n",
        "        )\n",
        "\n",
        "        self.layer3 = nn.Sequential(\n",
        "            Block(1.5*channel_size, 2.5*channel_size, 2),\n",
        "            Block(2.5*channel_size, 2.5*channel_size),\n",
        "            Block(2.5*channel_size, 2.5*channel_size)\n",
        "        )\n",
        "      \n",
        "        self.layer4 = nn.Sequential(\n",
        "            Block(2.5*channel_size, 4*channel_size, 2),\n",
        "            Block(4*channel_size, 4*channel_size),\n",
        "            Block(4*channel_size, 4*channel_size)\n",
        "        )\n",
        "\n",
        "        # self.layer4 = self._make_layer(models.resnet.BasicBlock, 512, 1, stride=2)\n",
        "        self.avgpool = nn.AvgPool2d(3, stride=1)\n",
        "        self.fc1 = nn.Linear(2*2*4*channel_size, 10)\n",
        "        self.fc2 = nn.Linear(2*2*4*channel_size, 26)        \n",
        "\n",
        "    def forward(self, x):\n",
        "        x = self.maxpool(self.relu(self.bn1(self.conv1(x))))\n",
        "        x = self.layer1(x)\n",
        "        x = self.layer2(x)\n",
        "        x = self.layer3(x)\n",
        "        x = self.layer4(x)\n",
        "        x = self.avgpool(x)\n",
        "        x = torch.flatten(x, 1)\n",
        "        l1 = self.fc1(x)\n",
        "        l2 = self.fc2(x)\n",
        "        return l1,l2\n"
      ],
      "execution_count": 29,
      "outputs": []
    },
    {
      "cell_type": "markdown",
      "metadata": {
        "id": "qfxLeadfDMFt"
      },
      "source": [
        "### Training and Validation"
      ]
    },
    {
      "cell_type": "markdown",
      "metadata": {
        "id": "cC1ZgGfOVKJv"
      },
      "source": [
        "#### Training Helper Function"
      ]
    },
    {
      "cell_type": "markdown",
      "metadata": {
        "id": "F_VOUOUHcFZW"
      },
      "source": [
        "Initialize network validation and training function"
      ]
    },
    {
      "cell_type": "code",
      "metadata": {
        "id": "AwkzEV1q8TNm"
      },
      "source": [
        "def validate_network(net):\n",
        "  print(\"Starting Network Validation\")\n",
        "  for i, validation_data in enumerate(tqdm(validation_loader)):\n",
        "    inputs, labels = validation_data\n",
        "    o1, o2 = net(inputs)\n",
        "    l1, l2 = labels[:,0], labels[:,1]\n",
        "    digit_acc += torch.mean((torch.argmax(o1, dim=1) == l1).float()).float()\n",
        "    letter_acc += torch.mean((torch.argmax(o2, dim=1) == l2).float()).float()\n",
        "  digit_acc = digit_acc/len(validation_loader)\n",
        "  letter_acc = letter_acc / len(validation_loader)\n",
        "  print(f'Digit Accuracy: {digit_acc.item()}, Letter Accuracy: {letter_acc.item()}')"
      ],
      "execution_count": 67,
      "outputs": []
    },
    {
      "cell_type": "code",
      "metadata": {
        "id": "dKOX6rEUUDEA"
      },
      "source": [
        "multi_net_criterion = nn.CrossEntropyLoss()\n",
        "def criterion(output, labels):\n",
        "    o1, o2 = output\n",
        "    l1, l2 = labels[:,0], labels[:,1]\n",
        "    loss1 = multi_net_criterion(o1,l1)\n",
        "    loss2 = multi_net_criterion(o2,l2)\n",
        "    return loss1 + loss2"
      ],
      "execution_count": 68,
      "outputs": []
    },
    {
      "cell_type": "code",
      "metadata": {
        "id": "5wGeM6I4UEax"
      },
      "source": [
        "def backward(net, data, optimizer, criterion = criterion):\n",
        "  inputs, labels = data\n",
        "  optimizer.zero_grad()\n",
        "  outputs = net(inputs)\n",
        "  loss = criterion(outputs, labels)\n",
        "  loss.backward()\n",
        "  optimizer.step()\n",
        "  return loss.item()"
      ],
      "execution_count": 69,
      "outputs": []
    },
    {
      "cell_type": "code",
      "metadata": {
        "id": "H7Bsqq4ECud6"
      },
      "source": [
        "def train_network(net, optimizer, scheduler, epoch_to_run = 1):\n",
        "  running_loss, cnt = 0.0, 0\n",
        "  last_index = len(training_loader) * (epoch_to_run - int(epoch_to_run))\n",
        "  epoch_to_run = int(epoch_to_run) + 1\n",
        "  for epoch in range(epoch_to_run):\n",
        "    for i, data in enumerate(tqdm(training_loader)):\n",
        "      if epoch == epoch_to_run - 1 and i > last_index:\n",
        "        break\n",
        "      running_loss += backward(net, data, optimizer)\n",
        "      cnt+=1\n",
        "      if i % 100 == 99:\n",
        "        scheduler.step()\n",
        "        print('[%d] loss: %.3f' % (i // 100, running_loss / cnt))\n",
        "        running_loss, cnt = 0.0, 0\n",
        "  validate_model(net)"
      ],
      "execution_count": 70,
      "outputs": []
    },
    {
      "cell_type": "markdown",
      "metadata": {
        "id": "XARKUoP9VRNZ"
      },
      "source": [
        "#### Training New Network"
      ]
    },
    {
      "cell_type": "code",
      "metadata": {
        "id": "-nTa_yc4NHi3",
        "colab": {
          "base_uri": "https://localhost:8080/"
        },
        "outputId": "e3f5513e-8926-42e8-d07f-7471535c5e64"
      },
      "source": [
        "lr, momentum, weight_decay, gamma = 0.01, 0.9, 1e-4, 0.95\n",
        "net = CustomResNet(25)\n",
        "optimizer = optim.SGD(net.parameters(), lr=lr, momentum=momentum, weight_decay=weight_decay)\n",
        "scheduler = ExponentialLR(optimizer, gamma=gamma)\n",
        "net = train_model(net, optimizer, scheduler, epoch)"
      ],
      "execution_count": 33,
      "outputs": [
        {
          "output_type": "stream",
          "name": "stdout",
          "text": [
            "Starting Training Iteration\n"
          ]
        },
        {
          "output_type": "stream",
          "name": "stderr",
          "text": [
            "  2%|▏         | 100/6300 [01:06<1:08:19,  1.51it/s]"
          ]
        },
        {
          "output_type": "stream",
          "name": "stdout",
          "text": [
            "[0] loss: 5.896\n"
          ]
        },
        {
          "output_type": "stream",
          "name": "stderr",
          "text": [
            "  3%|▎         | 200/6300 [02:12<1:07:07,  1.51it/s]"
          ]
        },
        {
          "output_type": "stream",
          "name": "stdout",
          "text": [
            "[1] loss: 5.391\n"
          ]
        },
        {
          "output_type": "stream",
          "name": "stderr",
          "text": [
            "  5%|▍         | 300/6300 [03:18<1:06:01,  1.51it/s]"
          ]
        },
        {
          "output_type": "stream",
          "name": "stdout",
          "text": [
            "[2] loss: 5.247\n"
          ]
        },
        {
          "output_type": "stream",
          "name": "stderr",
          "text": [
            "  6%|▋         | 400/6300 [04:24<1:04:51,  1.52it/s]"
          ]
        },
        {
          "output_type": "stream",
          "name": "stdout",
          "text": [
            "[3] loss: 5.110\n"
          ]
        },
        {
          "output_type": "stream",
          "name": "stderr",
          "text": [
            "  8%|▊         | 500/6300 [05:30<1:03:49,  1.51it/s]"
          ]
        },
        {
          "output_type": "stream",
          "name": "stdout",
          "text": [
            "[4] loss: 4.995\n"
          ]
        },
        {
          "output_type": "stream",
          "name": "stderr",
          "text": [
            " 10%|▉         | 600/6300 [06:36<1:02:43,  1.51it/s]"
          ]
        },
        {
          "output_type": "stream",
          "name": "stdout",
          "text": [
            "[5] loss: 4.793\n"
          ]
        },
        {
          "output_type": "stream",
          "name": "stderr",
          "text": [
            " 11%|█         | 700/6300 [07:42<1:01:30,  1.52it/s]"
          ]
        },
        {
          "output_type": "stream",
          "name": "stdout",
          "text": [
            "[6] loss: 4.521\n"
          ]
        },
        {
          "output_type": "stream",
          "name": "stderr",
          "text": [
            " 13%|█▎        | 800/6300 [08:48<1:00:14,  1.52it/s]"
          ]
        },
        {
          "output_type": "stream",
          "name": "stdout",
          "text": [
            "[7] loss: 4.321\n"
          ]
        },
        {
          "output_type": "stream",
          "name": "stderr",
          "text": [
            " 14%|█▍        | 900/6300 [09:54<59:18,  1.52it/s]"
          ]
        },
        {
          "output_type": "stream",
          "name": "stdout",
          "text": [
            "[8] loss: 4.028\n"
          ]
        },
        {
          "output_type": "stream",
          "name": "stderr",
          "text": [
            " 16%|█▌        | 1000/6300 [11:00<58:08,  1.52it/s]"
          ]
        },
        {
          "output_type": "stream",
          "name": "stdout",
          "text": [
            "[9] loss: 3.846\n"
          ]
        },
        {
          "output_type": "stream",
          "name": "stderr",
          "text": [
            " 17%|█▋        | 1100/6300 [12:06<57:19,  1.51it/s]"
          ]
        },
        {
          "output_type": "stream",
          "name": "stdout",
          "text": [
            "[10] loss: 3.499\n"
          ]
        },
        {
          "output_type": "stream",
          "name": "stderr",
          "text": [
            " 19%|█▉        | 1200/6300 [13:11<55:08,  1.54it/s]"
          ]
        },
        {
          "output_type": "stream",
          "name": "stdout",
          "text": [
            "[11] loss: 3.292\n"
          ]
        },
        {
          "output_type": "stream",
          "name": "stderr",
          "text": [
            " 21%|██        | 1300/6300 [14:17<55:04,  1.51it/s]"
          ]
        },
        {
          "output_type": "stream",
          "name": "stdout",
          "text": [
            "[12] loss: 2.924\n"
          ]
        },
        {
          "output_type": "stream",
          "name": "stderr",
          "text": [
            " 22%|██▏       | 1400/6300 [15:22<52:52,  1.54it/s]"
          ]
        },
        {
          "output_type": "stream",
          "name": "stdout",
          "text": [
            "[13] loss: 2.716\n"
          ]
        },
        {
          "output_type": "stream",
          "name": "stderr",
          "text": [
            " 24%|██▍       | 1500/6300 [16:27<51:58,  1.54it/s]"
          ]
        },
        {
          "output_type": "stream",
          "name": "stdout",
          "text": [
            "[14] loss: 2.465\n"
          ]
        },
        {
          "output_type": "stream",
          "name": "stderr",
          "text": [
            " 25%|██▌       | 1600/6300 [17:32<50:54,  1.54it/s]"
          ]
        },
        {
          "output_type": "stream",
          "name": "stdout",
          "text": [
            "[15] loss: 2.338\n"
          ]
        },
        {
          "output_type": "stream",
          "name": "stderr",
          "text": [
            " 27%|██▋       | 1700/6300 [18:37<49:54,  1.54it/s]"
          ]
        },
        {
          "output_type": "stream",
          "name": "stdout",
          "text": [
            "[16] loss: 2.186\n"
          ]
        },
        {
          "output_type": "stream",
          "name": "stderr",
          "text": [
            " 29%|██▊       | 1800/6300 [19:43<48:55,  1.53it/s]"
          ]
        },
        {
          "output_type": "stream",
          "name": "stdout",
          "text": [
            "[17] loss: 2.014\n"
          ]
        },
        {
          "output_type": "stream",
          "name": "stderr",
          "text": [
            " 30%|███       | 1900/6300 [20:48<47:46,  1.53it/s]"
          ]
        },
        {
          "output_type": "stream",
          "name": "stdout",
          "text": [
            "[18] loss: 1.814\n"
          ]
        },
        {
          "output_type": "stream",
          "name": "stderr",
          "text": [
            " 32%|███▏      | 2000/6300 [21:53<46:56,  1.53it/s]"
          ]
        },
        {
          "output_type": "stream",
          "name": "stdout",
          "text": [
            "[19] loss: 1.686\n"
          ]
        },
        {
          "output_type": "stream",
          "name": "stderr",
          "text": [
            " 33%|███▎      | 2100/6300 [22:58<45:24,  1.54it/s]"
          ]
        },
        {
          "output_type": "stream",
          "name": "stdout",
          "text": [
            "[20] loss: 1.651\n"
          ]
        },
        {
          "output_type": "stream",
          "name": "stderr",
          "text": [
            " 35%|███▍      | 2200/6300 [24:03<44:14,  1.54it/s]"
          ]
        },
        {
          "output_type": "stream",
          "name": "stdout",
          "text": [
            "[21] loss: 1.580\n"
          ]
        },
        {
          "output_type": "stream",
          "name": "stderr",
          "text": [
            " 37%|███▋      | 2300/6300 [25:08<43:13,  1.54it/s]"
          ]
        },
        {
          "output_type": "stream",
          "name": "stdout",
          "text": [
            "[22] loss: 1.457\n"
          ]
        },
        {
          "output_type": "stream",
          "name": "stderr",
          "text": [
            " 38%|███▊      | 2400/6300 [26:13<42:12,  1.54it/s]"
          ]
        },
        {
          "output_type": "stream",
          "name": "stdout",
          "text": [
            "[23] loss: 1.414\n"
          ]
        },
        {
          "output_type": "stream",
          "name": "stderr",
          "text": [
            " 40%|███▉      | 2500/6300 [27:18<41:26,  1.53it/s]"
          ]
        },
        {
          "output_type": "stream",
          "name": "stdout",
          "text": [
            "[24] loss: 1.329\n"
          ]
        },
        {
          "output_type": "stream",
          "name": "stderr",
          "text": [
            " 41%|████▏     | 2600/6300 [28:23<40:10,  1.53it/s]"
          ]
        },
        {
          "output_type": "stream",
          "name": "stdout",
          "text": [
            "[25] loss: 1.287\n"
          ]
        },
        {
          "output_type": "stream",
          "name": "stderr",
          "text": [
            " 43%|████▎     | 2700/6300 [29:28<38:57,  1.54it/s]"
          ]
        },
        {
          "output_type": "stream",
          "name": "stdout",
          "text": [
            "[26] loss: 1.216\n"
          ]
        },
        {
          "output_type": "stream",
          "name": "stderr",
          "text": [
            " 44%|████▍     | 2800/6300 [30:33<38:09,  1.53it/s]"
          ]
        },
        {
          "output_type": "stream",
          "name": "stdout",
          "text": [
            "[27] loss: 1.184\n"
          ]
        },
        {
          "output_type": "stream",
          "name": "stderr",
          "text": [
            " 46%|████▌     | 2900/6300 [31:38<36:57,  1.53it/s]"
          ]
        },
        {
          "output_type": "stream",
          "name": "stdout",
          "text": [
            "[28] loss: 1.142\n"
          ]
        },
        {
          "output_type": "stream",
          "name": "stderr",
          "text": [
            " 48%|████▊     | 3000/6300 [32:43<35:41,  1.54it/s]"
          ]
        },
        {
          "output_type": "stream",
          "name": "stdout",
          "text": [
            "[29] loss: 1.063\n"
          ]
        },
        {
          "output_type": "stream",
          "name": "stderr",
          "text": [
            " 49%|████▉     | 3100/6300 [33:47<34:33,  1.54it/s]"
          ]
        },
        {
          "output_type": "stream",
          "name": "stdout",
          "text": [
            "[30] loss: 1.053\n"
          ]
        },
        {
          "output_type": "stream",
          "name": "stderr",
          "text": [
            " 51%|█████     | 3200/6300 [34:52<33:22,  1.55it/s]"
          ]
        },
        {
          "output_type": "stream",
          "name": "stdout",
          "text": [
            "[31] loss: 1.015\n"
          ]
        },
        {
          "output_type": "stream",
          "name": "stderr",
          "text": [
            " 52%|█████▏    | 3300/6300 [35:57<32:33,  1.54it/s]"
          ]
        },
        {
          "output_type": "stream",
          "name": "stdout",
          "text": [
            "[32] loss: 0.963\n"
          ]
        },
        {
          "output_type": "stream",
          "name": "stderr",
          "text": [
            " 54%|█████▍    | 3400/6300 [37:02<31:17,  1.54it/s]"
          ]
        },
        {
          "output_type": "stream",
          "name": "stdout",
          "text": [
            "[33] loss: 0.946\n"
          ]
        },
        {
          "output_type": "stream",
          "name": "stderr",
          "text": [
            " 56%|█████▌    | 3500/6300 [38:08<30:28,  1.53it/s]"
          ]
        },
        {
          "output_type": "stream",
          "name": "stdout",
          "text": [
            "[34] loss: 0.840\n"
          ]
        },
        {
          "output_type": "stream",
          "name": "stderr",
          "text": [
            " 57%|█████▋    | 3600/6300 [39:13<29:16,  1.54it/s]"
          ]
        },
        {
          "output_type": "stream",
          "name": "stdout",
          "text": [
            "[35] loss: 0.892\n"
          ]
        },
        {
          "output_type": "stream",
          "name": "stderr",
          "text": [
            " 59%|█████▊    | 3700/6300 [40:18<28:06,  1.54it/s]"
          ]
        },
        {
          "output_type": "stream",
          "name": "stdout",
          "text": [
            "[36] loss: 0.870\n"
          ]
        },
        {
          "output_type": "stream",
          "name": "stderr",
          "text": [
            " 60%|██████    | 3800/6300 [41:23<26:59,  1.54it/s]"
          ]
        },
        {
          "output_type": "stream",
          "name": "stdout",
          "text": [
            "[37] loss: 0.806\n"
          ]
        },
        {
          "output_type": "stream",
          "name": "stderr",
          "text": [
            " 62%|██████▏   | 3900/6300 [42:27<25:57,  1.54it/s]"
          ]
        },
        {
          "output_type": "stream",
          "name": "stdout",
          "text": [
            "[38] loss: 0.843\n"
          ]
        },
        {
          "output_type": "stream",
          "name": "stderr",
          "text": [
            " 63%|██████▎   | 4000/6300 [43:32<24:58,  1.54it/s]"
          ]
        },
        {
          "output_type": "stream",
          "name": "stdout",
          "text": [
            "[39] loss: 0.778\n"
          ]
        },
        {
          "output_type": "stream",
          "name": "stderr",
          "text": [
            " 65%|██████▌   | 4100/6300 [44:37<23:54,  1.53it/s]"
          ]
        },
        {
          "output_type": "stream",
          "name": "stdout",
          "text": [
            "[40] loss: 0.752\n"
          ]
        },
        {
          "output_type": "stream",
          "name": "stderr",
          "text": [
            " 67%|██████▋   | 4200/6300 [45:42<22:48,  1.53it/s]"
          ]
        },
        {
          "output_type": "stream",
          "name": "stdout",
          "text": [
            "[41] loss: 0.795\n"
          ]
        },
        {
          "output_type": "stream",
          "name": "stderr",
          "text": [
            " 68%|██████▊   | 4300/6300 [46:47<21:37,  1.54it/s]"
          ]
        },
        {
          "output_type": "stream",
          "name": "stdout",
          "text": [
            "[42] loss: 0.718\n"
          ]
        },
        {
          "output_type": "stream",
          "name": "stderr",
          "text": [
            " 70%|██████▉   | 4400/6300 [47:52<20:31,  1.54it/s]"
          ]
        },
        {
          "output_type": "stream",
          "name": "stdout",
          "text": [
            "[43] loss: 0.762\n"
          ]
        },
        {
          "output_type": "stream",
          "name": "stderr",
          "text": [
            " 71%|███████▏  | 4500/6300 [48:57<19:29,  1.54it/s]"
          ]
        },
        {
          "output_type": "stream",
          "name": "stdout",
          "text": [
            "[44] loss: 0.681\n"
          ]
        },
        {
          "output_type": "stream",
          "name": "stderr",
          "text": [
            " 73%|███████▎  | 4600/6300 [50:03<18:27,  1.54it/s]"
          ]
        },
        {
          "output_type": "stream",
          "name": "stdout",
          "text": [
            "[45] loss: 0.722\n"
          ]
        },
        {
          "output_type": "stream",
          "name": "stderr",
          "text": [
            " 75%|███████▍  | 4700/6300 [51:08<17:16,  1.54it/s]"
          ]
        },
        {
          "output_type": "stream",
          "name": "stdout",
          "text": [
            "[46] loss: 0.645\n"
          ]
        },
        {
          "output_type": "stream",
          "name": "stderr",
          "text": [
            " 76%|███████▌  | 4800/6300 [52:13<16:16,  1.54it/s]"
          ]
        },
        {
          "output_type": "stream",
          "name": "stdout",
          "text": [
            "[47] loss: 0.657\n"
          ]
        },
        {
          "output_type": "stream",
          "name": "stderr",
          "text": [
            " 78%|███████▊  | 4900/6300 [53:18<15:08,  1.54it/s]"
          ]
        },
        {
          "output_type": "stream",
          "name": "stdout",
          "text": [
            "[48] loss: 0.739\n"
          ]
        },
        {
          "output_type": "stream",
          "name": "stderr",
          "text": [
            " 79%|███████▉  | 5000/6300 [54:23<14:03,  1.54it/s]"
          ]
        },
        {
          "output_type": "stream",
          "name": "stdout",
          "text": [
            "[49] loss: 0.658\n"
          ]
        },
        {
          "output_type": "stream",
          "name": "stderr",
          "text": [
            " 81%|████████  | 5100/6300 [55:28<12:57,  1.54it/s]"
          ]
        },
        {
          "output_type": "stream",
          "name": "stdout",
          "text": [
            "[50] loss: 0.650\n"
          ]
        },
        {
          "output_type": "stream",
          "name": "stderr",
          "text": [
            " 83%|████████▎ | 5200/6300 [56:33<11:51,  1.55it/s]"
          ]
        },
        {
          "output_type": "stream",
          "name": "stdout",
          "text": [
            "[51] loss: 0.609\n"
          ]
        },
        {
          "output_type": "stream",
          "name": "stderr",
          "text": [
            " 84%|████████▍ | 5300/6300 [57:38<10:49,  1.54it/s]"
          ]
        },
        {
          "output_type": "stream",
          "name": "stdout",
          "text": [
            "[52] loss: 0.585\n"
          ]
        },
        {
          "output_type": "stream",
          "name": "stderr",
          "text": [
            " 86%|████████▌ | 5400/6300 [58:43<09:48,  1.53it/s]"
          ]
        },
        {
          "output_type": "stream",
          "name": "stdout",
          "text": [
            "[53] loss: 0.631\n"
          ]
        },
        {
          "output_type": "stream",
          "name": "stderr",
          "text": [
            " 87%|████████▋ | 5500/6300 [59:48<08:41,  1.53it/s]"
          ]
        },
        {
          "output_type": "stream",
          "name": "stdout",
          "text": [
            "[54] loss: 0.594\n"
          ]
        },
        {
          "output_type": "stream",
          "name": "stderr",
          "text": [
            " 89%|████████▉ | 5600/6300 [1:00:53<07:35,  1.54it/s]"
          ]
        },
        {
          "output_type": "stream",
          "name": "stdout",
          "text": [
            "[55] loss: 0.630\n"
          ]
        },
        {
          "output_type": "stream",
          "name": "stderr",
          "text": [
            " 90%|█████████ | 5700/6300 [1:01:58<06:27,  1.55it/s]"
          ]
        },
        {
          "output_type": "stream",
          "name": "stdout",
          "text": [
            "[56] loss: 0.601\n"
          ]
        },
        {
          "output_type": "stream",
          "name": "stderr",
          "text": [
            " 92%|█████████▏| 5800/6300 [1:03:03<05:19,  1.56it/s]"
          ]
        },
        {
          "output_type": "stream",
          "name": "stdout",
          "text": [
            "[57] loss: 0.630\n"
          ]
        },
        {
          "output_type": "stream",
          "name": "stderr",
          "text": [
            " 94%|█████████▎| 5900/6300 [1:04:08<04:21,  1.53it/s]"
          ]
        },
        {
          "output_type": "stream",
          "name": "stdout",
          "text": [
            "[58] loss: 0.612\n"
          ]
        },
        {
          "output_type": "stream",
          "name": "stderr",
          "text": [
            " 95%|█████████▌| 6000/6300 [1:05:13<03:15,  1.53it/s]"
          ]
        },
        {
          "output_type": "stream",
          "name": "stdout",
          "text": [
            "[59] loss: 0.603\n"
          ]
        },
        {
          "output_type": "stream",
          "name": "stderr",
          "text": [
            " 97%|█████████▋| 6100/6300 [1:06:18<02:09,  1.54it/s]"
          ]
        },
        {
          "output_type": "stream",
          "name": "stdout",
          "text": [
            "[60] loss: 0.548\n"
          ]
        },
        {
          "output_type": "stream",
          "name": "stderr",
          "text": [
            " 98%|█████████▊| 6200/6300 [1:07:24<01:05,  1.54it/s]"
          ]
        },
        {
          "output_type": "stream",
          "name": "stdout",
          "text": [
            "[61] loss: 0.510\n"
          ]
        },
        {
          "output_type": "stream",
          "name": "stderr",
          "text": [
            "100%|██████████| 6300/6300 [1:08:29<00:00,  1.53it/s]\n"
          ]
        },
        {
          "output_type": "stream",
          "name": "stdout",
          "text": [
            "[62] loss: 0.536\n",
            "Starting Validation Iteration\n"
          ]
        },
        {
          "output_type": "stream",
          "name": "stderr",
          "text": [
            "100%|██████████| 100/100 [00:23<00:00,  4.22it/s]"
          ]
        },
        {
          "output_type": "stream",
          "name": "stdout",
          "text": [
            "\n",
            " Digit Accuracy: 0.943000316619873, Letter Accuracy: 0.9036670923233032\n"
          ]
        },
        {
          "output_type": "stream",
          "name": "stderr",
          "text": [
            "\n"
          ]
        }
      ]
    },
    {
      "cell_type": "markdown",
      "metadata": {
        "id": "ovlgXVNSVYOj"
      },
      "source": [
        "#### Continue Training"
      ]
    },
    {
      "cell_type": "code",
      "metadata": {
        "colab": {
          "base_uri": "https://localhost:8080/"
        },
        "id": "ZUzzPBSguAa7",
        "outputId": "d32c220a-3662-49b0-881c-e655c85b8915"
      },
      "source": [
        "lr, momentum, weight_decay = 0.001, 0.9, 1e-4\n",
        "optimizer = optim.SGD(net.parameters(), lr=lr, momentum=momentum, weight_decay=weight_decay)\n",
        "scheduler = ExponentialLR(optimizer, gamma=0.9)\n",
        "train_network(net, optimizer, scheduler, epoch_to_run = 0.2)"
      ],
      "execution_count": null,
      "outputs": [
        {
          "output_type": "stream",
          "name": "stderr",
          "text": [
            "  2%|▏         | 100/6300 [01:05<1:07:33,  1.53it/s]"
          ]
        },
        {
          "output_type": "stream",
          "name": "stdout",
          "text": [
            "[0] loss: 0.686\n"
          ]
        },
        {
          "output_type": "stream",
          "name": "stderr",
          "text": [
            "  3%|▎         | 200/6300 [02:10<1:05:53,  1.54it/s]"
          ]
        },
        {
          "output_type": "stream",
          "name": "stdout",
          "text": [
            "[1] loss: 0.729\n"
          ]
        },
        {
          "output_type": "stream",
          "name": "stderr",
          "text": [
            "  5%|▍         | 300/6300 [03:15<1:05:24,  1.53it/s]"
          ]
        },
        {
          "output_type": "stream",
          "name": "stdout",
          "text": [
            "[2] loss: 0.743\n"
          ]
        },
        {
          "output_type": "stream",
          "name": "stderr",
          "text": [
            "  6%|▋         | 400/6300 [04:20<1:03:18,  1.55it/s]"
          ]
        },
        {
          "output_type": "stream",
          "name": "stdout",
          "text": [
            "[3] loss: 0.720\n"
          ]
        },
        {
          "output_type": "stream",
          "name": "stderr",
          "text": [
            "  8%|▊         | 500/6300 [05:24<1:02:01,  1.56it/s]"
          ]
        },
        {
          "output_type": "stream",
          "name": "stdout",
          "text": [
            "[4] loss: 0.681\n"
          ]
        },
        {
          "output_type": "stream",
          "name": "stderr",
          "text": [
            " 10%|▉         | 600/6300 [06:28<1:01:15,  1.55it/s]"
          ]
        },
        {
          "output_type": "stream",
          "name": "stdout",
          "text": [
            "[5] loss: 0.689\n"
          ]
        },
        {
          "output_type": "stream",
          "name": "stderr",
          "text": [
            " 11%|█         | 700/6300 [07:33<59:59,  1.56it/s]  "
          ]
        },
        {
          "output_type": "stream",
          "name": "stdout",
          "text": [
            "[6] loss: 0.673\n"
          ]
        },
        {
          "output_type": "stream",
          "name": "stderr",
          "text": [
            " 13%|█▎        | 800/6300 [08:37<59:04,  1.55it/s]"
          ]
        },
        {
          "output_type": "stream",
          "name": "stdout",
          "text": [
            "[7] loss: 0.594\n"
          ]
        },
        {
          "output_type": "stream",
          "name": "stderr",
          "text": [
            " 14%|█▍        | 900/6300 [09:41<57:46,  1.56it/s]"
          ]
        },
        {
          "output_type": "stream",
          "name": "stdout",
          "text": [
            "[8] loss: 0.633\n"
          ]
        },
        {
          "output_type": "stream",
          "name": "stderr",
          "text": [
            " 15%|█▍        | 927/6300 [09:58<57:26,  1.56it/s]"
          ]
        }
      ]
    },
    {
      "cell_type": "markdown",
      "metadata": {
        "id": "4VlH7E76Cud7"
      },
      "source": [
        "## Results"
      ]
    },
    {
      "cell_type": "markdown",
      "metadata": {
        "id": "N-uBsbTqcnXI"
      },
      "source": [
        "Quick Sanity check"
      ]
    },
    {
      "cell_type": "code",
      "metadata": {
        "id": "5dQ-WneJWeD4",
        "colab": {
          "base_uri": "https://localhost:8080/",
          "height": 239
        },
        "outputId": "faecc898-c5ba-4dd2-ca18-3565f3822a3c"
      },
      "source": [
        "img_grid(2, 5, testing_dataset[10000:10010,0])\n",
        "l1, l2 = net(testing_dataset[10000:10010])\n",
        "l1 = np.argmax(l1.detach().numpy(), axis=1)\n",
        "l2 = np.argmax(l2.detach().numpy(), axis=1)\n",
        "print(list(zip(l1,map(lambda x: mapping[x], l2))))"
      ],
      "execution_count": null,
      "outputs": [
        {
          "output_type": "display_data",
          "data": {
            "image/png": "[encoded data removed]",
            "text/plain": [
              "<Figure size 504x720 with 5 Axes>"
            ]
          },
          "metadata": {
            "needs_background": "light"
          }
        },
        {
          "output_type": "display_data",
          "data": {
            "image/png": "[encoded data removed]",
            "text/plain": [
              "<Figure size 504x720 with 5 Axes>"
            ]
          },
          "metadata": {
            "needs_background": "light"
          }
        },
        {
          "output_type": "stream",
          "name": "stdout",
          "text": [
            "[(5, 'c'), (6, 'i'), (5, 'c'), (7, 'n'), (5, 'g'), (4, 'd'), (9, 'o'), (7, 't'), (0, 'y'), (9, 'l')]\n"
          ]
        }
      ]
    },
    {
      "cell_type": "code",
      "metadata": {
        "id": "iB7GDwKTNFOd"
      },
      "source": [
        "def LabelToString(label, isDigit):\n",
        "  s = \"\"\n",
        "  r = 0\n",
        "  if (isDigit):\n",
        "    r = 10\n",
        "  else:\n",
        "    r = 26\n",
        "  for i in range(0, r):\n",
        "    if (i == label):\n",
        "      s += '1'\n",
        "    else:\n",
        "      s += '0'\n",
        "  return s\n",
        "\n",
        "category = []\n",
        "k = 0\n",
        "while(k<15000):\n",
        "  l1,l2 = net(testing_dataset[k:k+100])\n",
        "  l1 = np.argmax(l1.detach().numpy(), axis=1)\n",
        "  l2 = np.argmax(l2.detach().numpy(), axis=1)\n",
        "  for i in range(0, len(l1)):\n",
        "    a = LabelToString(l1[i], True)\n",
        "    b = LabelToString(l2[i], False)\n",
        "    category.append(a+b)\n",
        "    k += 1"
      ],
      "execution_count": null,
      "outputs": []
    },
    {
      "cell_type": "code",
      "metadata": {
        "colab": {
          "base_uri": "https://localhost:8080/"
        },
        "id": "mxYZsufbCud8",
        "outputId": "488ac0f9-6f1f-4847-e3ce-0d460f2b5cdd"
      },
      "source": [
        "id = []\n",
        "for i in range(0, 15000):\n",
        "  id.append(i)\n",
        "# need to create data dict\n",
        "data = {\n",
        "    '# Id' : id,\n",
        "    'Category' : category\n",
        "}\n",
        "\n",
        "df = pd.DataFrame(data=data, columns= ['# Id', 'Category'])\n",
        "print(df)\n",
        "df.to_csv('/content/drive/My Drive/data/results.csv', index = False, header=True)"
      ],
      "execution_count": null,
      "outputs": [
        {
          "output_type": "stream",
          "name": "stdout",
          "text": [
            "        # Id                              Category\n",
            "0          0  100000000000000000000000000001000000\n",
            "1          1  000010000000000000000100000000000000\n",
            "2          2  000000000100000000010000000000000000\n",
            "3          3  100000000000000000000100000000000000\n",
            "4          4  000000100000000000010000000000000000\n",
            "...      ...                                   ...\n",
            "14995  14995  000100000000001000000000000000000000\n",
            "14996  14996  000100000010000000000000000000000000\n",
            "14997  14997  000000100000000000000000001000000000\n",
            "14998  14998  010000000000000000100000000000000000\n",
            "14999  14999  001000000000000000001000000000000000\n",
            "\n",
            "[15000 rows x 2 columns]\n"
          ]
        }
      ]
    },
    {
      "cell_type": "code",
      "metadata": {
        "id": "tAZSciexTbmB"
      },
      "source": [
        "torch.save(res_net.state_dict(), 'res_net_v2_checkpoint.pth')"
      ],
      "execution_count": null,
      "outputs": []
    }
  ]
}