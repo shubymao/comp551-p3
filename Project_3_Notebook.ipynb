{
  "nbformat": 4,
  "nbformat_minor": 0,
  "metadata": {
    "accelerator": "GPU",
    "colab": {
      "name": "Project 3 Notebook.ipynb",
      "provenance": [],
      "collapsed_sections": [],
      "include_colab_link": true
    },
    "deepnote": {
      "is_reactive": false
    },
    "deepnote_execution_queue": [
      {
        "cellId": "00014-5023c705-89c0-4b0d-8475-31dbf86965f1",
        "msgId": "df859eb8-5087-492b-81a0-bf32da9d72c2",
        "sessionId": "ba7e9811-adf0-4ae0-bc6e-78a462d11bf3"
      }
    ],
    "deepnote_notebook_id": "6ceacadf-544f-46ff-b007-fbadf7aa1867",
    "kernelspec": {
      "display_name": "Python 3",
      "name": "python3"
    },
    "language_info": {
      "name": "python"
    }
  },
  "cells": [
    {
      "cell_type": "markdown",
      "metadata": {
        "id": "view-in-github",
        "colab_type": "text"
      },
      "source": [
        "<a href=\"https://colab.research.google.com/github/shubymao/comp551-p3/blob/shuby-dev/Project_3_Notebook.ipynb\" target=\"_parent\"><img src=\"https://colab.research.google.com/assets/colab-badge.svg\" alt=\"Open In Colab\"/></a>"
      ]
    },
    {
      "cell_type": "markdown",
      "metadata": {
        "id": "Msqh4iDyCudk"
      },
      "source": [
        "# Project 3 - Convolution Neural Network"
      ]
    },
    {
      "cell_type": "markdown",
      "metadata": {
        "id": "CpzLeM6RCudt"
      },
      "source": [
        "## Team Members"
      ]
    },
    {
      "cell_type": "markdown",
      "metadata": {
        "id": "LjQkokOPCudu"
      },
      "source": [
        "Le-Li Mao (260800098)"
      ]
    },
    {
      "cell_type": "markdown",
      "metadata": {
        "id": "diF0MA9uCudu"
      },
      "source": [
        "Victor Livernoche (260926276)"
      ]
    },
    {
      "cell_type": "markdown",
      "metadata": {
        "id": "XXsMnElHCudv"
      },
      "source": [
        "Enan Ashaduzzaman (260805923)"
      ]
    },
    {
      "cell_type": "markdown",
      "metadata": {
        "id": "GXOuUvc6Cudw"
      },
      "source": [
        "## Initializing Dependency"
      ]
    },
    {
      "cell_type": "code",
      "metadata": {
        "colab": {
          "base_uri": "https://localhost:8080/"
        },
        "id": "RNubcKypCudx",
        "outputId": "e1164166-7ec3-4ae1-fc0e-ff0403ac7007"
      },
      "source": [
        "from __future__ import print_function\n",
        "import pickle as pkl\n",
        "import numpy as np\n",
        "import argparse\n",
        "from tqdm import tqdm\n",
        "from sklearn.preprocessing import normalize\n",
        "\n",
        "import cv2\n",
        "\n",
        "import torch\n",
        "import torch.nn as nn\n",
        "import torch.nn.functional as F\n",
        "import torch.optim as optim\n",
        "from torch.utils.data import TensorDataset, DataLoader, random_split\n",
        "import torchvision\n",
        "from torchvision import datasets, transforms\n",
        "import pandas as pd\n",
        "\n",
        "%matplotlib inline\n",
        "from mpl_toolkits.axes_grid1 import ImageGrid\n",
        "import matplotlib.pyplot as plt\n",
        "import string\n",
        "from google.colab import drive\n",
        "drive.mount('/content/drive')\n",
        "\n",
        "device = torch.device('cuda' if torch.cuda.is_available() else 'cpu')"
      ],
      "execution_count": 1,
      "outputs": [
        {
          "output_type": "stream",
          "name": "stdout",
          "text": [
            "Mounted at /content/drive\n"
          ]
        }
      ]
    },
    {
      "cell_type": "markdown",
      "metadata": {
        "id": "nhtudTKhCudz"
      },
      "source": [
        "## Loading Data"
      ]
    },
    {
      "cell_type": "code",
      "metadata": {
        "id": "nTc9y2J_Cud0"
      },
      "source": [
        "mapping = list(string.ascii_lowercase) \n",
        "training_data, training_labels, testing_data = None, None, None\n",
        "with open(\"/content/drive/My Drive/data/images_l.pkl\", 'rb') as f: \n",
        "    training_data = pkl.load(f)\n",
        "with open(\"/content/drive/My Drive/data/labels_l.pkl\", 'rb') as f: \n",
        "    training_labels = pkl.load(f)\n",
        "with open(\"/content/drive/My Drive/data/images_test.pkl\", 'rb') as f: \n",
        "    testing_data = pkl.load(f)"
      ],
      "execution_count": 58,
      "outputs": []
    },
    {
      "cell_type": "markdown",
      "metadata": {
        "id": "I6d_j7rMFpZg"
      },
      "source": [
        "## Preprocessing"
      ]
    },
    {
      "cell_type": "markdown",
      "metadata": {
        "id": "UflUy3ApCud1"
      },
      "source": [
        "Create the pipeline for handling data"
      ]
    },
    {
      "cell_type": "code",
      "metadata": {
        "id": "AHRptvAyNmEe"
      },
      "source": [
        "def nomalize_img(img):\n",
        "  cliped_img = np.clip(img, 0, 255)\n",
        "  subtracted_img = cliped_img - cliped_img.mean() + 10\n",
        "  normalized_img = subtracted_img / np.max(subtracted_img) * 255\n",
        "  return normalized_img"
      ],
      "execution_count": 3,
      "outputs": []
    },
    {
      "cell_type": "code",
      "metadata": {
        "id": "EA5ehjMbynFA"
      },
      "source": [
        "def extract_key_item(original, padding=2, threshold=100 , show_all = False, debug=False):\n",
        "  stages = None\n",
        "  img = cv2.normalize(original, None, 0, 255, cv2.NORM_MINMAX, cv2.CV_8U)\n",
        "  img_blur = cv2.GaussianBlur(img, (7, 7), 0)\n",
        "  (_, thresh) = cv2.threshold(img_blur, 65, 255, cv2.THRESH_BINARY)\n",
        "  if debug: plt.imshow(img_blur); plt.show()\n",
        "  if debug: plt.imshow(thresh); plt.show()\n",
        "  contours, _ = cv2.findContours(thresh, cv2.RETR_TREE, cv2.CHAIN_APPROX_NONE)\n",
        "  key_items = []\n",
        "  bounding_box_cords = []\n",
        "  for c in contours:\n",
        "      x,y,w,h = cv2.boundingRect(c)\n",
        "      if show_all or debug: cv2.rectangle(img, (x, y), (x + w, y + h), 255, 1)\n",
        "      if(w < 10 and h < 10): # select elements with at least 10px width or 10 px height\n",
        "        continue\n",
        "      dup = False\n",
        "      for (px, py) in bounding_box_cords:\n",
        "        if abs(px-x)+abs(py-y) < 10:\n",
        "          dup = True\n",
        "      if dup: continue   \n",
        "      key_items.append(original[y-padding:y+h+padding,x-padding:x+w+padding].copy())\n",
        "      \n",
        "      bounding_box_cords.append((x,y,))\n",
        "  if show_all: \n",
        "    stages = [img_blur, thresh, img]\n",
        "  if debug: plt.imshow(img); plt.show()\n",
        "  return stages, key_items"
      ],
      "execution_count": 4,
      "outputs": []
    },
    {
      "cell_type": "code",
      "metadata": {
        "id": "6fZppzL12QhU"
      },
      "source": [
        "def pad_to_fixed_size(img, width, height):\n",
        "  row, col = img.shape\n",
        "  if row > height or col > width: \n",
        "    return None\n",
        "  pl = (width - col)// 2\n",
        "  pt = (height - row)// 2\n",
        "  pr = (width - col - pl)\n",
        "  pb = (height - row - pt)\n",
        "  return np.pad(img, [(pt,pb),(pl,pr)], 'constant')"
      ],
      "execution_count": 5,
      "outputs": []
    },
    {
      "cell_type": "code",
      "metadata": {
        "id": "Ufgde1f40_Mc"
      },
      "source": [
        "def merge_key_items(key_items):\n",
        "  if len(key_items) >= 2:\n",
        "    item1 = pad_to_fixed_size(key_items[0],28,56)\n",
        "    item2 = pad_to_fixed_size(key_items[1],28,56)\n",
        "    if item1 is None or item2 is None: return None\n",
        "    result = np.concatenate((item1,item2), axis = 1)\n",
        "    return result \n",
        "  return None"
      ],
      "execution_count": 6,
      "outputs": []
    },
    {
      "cell_type": "code",
      "metadata": {
        "id": "hkoF49-AGwy_"
      },
      "source": [
        "def pre_processing(original, show_all=False, debug=False):\n",
        "  normalized_img = nomalize_img(original.copy())\n",
        "  if debug: plt.imshow(normalized_img); plt.show()\n",
        "  extract_stages, key_items = extract_key_item(normalized_img, show_all=show_all, debug=debug)\n",
        "  if debug: [(plt.imshow(item), plt.show()) for item in key_items]\n",
        "  result = merge_key_items(key_items)\n",
        "  #result = cv2.normalize(result, None, 0, 255, cv2.NORM_MINMAX, cv2.CV_8U)\n",
        "  #result = cv2.fastNlMeansDenoising(result, None, 3, 7)\n",
        "  #result = cv2.threshold(result, 65, 255, cv2.THRESH_BINARY)\n",
        "  #result = np.asarray(result)\n",
        "  if result is None: return normalized_img, None, False\n",
        "  stages = None\n",
        "  if show_all:\n",
        "    stages = [original, normalized_img, *extract_stages, *key_items, result]\n",
        "  return result, stages, True"
      ],
      "execution_count": 7,
      "outputs": []
    },
    {
      "cell_type": "code",
      "metadata": {
        "id": "n5_VqihgmpXu"
      },
      "source": [
        "def convert_labels_to_readables(labels):\n",
        "  readables = []\n",
        "  for label in labels:\n",
        "    l1 = np.argmax(label[0:10])\n",
        "    l2 = mapping[np.argmax(label[10:])]\n",
        "    readables.append((l1,l2,))\n",
        "  return readables"
      ],
      "execution_count": 8,
      "outputs": []
    },
    {
      "cell_type": "code",
      "metadata": {
        "id": "67D6zKQtpG8h"
      },
      "source": [
        "# show images\n",
        "def img_grid(row,col,imgs):\n",
        "  if imgs is None: return\n",
        "  for r in range(row):\n",
        "    fig, axs = plt.subplots(nrows=1, ncols=col, figsize=(7.,10.))\n",
        "    for i, ax in enumerate(axs.flatten()):\n",
        "        if(len(imgs) <= r*col+i): \n",
        "          return\n",
        "        plt.sca(ax)\n",
        "        plt.imshow(imgs[r*col+i])\n",
        "        #plt.colorbar()\n",
        "    plt.show()"
      ],
      "execution_count": 9,
      "outputs": []
    },
    {
      "cell_type": "code",
      "metadata": {
        "colab": {
          "base_uri": "https://localhost:8080/",
          "height": 249
        },
        "id": "uPnJcsozCud3",
        "outputId": "cb7553ed-24c6-45bf-8841-0597cdca519a"
      },
      "source": [
        "# Test the preprocessing functions\n",
        "for ind in np.random.choice(training_data.shape[0], 3, replace=False):\n",
        "  img = training_data[ind]\n",
        "  _, stages,_ = pre_processing(img, show_all=True)\n",
        "  if stages is not None: img_grid(1,len(stages),stages)"
      ],
      "execution_count": 10,
      "outputs": [
        {
          "output_type": "display_data",
          "data": {
            "image/png": "[encoded data removed]",
            "text/plain": [
              "<Figure size 504x720 with 8 Axes>"
            ]
          },
          "metadata": {
            "needs_background": "light"
          }
        },
        {
          "output_type": "display_data",
          "data": {
            "image/png": "[encoded data removed]",
            "text/plain": [
              "<Figure size 504x720 with 8 Axes>"
            ]
          },
          "metadata": {
            "needs_background": "light"
          }
        },
        {
          "output_type": "display_data",
          "data": {
            "image/png": "[encoded data removed]",
            "text/plain": [
              "<Figure size 504x720 with 8 Axes>"
            ]
          },
          "metadata": {
            "needs_background": "light"
          }
        }
      ]
    },
    {
      "cell_type": "code",
      "metadata": {
        "id": "SBJcLOQAXrKY"
      },
      "source": [
        "# transform all data to the output format\n",
        "def process_data(data):\n",
        "  output, bad_index = [], []\n",
        "  for i in range(len(data)):\n",
        "      result,_,valid = pre_processing(data[i])\n",
        "      output.append(result)\n",
        "      if not valid:\n",
        "        bad_index.append(i)\n",
        "  output = np.array(output).astype('float64')\n",
        "  return output, bad_index\n",
        "\n",
        "def normalize_data(data):\n",
        "  output = []\n",
        "  for i in range(len(data)):\n",
        "      output.append(nomalize_img(data[i].copy()))\n",
        "  output = np.array(output).astype('float64')\n",
        "  return output"
      ],
      "execution_count": 11,
      "outputs": []
    },
    {
      "cell_type": "code",
      "metadata": {
        "colab": {
          "base_uri": "https://localhost:8080/"
        },
        "id": "ntjjm_ejHulW",
        "outputId": "61ce2ba5-4b5d-4c56-e98a-c1cf388c3e09"
      },
      "source": [
        "normalized_training_data = normalize_data(training_data)\n",
        "processed_training_data, bad_training_index = process_data(training_data)\n",
        "\n",
        "print(f'Number of training data element unable to be separated: {len(bad_training_index)}')\n",
        "processed_training_data = np.delete(processed_training_data, bad_training_index, axis=0)\n",
        "processed_training_labels = np.delete(training_labels, bad_training_index, axis=0)\n",
        "# We append the processed to original as additional training data\n",
        "final_training_data = np.append(normalized_training_data, processed_training_data, axis=0)\n",
        "final_training_labels = np.append(training_labels, processed_training_labels, axis=0)\n",
        "\n",
        "print(final_training_data.shape)\n",
        "print(final_training_labels.shape)\n",
        "# Clean up to reduce memory footprint\n",
        "training_data, processed_training_data, normalized_training_data = None, None, None\n",
        "training_labels, processed_training_labels = None, None"
      ],
      "execution_count": 12,
      "outputs": [
        {
          "output_type": "stream",
          "name": "stdout",
          "text": [
            "Number of training data element unable to be separated: 4277\n",
            "(55723, 56, 56)\n",
            "(55723, 36)\n"
          ]
        }
      ]
    },
    {
      "cell_type": "code",
      "metadata": {
        "colab": {
          "base_uri": "https://localhost:8080/"
        },
        "id": "326fPZePHvh9",
        "outputId": "25918e0f-31c6-4e27-a44e-e44e2de007a2"
      },
      "source": [
        "processed_testing_data, bad_testing_index = process_data(testing_data)\n",
        "print(f'Number of test data element unable to be processed: {len(bad_testing_index)}')\n",
        "print(np.shape(processed_testing_data))\n",
        "testing_data = None"
      ],
      "execution_count": 60,
      "outputs": [
        {
          "output_type": "stream",
          "name": "stdout",
          "text": [
            "Number of test data element unable to be processed: 2066\n",
            "(15000, 56, 56)\n"
          ]
        }
      ]
    },
    {
      "cell_type": "code",
      "metadata": {
        "colab": {
          "base_uri": "https://localhost:8080/",
          "height": 239
        },
        "id": "Uy1lkBOmbE9w",
        "outputId": "c2989cc0-3311-4c84-dc94-c1d894dc6ad4"
      },
      "source": [
        "def show_random_sample(n):\n",
        "  index = np.random.choice(final_training_data.shape[0], n, replace=False)  \n",
        "  img_grid(n//5,5,final_training_data[index])\n",
        "  print(convert_labels_to_readables(final_training_labels[index]))\n",
        "show_random_sample(10)"
      ],
      "execution_count": 14,
      "outputs": [
        {
          "output_type": "display_data",
          "data": {
            "image/png": "[encoded data removed]",
            "text/plain": [
              "<Figure size 504x720 with 5 Axes>"
            ]
          },
          "metadata": {
            "needs_background": "light"
          }
        },
        {
          "output_type": "display_data",
          "data": {
            "image/png": "[encoded data removed]",
            "text/plain": [
              "<Figure size 504x720 with 5 Axes>"
            ]
          },
          "metadata": {
            "needs_background": "light"
          }
        },
        {
          "output_type": "stream",
          "name": "stdout",
          "text": [
            "[(8, 'd'), (5, 'w'), (9, 'r'), (7, 'n'), (9, 'r'), (9, 'p'), (4, 'v'), (9, 'a'), (6, 'r'), (7, 't')]\n"
          ]
        }
      ]
    },
    {
      "cell_type": "markdown",
      "metadata": {
        "id": "eo0NbFKGJDbi"
      },
      "source": [
        "Put the data into dataloader"
      ]
    },
    {
      "cell_type": "code",
      "metadata": {
        "id": "ef_-4cWkCud2"
      },
      "source": [
        "training_tensor = torch.from_numpy(final_training_data[:,None]).float()\n",
        "number_label_tensor = torch.from_numpy(np.argmax(final_training_labels[:,0:10],1))\n",
        "letter_label_tensor = torch.from_numpy(np.argmax(final_training_labels[:,10:36],1))\n",
        "multi_label_tensor = torch.stack((number_label_tensor,letter_label_tensor), axis=1)\n",
        "\n",
        "# mixed_label_tensor = torch.cat((number_label_tensor, letter_label_tensor), 0)\n",
        "# mixed_training_tensor = torch.cat((training_tensor, training_tensor), 0)\n",
        "# mixed_training_dataset = TensorDataset(mixed_training_tensor, mixed_label_tensor)\n",
        "# mixed_training_dataloader = DataLoader(mixed_training_dataset, batch_size=30, shuffle=True, num_workers=2)\n",
        "\n",
        "multi_training_dataset = TensorDataset(training_tensor, multi_label_tensor)\n",
        "multi_final_training_dataloader = DataLoader(multi_training_dataset, batch_size=30, shuffle=True, num_workers=2)\n",
        "\n",
        "train_size = int(0.9*len(multi_training_dataset))\n",
        "validation_size = len(multi_training_dataset)-train_size\n",
        "\n",
        "multi_training_dataset, multi_validation_dataset = random_split(multi_training_dataset, [train_size, validation_size])\n",
        "multi_training_dataloader = DataLoader(multi_training_dataset, batch_size=30, shuffle=True, num_workers=2)\n",
        "multi_validation_dataloader = DataLoader(multi_validation_dataset, batch_size=30, shuffle=True, num_workers=2)\n",
        "\n",
        "training_tensor, number_label_tensor, multi_label_tensor = None, None, None\n",
        "multi_training_dataset, multi_validation_dataset = None, None\n",
        "final_training_data, final_training_labels = None, None"
      ],
      "execution_count": 15,
      "outputs": []
    },
    {
      "cell_type": "markdown",
      "metadata": {
        "id": "7wL3AbTECud4"
      },
      "source": [
        "## Training Model"
      ]
    },
    {
      "cell_type": "markdown",
      "metadata": {
        "id": "F_VOUOUHcFZW"
      },
      "source": [
        "Initialize network validation and training function"
      ]
    },
    {
      "cell_type": "code",
      "metadata": {
        "id": "AwkzEV1q8TNm"
      },
      "source": [
        "def validate_model(model, validation_dataloader):\n",
        "  digit_acc, letter_acc = 0, 0\n",
        "  print(\"Starting Validation Iteration\")\n",
        "  for i, validation_data in enumerate(tqdm(validation_dataloader)):\n",
        "    inputs, labels = validation_data\n",
        "    o1, o2 = model(inputs)\n",
        "    l1, l2 = labels[:,0], labels[:,1]\n",
        "    digit_acc += torch.mean((torch.argmax(o1, dim=1) == l1).float()).float()\n",
        "    letter_acc += torch.mean((torch.argmax(o2, dim=1) == l2).float())\n",
        "  digit_acc = digit_acc/len(validation_dataloader)\n",
        "  letter_acc = letter_acc / len(validation_dataloader)\n",
        "  print(f'Digit Accuracy: {digit_acc.item()}, Letter Accuracy: {letter_acc.item()}')\n",
        "  return (digit_acc.item(), letter_acc.item())"
      ],
      "execution_count": 16,
      "outputs": []
    },
    {
      "cell_type": "code",
      "metadata": {
        "id": "H7Bsqq4ECud6"
      },
      "source": [
        "def train_network(net, dataloader, validation_dataloader, lr = 0.005, momentum = 0.9, max_epoch = 10, criterion = nn.CrossEntropyLoss()):\n",
        "  optimizer = optim.SGD(net.parameters(), lr=lr, momentum=momentum, weight_decay=1e-5)\n",
        "  running_loss = 0.0\n",
        "  digits_accs, letter_accs = [], []\n",
        "  for epoch in range(max_epoch):  # loop over the dataset multiple times\n",
        "      cnt = 0\n",
        "      print(\"Starting Training Iteration\")\n",
        "      for i, data in enumerate(tqdm(dataloader)):\n",
        "          inputs, labels = data\n",
        "          optimizer.zero_grad()\n",
        "          outputs = net(inputs)\n",
        "          loss = criterion(outputs, labels)\n",
        "          loss.backward()\n",
        "          optimizer.step()\n",
        "          running_loss += loss.item()\n",
        "          cnt+=1\n",
        "      print('[%d] loss: %.3f' % (epoch + 1, running_loss / cnt))\n",
        "      running_loss, cnt = 0.0, 0\n",
        "      digit_acc, letter_acc = validate_model(net, validation_dataloader)\n",
        "      digits_accs.append(digit_acc)\n",
        "      letter_accs.append(letter_acc)\n",
        "  return (digits_accs, letter_accs)"
      ],
      "execution_count": 17,
      "outputs": []
    },
    {
      "cell_type": "markdown",
      "metadata": {
        "id": "6Hjn-Gkl09aY"
      },
      "source": [
        "### Multi-Output Model"
      ]
    },
    {
      "cell_type": "markdown",
      "metadata": {
        "id": "8XVNq7TyM3nc"
      },
      "source": [
        "Initalize the Multilabel Model"
      ]
    },
    {
      "cell_type": "code",
      "metadata": {
        "id": "mzXNmXUTM870"
      },
      "source": [
        "class MultiNet(nn.Module):\n",
        "    def __init__(self):\n",
        "        super(MultiNet, self).__init__()\n",
        "         # 4 convolution layer\n",
        "        self.conv1 = nn.Conv2d(1, 20, 3, padding=1)\n",
        "        self.conv2 = nn.Conv2d(20, 20, 3, padding=1)\n",
        "        self.conv3 = nn.Conv2d(20, 30, 3, padding=1)\n",
        "        self.conv4 = nn.Conv2d(30, 30, 3, padding=1)\n",
        "        self.conv5 = nn.Conv2d(30, 40, 3, padding=1)\n",
        "        self.conv6 = nn.Conv2d(40, 40, 3, padding=1)\n",
        "\n",
        "        # 3 Dense Layer\n",
        "        self.fc1 = nn.Linear(40*6*6, 300)\n",
        "        self.fc2 = nn.Linear(300, 300)  \n",
        "        self.fc31 = nn.Linear(300, 10)\n",
        "        self.fc32 = nn.Linear(300, 26)\n",
        "\n",
        "    def forward(self, x):\n",
        "        # Convolution Layers\n",
        "        x = F.relu(self.conv1(x))\n",
        "        x = F.relu(self.conv2(x))\n",
        "        \n",
        "        x = F.max_pool2d(x, 3, stride=2)\n",
        "\n",
        "        x = F.relu(self.conv3(x))\n",
        "        x = F.relu(self.conv4(x))\n",
        "        \n",
        "        x = F.max_pool2d(x, 3, stride=2)\n",
        "\n",
        "        x = F.relu(self.conv5(x))\n",
        "        x = F.relu(self.conv6(x))\n",
        "\n",
        "        x = F.max_pool2d(x, 3, stride=2)\n",
        "        # print(x.size())\n",
        "        # Dense Layers\n",
        "        x = x.view(-1,self.num_flat_features(x)) # Flatten\n",
        "        x = F.relu(self.fc1(x))\n",
        "        x = F.relu(self.fc2(x))\n",
        "        l1 = F.relu(self.fc31(x))\n",
        "        l2 = F.relu(self.fc32(x))\n",
        "        return l1,l2\n",
        "    \n",
        "    def num_flat_features(self, x):\n",
        "        size = x.size()[1:]  # all dimensions except the batch dimension\n",
        "        num_features = 1\n",
        "        for s in size:\n",
        "            num_features *= s\n",
        "        return num_features"
      ],
      "execution_count": 48,
      "outputs": []
    },
    {
      "cell_type": "code",
      "metadata": {
        "id": "WbqQbojs5P0v",
        "outputId": "5b7ed869-8ea3-41be-8001-e4d7403209a5",
        "colab": {
          "base_uri": "https://localhost:8080/",
          "height": 718
        }
      },
      "source": [
        "def lr_test_bench():\n",
        "  for lr in [0.01, 0.001, 0.0001, 0.00001]:\n",
        "    multi_net = MultiNet()\n",
        "    multi_net_criterion = nn.CrossEntropyLoss()\n",
        "    lr, epoch = 0.001, 1 \n",
        "    def ml_criterion(output, labels):\n",
        "      o1, o2 = output\n",
        "      l1, l2 = labels[:,0], labels[:,1]\n",
        "      loss1 = multi_net_criterion(o1,l1)\n",
        "      loss2 = multi_net_criterion(o2,l2)\n",
        "      return loss1 + loss2\n",
        "    res = train_network(multi_net, multi_training_dataloader, multi_validation_dataloader, criterion=ml_criterion, lr=lr, max_epoch=1)\n",
        "lr_test_bench()"
      ],
      "execution_count": 49,
      "outputs": [
        {
          "output_type": "stream",
          "name": "stdout",
          "text": [
            "Starting Training Iteration\n"
          ]
        },
        {
          "output_type": "stream",
          "name": "stderr",
          "text": [
            "100%|██████████| 1672/1672 [05:40<00:00,  4.91it/s]\n"
          ]
        },
        {
          "output_type": "stream",
          "name": "stdout",
          "text": [
            "[1] loss: 5.116\n",
            "Starting Validation Iteration\n"
          ]
        },
        {
          "output_type": "stream",
          "name": "stderr",
          "text": [
            "100%|██████████| 186/186 [00:15<00:00, 11.80it/s]\n"
          ]
        },
        {
          "output_type": "stream",
          "name": "stdout",
          "text": [
            "Digit Accuracy: 0.677824079990387, Letter Accuracy: 0.20589850842952728\n",
            "Starting Training Iteration\n"
          ]
        },
        {
          "output_type": "stream",
          "name": "stderr",
          "text": [
            "100%|██████████| 1672/1672 [05:39<00:00,  4.92it/s]\n"
          ]
        },
        {
          "output_type": "stream",
          "name": "stdout",
          "text": [
            "[1] loss: 4.988\n",
            "Starting Validation Iteration\n"
          ]
        },
        {
          "output_type": "stream",
          "name": "stderr",
          "text": [
            "100%|██████████| 186/186 [00:15<00:00, 12.11it/s]\n"
          ]
        },
        {
          "output_type": "stream",
          "name": "stdout",
          "text": [
            "Digit Accuracy: 0.6827719807624817, Letter Accuracy: 0.2562022805213928\n",
            "Starting Training Iteration\n"
          ]
        },
        {
          "output_type": "stream",
          "name": "stderr",
          "text": [
            "100%|██████████| 1672/1672 [05:41<00:00,  4.90it/s]\n"
          ]
        },
        {
          "output_type": "stream",
          "name": "stdout",
          "text": [
            "[1] loss: 5.077\n",
            "Starting Validation Iteration\n"
          ]
        },
        {
          "output_type": "stream",
          "name": "stderr",
          "text": [
            "100%|██████████| 186/186 [00:15<00:00, 11.97it/s]\n"
          ]
        },
        {
          "output_type": "stream",
          "name": "stdout",
          "text": [
            "Digit Accuracy: 0.5773956179618835, Letter Accuracy: 0.22636747360229492\n",
            "Starting Training Iteration\n"
          ]
        },
        {
          "output_type": "stream",
          "name": "stderr",
          "text": [
            "  6%|▋         | 108/1672 [00:22<05:21,  4.87it/s]\n"
          ]
        },
        {
          "output_type": "error",
          "ename": "KeyboardInterrupt",
          "evalue": "ignored",
          "traceback": [
            "\u001b[0;31m---------------------------------------------------------------------------\u001b[0m",
            "\u001b[0;31mKeyboardInterrupt\u001b[0m                         Traceback (most recent call last)",
            "\u001b[0;32m<ipython-input-49-744fd3dcb268>\u001b[0m in \u001b[0;36m<module>\u001b[0;34m()\u001b[0m\n\u001b[1;32m     11\u001b[0m       \u001b[0;32mreturn\u001b[0m \u001b[0mloss1\u001b[0m \u001b[0;34m+\u001b[0m \u001b[0mloss2\u001b[0m\u001b[0;34m\u001b[0m\u001b[0;34m\u001b[0m\u001b[0m\n\u001b[1;32m     12\u001b[0m     \u001b[0mres\u001b[0m \u001b[0;34m=\u001b[0m \u001b[0mtrain_network\u001b[0m\u001b[0;34m(\u001b[0m\u001b[0mmulti_net\u001b[0m\u001b[0;34m,\u001b[0m \u001b[0mmulti_training_dataloader\u001b[0m\u001b[0;34m,\u001b[0m \u001b[0mmulti_validation_dataloader\u001b[0m\u001b[0;34m,\u001b[0m \u001b[0mcriterion\u001b[0m\u001b[0;34m=\u001b[0m\u001b[0mml_criterion\u001b[0m\u001b[0;34m,\u001b[0m \u001b[0mlr\u001b[0m\u001b[0;34m=\u001b[0m\u001b[0mlr\u001b[0m\u001b[0;34m,\u001b[0m \u001b[0mmax_epoch\u001b[0m\u001b[0;34m=\u001b[0m\u001b[0;36m1\u001b[0m\u001b[0;34m)\u001b[0m\u001b[0;34m\u001b[0m\u001b[0;34m\u001b[0m\u001b[0m\n\u001b[0;32m---> 13\u001b[0;31m \u001b[0mlr_test_bench\u001b[0m\u001b[0;34m(\u001b[0m\u001b[0;34m)\u001b[0m\u001b[0;34m\u001b[0m\u001b[0;34m\u001b[0m\u001b[0m\n\u001b[0m",
            "\u001b[0;32m<ipython-input-49-744fd3dcb268>\u001b[0m in \u001b[0;36mlr_test_bench\u001b[0;34m()\u001b[0m\n\u001b[1;32m     10\u001b[0m       \u001b[0mloss2\u001b[0m \u001b[0;34m=\u001b[0m \u001b[0mmulti_net_criterion\u001b[0m\u001b[0;34m(\u001b[0m\u001b[0mo2\u001b[0m\u001b[0;34m,\u001b[0m\u001b[0ml2\u001b[0m\u001b[0;34m)\u001b[0m\u001b[0;34m\u001b[0m\u001b[0;34m\u001b[0m\u001b[0m\n\u001b[1;32m     11\u001b[0m       \u001b[0;32mreturn\u001b[0m \u001b[0mloss1\u001b[0m \u001b[0;34m+\u001b[0m \u001b[0mloss2\u001b[0m\u001b[0;34m\u001b[0m\u001b[0;34m\u001b[0m\u001b[0m\n\u001b[0;32m---> 12\u001b[0;31m     \u001b[0mres\u001b[0m \u001b[0;34m=\u001b[0m \u001b[0mtrain_network\u001b[0m\u001b[0;34m(\u001b[0m\u001b[0mmulti_net\u001b[0m\u001b[0;34m,\u001b[0m \u001b[0mmulti_training_dataloader\u001b[0m\u001b[0;34m,\u001b[0m \u001b[0mmulti_validation_dataloader\u001b[0m\u001b[0;34m,\u001b[0m \u001b[0mcriterion\u001b[0m\u001b[0;34m=\u001b[0m\u001b[0mml_criterion\u001b[0m\u001b[0;34m,\u001b[0m \u001b[0mlr\u001b[0m\u001b[0;34m=\u001b[0m\u001b[0mlr\u001b[0m\u001b[0;34m,\u001b[0m \u001b[0mmax_epoch\u001b[0m\u001b[0;34m=\u001b[0m\u001b[0;36m1\u001b[0m\u001b[0;34m)\u001b[0m\u001b[0;34m\u001b[0m\u001b[0;34m\u001b[0m\u001b[0m\n\u001b[0m\u001b[1;32m     13\u001b[0m \u001b[0mlr_test_bench\u001b[0m\u001b[0;34m(\u001b[0m\u001b[0;34m)\u001b[0m\u001b[0;34m\u001b[0m\u001b[0;34m\u001b[0m\u001b[0m\n",
            "\u001b[0;32m<ipython-input-17-f5bad5c68461>\u001b[0m in \u001b[0;36mtrain_network\u001b[0;34m(net, dataloader, validation_dataloader, lr, momentum, max_epoch, criterion)\u001b[0m\n\u001b[1;32m      9\u001b[0m           \u001b[0minputs\u001b[0m\u001b[0;34m,\u001b[0m \u001b[0mlabels\u001b[0m \u001b[0;34m=\u001b[0m \u001b[0mdata\u001b[0m\u001b[0;34m\u001b[0m\u001b[0;34m\u001b[0m\u001b[0m\n\u001b[1;32m     10\u001b[0m           \u001b[0moptimizer\u001b[0m\u001b[0;34m.\u001b[0m\u001b[0mzero_grad\u001b[0m\u001b[0;34m(\u001b[0m\u001b[0;34m)\u001b[0m\u001b[0;34m\u001b[0m\u001b[0;34m\u001b[0m\u001b[0m\n\u001b[0;32m---> 11\u001b[0;31m           \u001b[0moutputs\u001b[0m \u001b[0;34m=\u001b[0m \u001b[0mnet\u001b[0m\u001b[0;34m(\u001b[0m\u001b[0minputs\u001b[0m\u001b[0;34m)\u001b[0m\u001b[0;34m\u001b[0m\u001b[0;34m\u001b[0m\u001b[0m\n\u001b[0m\u001b[1;32m     12\u001b[0m           \u001b[0mloss\u001b[0m \u001b[0;34m=\u001b[0m \u001b[0mcriterion\u001b[0m\u001b[0;34m(\u001b[0m\u001b[0moutputs\u001b[0m\u001b[0;34m,\u001b[0m \u001b[0mlabels\u001b[0m\u001b[0;34m)\u001b[0m\u001b[0;34m\u001b[0m\u001b[0;34m\u001b[0m\u001b[0m\n\u001b[1;32m     13\u001b[0m           \u001b[0mloss\u001b[0m\u001b[0;34m.\u001b[0m\u001b[0mbackward\u001b[0m\u001b[0;34m(\u001b[0m\u001b[0;34m)\u001b[0m\u001b[0;34m\u001b[0m\u001b[0;34m\u001b[0m\u001b[0m\n",
            "\u001b[0;32m/usr/local/lib/python3.7/dist-packages/torch/nn/modules/module.py\u001b[0m in \u001b[0;36m_call_impl\u001b[0;34m(self, *input, **kwargs)\u001b[0m\n\u001b[1;32m   1100\u001b[0m         if not (self._backward_hooks or self._forward_hooks or self._forward_pre_hooks or _global_backward_hooks\n\u001b[1;32m   1101\u001b[0m                 or _global_forward_hooks or _global_forward_pre_hooks):\n\u001b[0;32m-> 1102\u001b[0;31m             \u001b[0;32mreturn\u001b[0m \u001b[0mforward_call\u001b[0m\u001b[0;34m(\u001b[0m\u001b[0;34m*\u001b[0m\u001b[0minput\u001b[0m\u001b[0;34m,\u001b[0m \u001b[0;34m**\u001b[0m\u001b[0mkwargs\u001b[0m\u001b[0;34m)\u001b[0m\u001b[0;34m\u001b[0m\u001b[0;34m\u001b[0m\u001b[0m\n\u001b[0m\u001b[1;32m   1103\u001b[0m         \u001b[0;31m# Do not call functions when jit is used\u001b[0m\u001b[0;34m\u001b[0m\u001b[0;34m\u001b[0m\u001b[0;34m\u001b[0m\u001b[0m\n\u001b[1;32m   1104\u001b[0m         \u001b[0mfull_backward_hooks\u001b[0m\u001b[0;34m,\u001b[0m \u001b[0mnon_full_backward_hooks\u001b[0m \u001b[0;34m=\u001b[0m \u001b[0;34m[\u001b[0m\u001b[0;34m]\u001b[0m\u001b[0;34m,\u001b[0m \u001b[0;34m[\u001b[0m\u001b[0;34m]\u001b[0m\u001b[0;34m\u001b[0m\u001b[0;34m\u001b[0m\u001b[0m\n",
            "\u001b[0;32m<ipython-input-48-c71e9fe50c13>\u001b[0m in \u001b[0;36mforward\u001b[0;34m(self, x)\u001b[0m\n\u001b[1;32m     23\u001b[0m         \u001b[0mx\u001b[0m \u001b[0;34m=\u001b[0m \u001b[0mF\u001b[0m\u001b[0;34m.\u001b[0m\u001b[0mmax_pool2d\u001b[0m\u001b[0;34m(\u001b[0m\u001b[0mx\u001b[0m\u001b[0;34m,\u001b[0m \u001b[0;36m3\u001b[0m\u001b[0;34m,\u001b[0m \u001b[0mstride\u001b[0m\u001b[0;34m=\u001b[0m\u001b[0;36m2\u001b[0m\u001b[0;34m)\u001b[0m\u001b[0;34m\u001b[0m\u001b[0;34m\u001b[0m\u001b[0m\n\u001b[1;32m     24\u001b[0m \u001b[0;34m\u001b[0m\u001b[0m\n\u001b[0;32m---> 25\u001b[0;31m         \u001b[0mx\u001b[0m \u001b[0;34m=\u001b[0m \u001b[0mF\u001b[0m\u001b[0;34m.\u001b[0m\u001b[0mrelu\u001b[0m\u001b[0;34m(\u001b[0m\u001b[0mself\u001b[0m\u001b[0;34m.\u001b[0m\u001b[0mconv3\u001b[0m\u001b[0;34m(\u001b[0m\u001b[0mx\u001b[0m\u001b[0;34m)\u001b[0m\u001b[0;34m)\u001b[0m\u001b[0;34m\u001b[0m\u001b[0;34m\u001b[0m\u001b[0m\n\u001b[0m\u001b[1;32m     26\u001b[0m         \u001b[0mx\u001b[0m \u001b[0;34m=\u001b[0m \u001b[0mF\u001b[0m\u001b[0;34m.\u001b[0m\u001b[0mrelu\u001b[0m\u001b[0;34m(\u001b[0m\u001b[0mself\u001b[0m\u001b[0;34m.\u001b[0m\u001b[0mconv4\u001b[0m\u001b[0;34m(\u001b[0m\u001b[0mx\u001b[0m\u001b[0;34m)\u001b[0m\u001b[0;34m)\u001b[0m\u001b[0;34m\u001b[0m\u001b[0;34m\u001b[0m\u001b[0m\n\u001b[1;32m     27\u001b[0m \u001b[0;34m\u001b[0m\u001b[0m\n",
            "\u001b[0;32m/usr/local/lib/python3.7/dist-packages/torch/nn/modules/module.py\u001b[0m in \u001b[0;36m_call_impl\u001b[0;34m(self, *input, **kwargs)\u001b[0m\n\u001b[1;32m   1100\u001b[0m         if not (self._backward_hooks or self._forward_hooks or self._forward_pre_hooks or _global_backward_hooks\n\u001b[1;32m   1101\u001b[0m                 or _global_forward_hooks or _global_forward_pre_hooks):\n\u001b[0;32m-> 1102\u001b[0;31m             \u001b[0;32mreturn\u001b[0m \u001b[0mforward_call\u001b[0m\u001b[0;34m(\u001b[0m\u001b[0;34m*\u001b[0m\u001b[0minput\u001b[0m\u001b[0;34m,\u001b[0m \u001b[0;34m**\u001b[0m\u001b[0mkwargs\u001b[0m\u001b[0;34m)\u001b[0m\u001b[0;34m\u001b[0m\u001b[0;34m\u001b[0m\u001b[0m\n\u001b[0m\u001b[1;32m   1103\u001b[0m         \u001b[0;31m# Do not call functions when jit is used\u001b[0m\u001b[0;34m\u001b[0m\u001b[0;34m\u001b[0m\u001b[0;34m\u001b[0m\u001b[0m\n\u001b[1;32m   1104\u001b[0m         \u001b[0mfull_backward_hooks\u001b[0m\u001b[0;34m,\u001b[0m \u001b[0mnon_full_backward_hooks\u001b[0m \u001b[0;34m=\u001b[0m \u001b[0;34m[\u001b[0m\u001b[0;34m]\u001b[0m\u001b[0;34m,\u001b[0m \u001b[0;34m[\u001b[0m\u001b[0;34m]\u001b[0m\u001b[0;34m\u001b[0m\u001b[0;34m\u001b[0m\u001b[0m\n",
            "\u001b[0;32m/usr/local/lib/python3.7/dist-packages/torch/nn/modules/conv.py\u001b[0m in \u001b[0;36mforward\u001b[0;34m(self, input)\u001b[0m\n\u001b[1;32m    444\u001b[0m \u001b[0;34m\u001b[0m\u001b[0m\n\u001b[1;32m    445\u001b[0m     \u001b[0;32mdef\u001b[0m \u001b[0mforward\u001b[0m\u001b[0;34m(\u001b[0m\u001b[0mself\u001b[0m\u001b[0;34m,\u001b[0m \u001b[0minput\u001b[0m\u001b[0;34m:\u001b[0m \u001b[0mTensor\u001b[0m\u001b[0;34m)\u001b[0m \u001b[0;34m->\u001b[0m \u001b[0mTensor\u001b[0m\u001b[0;34m:\u001b[0m\u001b[0;34m\u001b[0m\u001b[0;34m\u001b[0m\u001b[0m\n\u001b[0;32m--> 446\u001b[0;31m         \u001b[0;32mreturn\u001b[0m \u001b[0mself\u001b[0m\u001b[0;34m.\u001b[0m\u001b[0m_conv_forward\u001b[0m\u001b[0;34m(\u001b[0m\u001b[0minput\u001b[0m\u001b[0;34m,\u001b[0m \u001b[0mself\u001b[0m\u001b[0;34m.\u001b[0m\u001b[0mweight\u001b[0m\u001b[0;34m,\u001b[0m \u001b[0mself\u001b[0m\u001b[0;34m.\u001b[0m\u001b[0mbias\u001b[0m\u001b[0;34m)\u001b[0m\u001b[0;34m\u001b[0m\u001b[0;34m\u001b[0m\u001b[0m\n\u001b[0m\u001b[1;32m    447\u001b[0m \u001b[0;34m\u001b[0m\u001b[0m\n\u001b[1;32m    448\u001b[0m \u001b[0;32mclass\u001b[0m \u001b[0mConv3d\u001b[0m\u001b[0;34m(\u001b[0m\u001b[0m_ConvNd\u001b[0m\u001b[0;34m)\u001b[0m\u001b[0;34m:\u001b[0m\u001b[0;34m\u001b[0m\u001b[0;34m\u001b[0m\u001b[0m\n",
            "\u001b[0;32m/usr/local/lib/python3.7/dist-packages/torch/nn/modules/conv.py\u001b[0m in \u001b[0;36m_conv_forward\u001b[0;34m(self, input, weight, bias)\u001b[0m\n\u001b[1;32m    441\u001b[0m                             _pair(0), self.dilation, self.groups)\n\u001b[1;32m    442\u001b[0m         return F.conv2d(input, weight, bias, self.stride,\n\u001b[0;32m--> 443\u001b[0;31m                         self.padding, self.dilation, self.groups)\n\u001b[0m\u001b[1;32m    444\u001b[0m \u001b[0;34m\u001b[0m\u001b[0m\n\u001b[1;32m    445\u001b[0m     \u001b[0;32mdef\u001b[0m \u001b[0mforward\u001b[0m\u001b[0;34m(\u001b[0m\u001b[0mself\u001b[0m\u001b[0;34m,\u001b[0m \u001b[0minput\u001b[0m\u001b[0;34m:\u001b[0m \u001b[0mTensor\u001b[0m\u001b[0;34m)\u001b[0m \u001b[0;34m->\u001b[0m \u001b[0mTensor\u001b[0m\u001b[0;34m:\u001b[0m\u001b[0;34m\u001b[0m\u001b[0;34m\u001b[0m\u001b[0m\n",
            "\u001b[0;31mKeyboardInterrupt\u001b[0m: "
          ]
        }
      ]
    },
    {
      "cell_type": "code",
      "metadata": {
        "colab": {
          "base_uri": "https://localhost:8080/"
        },
        "id": "-nTa_yc4NHi3",
        "outputId": "44ed8722-955a-4061-d529-62b14dc23c79"
      },
      "source": [
        "def train_model(multi_net = MultiNet(), lr = 0.001, epoch = 1):\n",
        "  multi_net_criterion = nn.CrossEntropyLoss()\n",
        "  \n",
        "  def ml_criterion(output, labels):\n",
        "    o1, o2 = output\n",
        "    l1, l2 = labels[:,0], labels[:,1]\n",
        "    loss1 = multi_net_criterion(o1,l1)\n",
        "    loss2 = multi_net_criterion(o2,l2)\n",
        "    return loss1 + loss2\n",
        "  res = train_network(multi_net, multi_training_dataloader, multi_validation_dataloader, criterion=ml_criterion, lr=lr, max_epoch=epoch)\n",
        "  digit_accuracies, letter_accuracies = res\n",
        "  return multi_net\n",
        "multi_net = train_model()"
      ],
      "execution_count": 28,
      "outputs": [
        {
          "output_type": "stream",
          "name": "stdout",
          "text": [
            "Starting Training Iteration\n"
          ]
        },
        {
          "output_type": "stream",
          "name": "stderr",
          "text": [
            "100%|██████████| 1672/1672 [05:38<00:00,  4.94it/s]\n"
          ]
        },
        {
          "output_type": "stream",
          "name": "stdout",
          "text": [
            "[1] loss: 5.446\n",
            "Starting Validation Iteration\n"
          ]
        },
        {
          "output_type": "stream",
          "name": "stderr",
          "text": [
            "100%|██████████| 186/186 [00:13<00:00, 13.91it/s]"
          ]
        },
        {
          "output_type": "stream",
          "name": "stdout",
          "text": [
            "Digit Accuracy: 0.29023680090904236, Letter Accuracy: 0.07066391408443451\n"
          ]
        },
        {
          "output_type": "stream",
          "name": "stderr",
          "text": [
            "\n"
          ]
        }
      ]
    },
    {
      "cell_type": "code",
      "metadata": {
        "id": "fucqBWFgTMzz",
        "outputId": "ef32ca66-4902-43c3-d942-e9733bf6dd41",
        "colab": {
          "base_uri": "https://localhost:8080/"
        }
      },
      "source": [
        "# Run more epoch here if find a good model\n",
        "multi_net = train_model(lr=0.002, epoch=5)"
      ],
      "execution_count": 50,
      "outputs": [
        {
          "output_type": "stream",
          "name": "stdout",
          "text": [
            "Starting Training Iteration\n"
          ]
        },
        {
          "output_type": "stream",
          "name": "stderr",
          "text": [
            "100%|██████████| 1672/1672 [05:38<00:00,  4.93it/s]\n"
          ]
        },
        {
          "output_type": "stream",
          "name": "stdout",
          "text": [
            "[1] loss: 0.341\n",
            "Starting Validation Iteration\n"
          ]
        },
        {
          "output_type": "stream",
          "name": "stderr",
          "text": [
            "100%|██████████| 186/186 [00:13<00:00, 14.25it/s]\n"
          ]
        },
        {
          "output_type": "stream",
          "name": "stdout",
          "text": [
            "Digit Accuracy: 0.9148902297019958, Letter Accuracy: 0.8054079413414001\n",
            "Starting Training Iteration\n"
          ]
        },
        {
          "output_type": "stream",
          "name": "stderr",
          "text": [
            "100%|██████████| 1672/1672 [05:41<00:00,  4.89it/s]\n"
          ]
        },
        {
          "output_type": "stream",
          "name": "stdout",
          "text": [
            "[2] loss: 0.283\n",
            "Starting Validation Iteration\n"
          ]
        },
        {
          "output_type": "stream",
          "name": "stderr",
          "text": [
            "100%|██████████| 186/186 [00:13<00:00, 14.15it/s]\n"
          ]
        },
        {
          "output_type": "stream",
          "name": "stdout",
          "text": [
            "Digit Accuracy: 0.9105344414710999, Letter Accuracy: 0.8058208227157593\n",
            "Starting Training Iteration\n"
          ]
        },
        {
          "output_type": "stream",
          "name": "stderr",
          "text": [
            "100%|██████████| 1672/1672 [05:40<00:00,  4.90it/s]\n"
          ]
        },
        {
          "output_type": "stream",
          "name": "stdout",
          "text": [
            "[3] loss: 0.254\n",
            "Starting Validation Iteration\n"
          ]
        },
        {
          "output_type": "stream",
          "name": "stderr",
          "text": [
            "100%|██████████| 186/186 [00:13<00:00, 14.10it/s]\n"
          ]
        },
        {
          "output_type": "stream",
          "name": "stdout",
          "text": [
            "Digit Accuracy: 0.9198923707008362, Letter Accuracy: 0.8150697946548462\n",
            "Starting Training Iteration\n"
          ]
        },
        {
          "output_type": "stream",
          "name": "stderr",
          "text": [
            "100%|██████████| 1672/1672 [05:40<00:00,  4.90it/s]\n"
          ]
        },
        {
          "output_type": "stream",
          "name": "stdout",
          "text": [
            "[4] loss: 0.237\n",
            "Starting Validation Iteration\n"
          ]
        },
        {
          "output_type": "stream",
          "name": "stderr",
          "text": [
            "100%|██████████| 186/186 [00:13<00:00, 14.25it/s]\n"
          ]
        },
        {
          "output_type": "stream",
          "name": "stdout",
          "text": [
            "Digit Accuracy: 0.9161989688873291, Letter Accuracy: 0.8239756226539612\n",
            "Starting Training Iteration\n"
          ]
        },
        {
          "output_type": "stream",
          "name": "stderr",
          "text": [
            "100%|██████████| 1672/1672 [05:40<00:00,  4.91it/s]\n"
          ]
        },
        {
          "output_type": "stream",
          "name": "stdout",
          "text": [
            "[5] loss: 0.198\n",
            "Starting Validation Iteration\n"
          ]
        },
        {
          "output_type": "stream",
          "name": "stderr",
          "text": [
            "100%|██████████| 186/186 [00:12<00:00, 14.31it/s]"
          ]
        },
        {
          "output_type": "stream",
          "name": "stdout",
          "text": [
            "Digit Accuracy: 0.9170951247215271, Letter Accuracy: 0.805212676525116\n"
          ]
        },
        {
          "output_type": "stream",
          "name": "stderr",
          "text": [
            "\n"
          ]
        }
      ]
    },
    {
      "cell_type": "markdown",
      "metadata": {
        "id": "9qTAPelZCud7"
      },
      "source": [
        "## Testing Model"
      ]
    },
    {
      "cell_type": "markdown",
      "metadata": {
        "id": "VyHpvnsdJXN8"
      },
      "source": [
        "Test the multi output network"
      ]
    },
    {
      "cell_type": "code",
      "metadata": {
        "id": "RvF7XMKAJb0o"
      },
      "source": [
        "img_grid(2,5,final_training_data[200:210])\n",
        "l1,l2 = multi_net(torch.from_numpy(final_training_data[200:210,None]).float())\n",
        "letter_prediction = list(map(lambda x: mapping[x], np.argmax(l2.detach().numpy(),axis=1)))\n",
        "prediction = list(zip(np.argmax(l1.detach().numpy(),axis=1),letter_prediction))\n",
        "print(prediction)"
      ],
      "execution_count": null,
      "outputs": []
    },
    {
      "cell_type": "markdown",
      "metadata": {
        "id": "4VlH7E76Cud7"
      },
      "source": [
        "## Results"
      ]
    },
    {
      "cell_type": "code",
      "metadata": {
        "id": "wAIRS86Cw5xJ"
      },
      "source": [
        "testing_tensor = torch.from_numpy(processed_testing_data[:,None]).float()\n",
        "testing_dataset = TensorDataset(testing_tensor)\n",
        "testing_data_loader = DataLoader(testing_dataset, batch_size=100, num_workers=2)\n",
        "processed_testing_data, testing_tensor, testing_dataset = None, None, None"
      ],
      "execution_count": 61,
      "outputs": []
    },
    {
      "cell_type": "code",
      "metadata": {
        "id": "iB7GDwKTNFOd",
        "colab": {
          "base_uri": "https://localhost:8080/"
        },
        "outputId": "177db286-b1a2-440a-a3b1-0dd8c99a6598"
      },
      "source": [
        "def LabelToString(label, isDigit):\n",
        "  s = \"\"\n",
        "  r = 0\n",
        "  if (isDigit):\n",
        "    r = 10\n",
        "  else:\n",
        "    r = 26\n",
        "  for i in range(0, r):\n",
        "    if (i == label):\n",
        "      s += '1'\n",
        "    else:\n",
        "      s += '0'\n",
        "  return s\n",
        "multi_net = MultiNet()\n",
        "category, ids = [], []\n",
        "id = 0\n",
        "for data in tqdm(testing_data_loader):\n",
        "  input, = data\n",
        "  l1,l2 = multi_net(input)\n",
        "  l1 = torch.argmax(l1, axis=1)\n",
        "  l2 = torch.argmax(l2, axis=1)\n",
        "  for i in range(0, len(l1)):\n",
        "    a = LabelToString(l1[i], True)\n",
        "    b = LabelToString(l2[i], False)\n",
        "    category.append(a+b)\n",
        "    ids.append(id)\n",
        "    id += 1"
      ],
      "execution_count": 62,
      "outputs": [
        {
          "output_type": "stream",
          "name": "stderr",
          "text": [
            "100%|██████████| 150/150 [00:40<00:00,  3.68it/s]\n"
          ]
        }
      ]
    },
    {
      "cell_type": "code",
      "metadata": {
        "colab": {
          "base_uri": "https://localhost:8080/"
        },
        "id": "mxYZsufbCud8",
        "outputId": "4ec0818a-f2fe-4401-887e-97fe1d23d73b"
      },
      "source": [
        "# need to create data dict\n",
        "data = {\n",
        "    '# Id' : ids,\n",
        "    'Category' : category\n",
        "}\n",
        "\n",
        "df = pd.DataFrame(data=data, columns= ['# Id', 'Category'])\n",
        "print(df)\n",
        "df.to_csv('/content/drive/My Drive/data/results.csv', index = False, header=True)"
      ],
      "execution_count": 63,
      "outputs": [
        {
          "output_type": "stream",
          "name": "stdout",
          "text": [
            "        # Id                              Category\n",
            "0          0  001000000000000000000001000000000000\n",
            "1          1  001000000000000000000001000000000000\n",
            "2          2  001000000000000000000001000000000000\n",
            "3          3  001000000000000000000001000000000000\n",
            "4          4  001000000000000000000001000000000000\n",
            "...      ...                                   ...\n",
            "14995  14995  001000000000000000000001000000000000\n",
            "14996  14996  001000000000000000000001000000000000\n",
            "14997  14997  001000000000000000000001000000000000\n",
            "14998  14998  001000000000000000000001000000000000\n",
            "14999  14999  001000000000000000000001000000000000\n",
            "\n",
            "[15000 rows x 2 columns]\n"
          ]
        }
      ]
    }
  ]
}